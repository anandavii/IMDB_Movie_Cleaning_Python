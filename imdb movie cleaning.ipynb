{
 "cells": [
  {
   "cell_type": "markdown",
   "metadata": {},
   "source": [
    "# IMDB Movie Dataset Cleaning"
   ]
  },
  {
   "cell_type": "markdown",
   "metadata": {},
   "source": [
    "### Import Pandas Library"
   ]
  },
  {
   "cell_type": "code",
   "execution_count": 273,
   "metadata": {},
   "outputs": [],
   "source": [
    "import pandas as pd"
   ]
  },
  {
   "cell_type": "markdown",
   "metadata": {},
   "source": [
    "### Read the data file"
   ]
  },
  {
   "cell_type": "code",
   "execution_count": 274,
   "metadata": {},
   "outputs": [
    {
     "data": {
      "text/html": [
       "<div>\n",
       "<style scoped>\n",
       "    .dataframe tbody tr th:only-of-type {\n",
       "        vertical-align: middle;\n",
       "    }\n",
       "\n",
       "    .dataframe tbody tr th {\n",
       "        vertical-align: top;\n",
       "    }\n",
       "\n",
       "    .dataframe thead th {\n",
       "        text-align: right;\n",
       "    }\n",
       "</style>\n",
       "<table border=\"1\" class=\"dataframe\">\n",
       "  <thead>\n",
       "    <tr style=\"text-align: right;\">\n",
       "      <th></th>\n",
       "      <th>imdb_title_id</th>\n",
       "      <th>title</th>\n",
       "      <th>original_title</th>\n",
       "      <th>year</th>\n",
       "      <th>date_published</th>\n",
       "      <th>genre</th>\n",
       "      <th>duration</th>\n",
       "      <th>country</th>\n",
       "      <th>language</th>\n",
       "      <th>director</th>\n",
       "      <th>writer</th>\n",
       "      <th>production_company</th>\n",
       "      <th>actors</th>\n",
       "      <th>description</th>\n",
       "      <th>avg_vote</th>\n",
       "      <th>votes</th>\n",
       "      <th>budget</th>\n",
       "      <th>usa_gross_income</th>\n",
       "      <th>worlwide_gross_income</th>\n",
       "      <th>metascore</th>\n",
       "      <th>reviews_from_users</th>\n",
       "      <th>reviews_from_critics</th>\n",
       "    </tr>\n",
       "  </thead>\n",
       "  <tbody>\n",
       "    <tr>\n",
       "      <th>11448</th>\n",
       "      <td>tt0057016</td>\n",
       "      <td>Duello nel Texas</td>\n",
       "      <td>Duello nel Texas</td>\n",
       "      <td>1963</td>\n",
       "      <td>1963-09-19</td>\n",
       "      <td>Action, Drama, Romance</td>\n",
       "      <td>97</td>\n",
       "      <td>Spain, Italy</td>\n",
       "      <td>Spanish, Italian</td>\n",
       "      <td>Ricardo Blasco</td>\n",
       "      <td>James Donald Prindle, Albert Band</td>\n",
       "      <td>Jolly Film</td>\n",
       "      <td>Richard Harrison, Giacomo Rossi Stuart, Mikael...</td>\n",
       "      <td>An avenging stranger guns down a gang of ruthl...</td>\n",
       "      <td>5.5</td>\n",
       "      <td>260</td>\n",
       "      <td>NaN</td>\n",
       "      <td>NaN</td>\n",
       "      <td>NaN</td>\n",
       "      <td>NaN</td>\n",
       "      <td>10.0</td>\n",
       "      <td>2.0</td>\n",
       "    </tr>\n",
       "    <tr>\n",
       "      <th>13155</th>\n",
       "      <td>tt0061933</td>\n",
       "      <td>Madamigella di Maupin</td>\n",
       "      <td>Madamigella di Maupin</td>\n",
       "      <td>1966</td>\n",
       "      <td>1966-01-08</td>\n",
       "      <td>Action, Adventure, Romance</td>\n",
       "      <td>95</td>\n",
       "      <td>Italy, France, Yugoslavia, Spain</td>\n",
       "      <td>French</td>\n",
       "      <td>Mauro Bolognini</td>\n",
       "      <td>José Gutiérrez Maesso, Théophile Gautier</td>\n",
       "      <td>Jolly Film</td>\n",
       "      <td>Catherine Spaak, Robert Hossein, Tomas Milian,...</td>\n",
       "      <td>Mlle de Maupin escapes from her uncle's castle...</td>\n",
       "      <td>6.2</td>\n",
       "      <td>137</td>\n",
       "      <td>NaN</td>\n",
       "      <td>NaN</td>\n",
       "      <td>NaN</td>\n",
       "      <td>NaN</td>\n",
       "      <td>2.0</td>\n",
       "      <td>1.0</td>\n",
       "    </tr>\n",
       "  </tbody>\n",
       "</table>\n",
       "</div>"
      ],
      "text/plain": [
       "      imdb_title_id                  title         original_title  year  \\\n",
       "11448     tt0057016       Duello nel Texas       Duello nel Texas  1963   \n",
       "13155     tt0061933  Madamigella di Maupin  Madamigella di Maupin  1966   \n",
       "\n",
       "      date_published                       genre  duration  \\\n",
       "11448     1963-09-19      Action, Drama, Romance        97   \n",
       "13155     1966-01-08  Action, Adventure, Romance        95   \n",
       "\n",
       "                                country          language         director  \\\n",
       "11448                      Spain, Italy  Spanish, Italian   Ricardo Blasco   \n",
       "13155  Italy, France, Yugoslavia, Spain            French  Mauro Bolognini   \n",
       "\n",
       "                                         writer production_company  \\\n",
       "11448         James Donald Prindle, Albert Band         Jolly Film   \n",
       "13155  José Gutiérrez Maesso, Théophile Gautier         Jolly Film   \n",
       "\n",
       "                                                  actors  \\\n",
       "11448  Richard Harrison, Giacomo Rossi Stuart, Mikael...   \n",
       "13155  Catherine Spaak, Robert Hossein, Tomas Milian,...   \n",
       "\n",
       "                                             description  avg_vote  votes  \\\n",
       "11448  An avenging stranger guns down a gang of ruthl...       5.5    260   \n",
       "13155  Mlle de Maupin escapes from her uncle's castle...       6.2    137   \n",
       "\n",
       "      budget usa_gross_income worlwide_gross_income  metascore  \\\n",
       "11448    NaN              NaN                   NaN        NaN   \n",
       "13155    NaN              NaN                   NaN        NaN   \n",
       "\n",
       "       reviews_from_users  reviews_from_critics  \n",
       "11448                10.0                   2.0  \n",
       "13155                 2.0                   1.0  "
      ]
     },
     "execution_count": 274,
     "metadata": {},
     "output_type": "execute_result"
    }
   ],
   "source": [
    "df = pd.read_csv(r\"datasource/imdb_movies.csv\", encoding='unicode_escape', low_memory=False)\n",
    "df.sample(2)"
   ]
  },
  {
   "cell_type": "markdown",
   "metadata": {},
   "source": [
    "### Set the column width to maximum to display all the columns"
   ]
  },
  {
   "cell_type": "code",
   "execution_count": 275,
   "metadata": {},
   "outputs": [
    {
     "data": {
      "text/html": [
       "<div>\n",
       "<style scoped>\n",
       "    .dataframe tbody tr th:only-of-type {\n",
       "        vertical-align: middle;\n",
       "    }\n",
       "\n",
       "    .dataframe tbody tr th {\n",
       "        vertical-align: top;\n",
       "    }\n",
       "\n",
       "    .dataframe thead th {\n",
       "        text-align: right;\n",
       "    }\n",
       "</style>\n",
       "<table border=\"1\" class=\"dataframe\">\n",
       "  <thead>\n",
       "    <tr style=\"text-align: right;\">\n",
       "      <th></th>\n",
       "      <th>imdb_title_id</th>\n",
       "      <th>title</th>\n",
       "      <th>original_title</th>\n",
       "      <th>year</th>\n",
       "      <th>date_published</th>\n",
       "      <th>genre</th>\n",
       "      <th>duration</th>\n",
       "      <th>country</th>\n",
       "      <th>language</th>\n",
       "      <th>director</th>\n",
       "      <th>writer</th>\n",
       "      <th>production_company</th>\n",
       "      <th>actors</th>\n",
       "      <th>description</th>\n",
       "      <th>avg_vote</th>\n",
       "      <th>votes</th>\n",
       "      <th>budget</th>\n",
       "      <th>usa_gross_income</th>\n",
       "      <th>worlwide_gross_income</th>\n",
       "      <th>metascore</th>\n",
       "      <th>reviews_from_users</th>\n",
       "      <th>reviews_from_critics</th>\n",
       "    </tr>\n",
       "  </thead>\n",
       "  <tbody>\n",
       "    <tr>\n",
       "      <th>0</th>\n",
       "      <td>tt0000009</td>\n",
       "      <td>Miss Jerry</td>\n",
       "      <td>Miss Jerry</td>\n",
       "      <td>1894</td>\n",
       "      <td>1894-10-09</td>\n",
       "      <td>Romance</td>\n",
       "      <td>45</td>\n",
       "      <td>USA</td>\n",
       "      <td>NaN</td>\n",
       "      <td>Alexander Black</td>\n",
       "      <td>Alexander Black</td>\n",
       "      <td>Alexander Black Photoplays</td>\n",
       "      <td>Blanche Bayliss, William Courtenay, Chauncey D...</td>\n",
       "      <td>The adventures of a female reporter in the 1890s.</td>\n",
       "      <td>5.9</td>\n",
       "      <td>154</td>\n",
       "      <td>NaN</td>\n",
       "      <td>NaN</td>\n",
       "      <td>NaN</td>\n",
       "      <td>NaN</td>\n",
       "      <td>1.0</td>\n",
       "      <td>2.0</td>\n",
       "    </tr>\n",
       "    <tr>\n",
       "      <th>1</th>\n",
       "      <td>tt0000574</td>\n",
       "      <td>The Story of the Kelly Gang</td>\n",
       "      <td>The Story of the Kelly Gang</td>\n",
       "      <td>1906</td>\n",
       "      <td>1906-12-26</td>\n",
       "      <td>Biography, Crime, Drama</td>\n",
       "      <td>70</td>\n",
       "      <td>Australia</td>\n",
       "      <td>NaN</td>\n",
       "      <td>Charles Tait</td>\n",
       "      <td>Charles Tait</td>\n",
       "      <td>J. and N. Tait</td>\n",
       "      <td>Elizabeth Tait, John Tait, Norman Campbell, Be...</td>\n",
       "      <td>True story of notorious Australian outlaw Ned ...</td>\n",
       "      <td>6.1</td>\n",
       "      <td>589</td>\n",
       "      <td>$ 2250</td>\n",
       "      <td>NaN</td>\n",
       "      <td>NaN</td>\n",
       "      <td>NaN</td>\n",
       "      <td>7.0</td>\n",
       "      <td>7.0</td>\n",
       "    </tr>\n",
       "  </tbody>\n",
       "</table>\n",
       "</div>"
      ],
      "text/plain": [
       "  imdb_title_id                        title               original_title  \\\n",
       "0     tt0000009                   Miss Jerry                   Miss Jerry   \n",
       "1     tt0000574  The Story of the Kelly Gang  The Story of the Kelly Gang   \n",
       "\n",
       "   year date_published                    genre  duration    country language  \\\n",
       "0  1894     1894-10-09                  Romance        45        USA      NaN   \n",
       "1  1906     1906-12-26  Biography, Crime, Drama        70  Australia      NaN   \n",
       "\n",
       "          director           writer          production_company  \\\n",
       "0  Alexander Black  Alexander Black  Alexander Black Photoplays   \n",
       "1     Charles Tait     Charles Tait              J. and N. Tait   \n",
       "\n",
       "                                              actors  \\\n",
       "0  Blanche Bayliss, William Courtenay, Chauncey D...   \n",
       "1  Elizabeth Tait, John Tait, Norman Campbell, Be...   \n",
       "\n",
       "                                         description  avg_vote  votes  budget  \\\n",
       "0  The adventures of a female reporter in the 1890s.       5.9    154     NaN   \n",
       "1  True story of notorious Australian outlaw Ned ...       6.1    589  $ 2250   \n",
       "\n",
       "  usa_gross_income worlwide_gross_income  metascore  reviews_from_users  \\\n",
       "0              NaN                   NaN        NaN                 1.0   \n",
       "1              NaN                   NaN        NaN                 7.0   \n",
       "\n",
       "   reviews_from_critics  \n",
       "0                   2.0  \n",
       "1                   7.0  "
      ]
     },
     "execution_count": 275,
     "metadata": {},
     "output_type": "execute_result"
    }
   ],
   "source": [
    "# Display all the columns and rows\n",
    "pd.set_option('display.max_rows', None)\n",
    "pd.set_option('display.max_columns',None)\n",
    "df.head(2)"
   ]
  },
  {
   "cell_type": "markdown",
   "metadata": {},
   "source": [
    "### Analyze the dataset\n",
    "- Check the data types\n",
    "- Check the number of records and number of columns"
   ]
  },
  {
   "cell_type": "code",
   "execution_count": 276,
   "metadata": {},
   "outputs": [
    {
     "name": "stdout",
     "output_type": "stream",
     "text": [
      "Total Rows present are : 85855, and total Columns are : 22\n"
     ]
    }
   ],
   "source": [
    "rows, columns = df.shape\n",
    "print(f\"Total Rows present are : {rows}, and total Columns are : {columns}\")"
   ]
  },
  {
   "cell_type": "code",
   "execution_count": 277,
   "metadata": {},
   "outputs": [
    {
     "name": "stdout",
     "output_type": "stream",
     "text": [
      "<class 'pandas.core.frame.DataFrame'>\n",
      "RangeIndex: 85855 entries, 0 to 85854\n",
      "Data columns (total 22 columns):\n",
      " #   Column                 Non-Null Count  Dtype  \n",
      "---  ------                 --------------  -----  \n",
      " 0   imdb_title_id          85855 non-null  object \n",
      " 1   title                  85855 non-null  object \n",
      " 2   original_title         85855 non-null  object \n",
      " 3   year                   85855 non-null  object \n",
      " 4   date_published         85855 non-null  object \n",
      " 5   genre                  85855 non-null  object \n",
      " 6   duration               85855 non-null  int64  \n",
      " 7   country                85791 non-null  object \n",
      " 8   language               84954 non-null  object \n",
      " 9   director               85768 non-null  object \n",
      " 10  writer                 84283 non-null  object \n",
      " 11  production_company     81400 non-null  object \n",
      " 12  actors                 85786 non-null  object \n",
      " 13  description            83740 non-null  object \n",
      " 14  avg_vote               85855 non-null  float64\n",
      " 15  votes                  85855 non-null  int64  \n",
      " 16  budget                 23710 non-null  object \n",
      " 17  usa_gross_income       15326 non-null  object \n",
      " 18  worlwide_gross_income  31016 non-null  object \n",
      " 19  metascore              13305 non-null  float64\n",
      " 20  reviews_from_users     78258 non-null  float64\n",
      " 21  reviews_from_critics   74058 non-null  float64\n",
      "dtypes: float64(4), int64(2), object(16)\n",
      "memory usage: 14.4+ MB\n"
     ]
    }
   ],
   "source": [
    "df.info()"
   ]
  },
  {
   "cell_type": "markdown",
   "metadata": {},
   "source": [
    "# Data Cleaning Process"
   ]
  },
  {
   "cell_type": "markdown",
   "metadata": {},
   "source": [
    "### Creating copy of the data"
   ]
  },
  {
   "cell_type": "code",
   "execution_count": 278,
   "metadata": {},
   "outputs": [
    {
     "data": {
      "text/html": [
       "<div>\n",
       "<style scoped>\n",
       "    .dataframe tbody tr th:only-of-type {\n",
       "        vertical-align: middle;\n",
       "    }\n",
       "\n",
       "    .dataframe tbody tr th {\n",
       "        vertical-align: top;\n",
       "    }\n",
       "\n",
       "    .dataframe thead th {\n",
       "        text-align: right;\n",
       "    }\n",
       "</style>\n",
       "<table border=\"1\" class=\"dataframe\">\n",
       "  <thead>\n",
       "    <tr style=\"text-align: right;\">\n",
       "      <th></th>\n",
       "      <th>imdb_title_id</th>\n",
       "      <th>title</th>\n",
       "      <th>original_title</th>\n",
       "      <th>year</th>\n",
       "      <th>date_published</th>\n",
       "      <th>genre</th>\n",
       "      <th>duration</th>\n",
       "      <th>country</th>\n",
       "      <th>language</th>\n",
       "      <th>director</th>\n",
       "      <th>writer</th>\n",
       "      <th>production_company</th>\n",
       "      <th>actors</th>\n",
       "      <th>description</th>\n",
       "      <th>avg_vote</th>\n",
       "      <th>votes</th>\n",
       "      <th>budget</th>\n",
       "      <th>usa_gross_income</th>\n",
       "      <th>worlwide_gross_income</th>\n",
       "      <th>metascore</th>\n",
       "      <th>reviews_from_users</th>\n",
       "      <th>reviews_from_critics</th>\n",
       "    </tr>\n",
       "  </thead>\n",
       "  <tbody>\n",
       "    <tr>\n",
       "      <th>73946</th>\n",
       "      <td>tt4173614</td>\n",
       "      <td>Ace the Case - Piccola investigatrice a Manhattan</td>\n",
       "      <td>Ace the Case</td>\n",
       "      <td>2016</td>\n",
       "      <td>2016-08-26</td>\n",
       "      <td>Family, Mystery</td>\n",
       "      <td>94</td>\n",
       "      <td>USA</td>\n",
       "      <td>English</td>\n",
       "      <td>Kevin Kaufman</td>\n",
       "      <td>Kevin Kaufman</td>\n",
       "      <td>Kaufman Films</td>\n",
       "      <td>Ripley Sobo, Lev Gorn, Susan Sarandon, Marc Me...</td>\n",
       "      <td>After being left at home when her mother goes ...</td>\n",
       "      <td>4.1</td>\n",
       "      <td>455</td>\n",
       "      <td>NaN</td>\n",
       "      <td>NaN</td>\n",
       "      <td>NaN</td>\n",
       "      <td>NaN</td>\n",
       "      <td>22.0</td>\n",
       "      <td>4.0</td>\n",
       "    </tr>\n",
       "    <tr>\n",
       "      <th>18147</th>\n",
       "      <td>tt0076574</td>\n",
       "      <td>Providence</td>\n",
       "      <td>Providence</td>\n",
       "      <td>1977</td>\n",
       "      <td>1977-05-13</td>\n",
       "      <td>Drama</td>\n",
       "      <td>110</td>\n",
       "      <td>Switzerland, France</td>\n",
       "      <td>English</td>\n",
       "      <td>Alain Resnais</td>\n",
       "      <td>David Mercer</td>\n",
       "      <td>Action Films</td>\n",
       "      <td>Dirk Bogarde, Ellen Burstyn, John Gielgud, Dav...</td>\n",
       "      <td>A dying writer bases his last book on his own ...</td>\n",
       "      <td>7.7</td>\n",
       "      <td>2930</td>\n",
       "      <td>NaN</td>\n",
       "      <td>NaN</td>\n",
       "      <td>NaN</td>\n",
       "      <td>NaN</td>\n",
       "      <td>25.0</td>\n",
       "      <td>19.0</td>\n",
       "    </tr>\n",
       "  </tbody>\n",
       "</table>\n",
       "</div>"
      ],
      "text/plain": [
       "      imdb_title_id                                              title  \\\n",
       "73946     tt4173614  Ace the Case - Piccola investigatrice a Manhattan   \n",
       "18147     tt0076574                                         Providence   \n",
       "\n",
       "      original_title  year date_published            genre  duration  \\\n",
       "73946   Ace the Case  2016     2016-08-26  Family, Mystery        94   \n",
       "18147     Providence  1977     1977-05-13            Drama       110   \n",
       "\n",
       "                   country language       director         writer  \\\n",
       "73946                  USA  English  Kevin Kaufman  Kevin Kaufman   \n",
       "18147  Switzerland, France  English  Alain Resnais   David Mercer   \n",
       "\n",
       "      production_company                                             actors  \\\n",
       "73946      Kaufman Films  Ripley Sobo, Lev Gorn, Susan Sarandon, Marc Me...   \n",
       "18147       Action Films  Dirk Bogarde, Ellen Burstyn, John Gielgud, Dav...   \n",
       "\n",
       "                                             description  avg_vote  votes  \\\n",
       "73946  After being left at home when her mother goes ...       4.1    455   \n",
       "18147  A dying writer bases his last book on his own ...       7.7   2930   \n",
       "\n",
       "      budget usa_gross_income worlwide_gross_income  metascore  \\\n",
       "73946    NaN              NaN                   NaN        NaN   \n",
       "18147    NaN              NaN                   NaN        NaN   \n",
       "\n",
       "       reviews_from_users  reviews_from_critics  \n",
       "73946                22.0                   4.0  \n",
       "18147                25.0                  19.0  "
      ]
     },
     "execution_count": 278,
     "metadata": {},
     "output_type": "execute_result"
    }
   ],
   "source": [
    "mv = df.copy()\n",
    "mv.sample(2)"
   ]
  },
  {
   "cell_type": "markdown",
   "metadata": {},
   "source": [
    "### Column: [imdb_title_id]"
   ]
  },
  {
   "cell_type": "code",
   "execution_count": 279,
   "metadata": {},
   "outputs": [
    {
     "data": {
      "text/plain": [
       "array(['tt0000009', 'tt0000574', 'tt0001892', ..., 'tt9911774',\n",
       "       'tt9914286', 'tt9914942'], dtype=object)"
      ]
     },
     "execution_count": 279,
     "metadata": {},
     "output_type": "execute_result"
    }
   ],
   "source": [
    "mv['imdb_title_id'].unique()"
   ]
  },
  {
   "cell_type": "markdown",
   "metadata": {},
   "source": [
    "- We can see that all the values are prefixed with 'tt' which can be removed \n",
    "- Also the column name can be renamed to 'id'"
   ]
  },
  {
   "cell_type": "code",
   "execution_count": 280,
   "metadata": {},
   "outputs": [
    {
     "data": {
      "text/html": [
       "<div>\n",
       "<style scoped>\n",
       "    .dataframe tbody tr th:only-of-type {\n",
       "        vertical-align: middle;\n",
       "    }\n",
       "\n",
       "    .dataframe tbody tr th {\n",
       "        vertical-align: top;\n",
       "    }\n",
       "\n",
       "    .dataframe thead th {\n",
       "        text-align: right;\n",
       "    }\n",
       "</style>\n",
       "<table border=\"1\" class=\"dataframe\">\n",
       "  <thead>\n",
       "    <tr style=\"text-align: right;\">\n",
       "      <th></th>\n",
       "      <th>imdb_title_id</th>\n",
       "    </tr>\n",
       "  </thead>\n",
       "  <tbody>\n",
       "    <tr>\n",
       "      <th>23839</th>\n",
       "      <td>0094969</td>\n",
       "    </tr>\n",
       "    <tr>\n",
       "      <th>50364</th>\n",
       "      <td>0821806</td>\n",
       "    </tr>\n",
       "    <tr>\n",
       "      <th>1961</th>\n",
       "      <td>0025797</td>\n",
       "    </tr>\n",
       "    <tr>\n",
       "      <th>72662</th>\n",
       "      <td>3794204</td>\n",
       "    </tr>\n",
       "    <tr>\n",
       "      <th>25729</th>\n",
       "      <td>0101296</td>\n",
       "    </tr>\n",
       "    <tr>\n",
       "      <th>59305</th>\n",
       "      <td>1548559</td>\n",
       "    </tr>\n",
       "    <tr>\n",
       "      <th>80019</th>\n",
       "      <td>6217724</td>\n",
       "    </tr>\n",
       "    <tr>\n",
       "      <th>78147</th>\n",
       "      <td>5606132</td>\n",
       "    </tr>\n",
       "    <tr>\n",
       "      <th>16075</th>\n",
       "      <td>0070195</td>\n",
       "    </tr>\n",
       "    <tr>\n",
       "      <th>42077</th>\n",
       "      <td>0324071</td>\n",
       "    </tr>\n",
       "  </tbody>\n",
       "</table>\n",
       "</div>"
      ],
      "text/plain": [
       "      imdb_title_id\n",
       "23839       0094969\n",
       "50364       0821806\n",
       "1961        0025797\n",
       "72662       3794204\n",
       "25729       0101296\n",
       "59305       1548559\n",
       "80019       6217724\n",
       "78147       5606132\n",
       "16075       0070195\n",
       "42077       0324071"
      ]
     },
     "execution_count": 280,
     "metadata": {},
     "output_type": "execute_result"
    }
   ],
   "source": [
    "# Strip the 'tt' from the imdb_title_id\n",
    "mv['imdb_title_id'] = mv['imdb_title_id'].str.strip('tt')\n",
    "mv[['imdb_title_id']].sample(10)"
   ]
  },
  {
   "cell_type": "markdown",
   "metadata": {},
   "source": [
    "#### Rename the column to 'imdb_title_id' to 'id'"
   ]
  },
  {
   "cell_type": "code",
   "execution_count": 281,
   "metadata": {},
   "outputs": [
    {
     "data": {
      "text/html": [
       "<div>\n",
       "<style scoped>\n",
       "    .dataframe tbody tr th:only-of-type {\n",
       "        vertical-align: middle;\n",
       "    }\n",
       "\n",
       "    .dataframe tbody tr th {\n",
       "        vertical-align: top;\n",
       "    }\n",
       "\n",
       "    .dataframe thead th {\n",
       "        text-align: right;\n",
       "    }\n",
       "</style>\n",
       "<table border=\"1\" class=\"dataframe\">\n",
       "  <thead>\n",
       "    <tr style=\"text-align: right;\">\n",
       "      <th></th>\n",
       "      <th>id</th>\n",
       "      <th>title</th>\n",
       "      <th>original_title</th>\n",
       "      <th>year</th>\n",
       "      <th>date_published</th>\n",
       "      <th>genre</th>\n",
       "      <th>duration</th>\n",
       "      <th>country</th>\n",
       "      <th>language</th>\n",
       "      <th>director</th>\n",
       "      <th>writer</th>\n",
       "      <th>production_company</th>\n",
       "      <th>actors</th>\n",
       "      <th>description</th>\n",
       "      <th>avg_vote</th>\n",
       "      <th>votes</th>\n",
       "      <th>budget</th>\n",
       "      <th>usa_gross_income</th>\n",
       "      <th>worlwide_gross_income</th>\n",
       "      <th>metascore</th>\n",
       "      <th>reviews_from_users</th>\n",
       "      <th>reviews_from_critics</th>\n",
       "    </tr>\n",
       "  </thead>\n",
       "  <tbody>\n",
       "    <tr>\n",
       "      <th>2873</th>\n",
       "      <td>0029754</td>\n",
       "      <td>West of Shanghai</td>\n",
       "      <td>West of Shanghai</td>\n",
       "      <td>1937</td>\n",
       "      <td>1937-10-30</td>\n",
       "      <td>Adventure, Drama, War</td>\n",
       "      <td>64</td>\n",
       "      <td>USA</td>\n",
       "      <td>English</td>\n",
       "      <td>John Farrow</td>\n",
       "      <td>Crane Wilbur, Porter Emerson Browne</td>\n",
       "      <td>Warner Bros.</td>\n",
       "      <td>Boris Karloff, Beverly Roberts, Ricardo Cortez...</td>\n",
       "      <td>Karloff is the Chinese warlord Fang, who holds...</td>\n",
       "      <td>5.9</td>\n",
       "      <td>327</td>\n",
       "      <td>NaN</td>\n",
       "      <td>NaN</td>\n",
       "      <td>NaN</td>\n",
       "      <td>NaN</td>\n",
       "      <td>16.0</td>\n",
       "      <td>13.0</td>\n",
       "    </tr>\n",
       "    <tr>\n",
       "      <th>31514</th>\n",
       "      <td>0122657</td>\n",
       "      <td>I piccoli maestri</td>\n",
       "      <td>I piccoli maestri</td>\n",
       "      <td>1998</td>\n",
       "      <td>1998-09-06</td>\n",
       "      <td>War, Drama</td>\n",
       "      <td>122</td>\n",
       "      <td>Italy</td>\n",
       "      <td>Italian</td>\n",
       "      <td>Daniele Luchetti</td>\n",
       "      <td>Luigi Meneghello, Sandro Petraglia</td>\n",
       "      <td>Cecchi Gori Group Tiger Cinematografica</td>\n",
       "      <td>Stefano Accorsi, Stefania Montorsi, Giorgio Pa...</td>\n",
       "      <td>During World War 2 four italian university stu...</td>\n",
       "      <td>6.4</td>\n",
       "      <td>176</td>\n",
       "      <td>NaN</td>\n",
       "      <td>NaN</td>\n",
       "      <td>NaN</td>\n",
       "      <td>NaN</td>\n",
       "      <td>1.0</td>\n",
       "      <td>1.0</td>\n",
       "    </tr>\n",
       "  </tbody>\n",
       "</table>\n",
       "</div>"
      ],
      "text/plain": [
       "            id              title     original_title  year date_published  \\\n",
       "2873   0029754   West of Shanghai   West of Shanghai  1937     1937-10-30   \n",
       "31514  0122657  I piccoli maestri  I piccoli maestri  1998     1998-09-06   \n",
       "\n",
       "                       genre  duration country language          director  \\\n",
       "2873   Adventure, Drama, War        64     USA  English       John Farrow   \n",
       "31514             War, Drama       122   Italy  Italian  Daniele Luchetti   \n",
       "\n",
       "                                    writer  \\\n",
       "2873   Crane Wilbur, Porter Emerson Browne   \n",
       "31514   Luigi Meneghello, Sandro Petraglia   \n",
       "\n",
       "                            production_company  \\\n",
       "2873                              Warner Bros.   \n",
       "31514  Cecchi Gori Group Tiger Cinematografica   \n",
       "\n",
       "                                                  actors  \\\n",
       "2873   Boris Karloff, Beverly Roberts, Ricardo Cortez...   \n",
       "31514  Stefano Accorsi, Stefania Montorsi, Giorgio Pa...   \n",
       "\n",
       "                                             description  avg_vote  votes  \\\n",
       "2873   Karloff is the Chinese warlord Fang, who holds...       5.9    327   \n",
       "31514  During World War 2 four italian university stu...       6.4    176   \n",
       "\n",
       "      budget usa_gross_income worlwide_gross_income  metascore  \\\n",
       "2873     NaN              NaN                   NaN        NaN   \n",
       "31514    NaN              NaN                   NaN        NaN   \n",
       "\n",
       "       reviews_from_users  reviews_from_critics  \n",
       "2873                 16.0                  13.0  \n",
       "31514                 1.0                   1.0  "
      ]
     },
     "execution_count": 281,
     "metadata": {},
     "output_type": "execute_result"
    }
   ],
   "source": [
    "# Rename column 'imdb_title_id' to 'id'\n",
    "mv.rename(columns={'imdb_title_id':'id'}, inplace=True)\n",
    "mv.sample(2)"
   ]
  },
  {
   "cell_type": "markdown",
   "metadata": {},
   "source": [
    "#### Convert the column 'imdb_title_id' to integer type"
   ]
  },
  {
   "cell_type": "code",
   "execution_count": 282,
   "metadata": {},
   "outputs": [
    {
     "name": "stdout",
     "output_type": "stream",
     "text": [
      "<class 'pandas.core.series.Series'>\n",
      "RangeIndex: 85855 entries, 0 to 85854\n",
      "Series name: id\n",
      "Non-Null Count  Dtype\n",
      "--------------  -----\n",
      "85855 non-null  int64\n",
      "dtypes: int64(1)\n",
      "memory usage: 670.9 KB\n"
     ]
    }
   ],
   "source": [
    "# Convert the column 'imdb_title_id' to integer type\n",
    "mv['id'] = mv['id'].astype(int)\n",
    "mv['id'].info()"
   ]
  },
  {
   "cell_type": "markdown",
   "metadata": {},
   "source": [
    "### Column: [title] and [original_title]"
   ]
  },
  {
   "cell_type": "code",
   "execution_count": 283,
   "metadata": {},
   "outputs": [
    {
     "data": {
      "text/plain": [
       "array(['Miss Jerry', 'The Story of the Kelly Gang', 'Den sorte drøm', ...,\n",
       "       'Padmavyuhathile Abhimanyu', 'Sokagin Çocuklari',\n",
       "       'La vida sense la Sara Amat'], dtype=object)"
      ]
     },
     "execution_count": 283,
     "metadata": {},
     "output_type": "execute_result"
    }
   ],
   "source": [
    "# Check the unique values\n",
    "df['title'].unique()"
   ]
  },
  {
   "cell_type": "markdown",
   "metadata": {},
   "source": [
    "- The 'title' column does not has any data anomaly and does not require cleaning"
   ]
  },
  {
   "cell_type": "code",
   "execution_count": 284,
   "metadata": {},
   "outputs": [
    {
     "data": {
      "text/plain": [
       "array(['Miss Jerry', 'The Story of the Kelly Gang', 'Den sorte drøm', ...,\n",
       "       'Padmavyuhathile Abhimanyu', 'Sokagin Çocuklari',\n",
       "       'La vida sense la Sara Amat'], dtype=object)"
      ]
     },
     "execution_count": 284,
     "metadata": {},
     "output_type": "execute_result"
    }
   ],
   "source": [
    "# Check the unique values in 'original_title'\n",
    "df['original_title'].unique()"
   ]
  },
  {
   "cell_type": "markdown",
   "metadata": {},
   "source": [
    "- Both the columns are same and the column 'title' can be dropped"
   ]
  },
  {
   "cell_type": "markdown",
   "metadata": {},
   "source": [
    "#### Drop the column 'title'"
   ]
  },
  {
   "cell_type": "code",
   "execution_count": 285,
   "metadata": {},
   "outputs": [],
   "source": [
    "# Drop the column title\n",
    "mv.drop(columns=['title'],inplace=True)"
   ]
  },
  {
   "cell_type": "markdown",
   "metadata": {},
   "source": [
    "#### Rename the column 'original_title' to 'title'"
   ]
  },
  {
   "cell_type": "code",
   "execution_count": 286,
   "metadata": {},
   "outputs": [
    {
     "data": {
      "text/html": [
       "<div>\n",
       "<style scoped>\n",
       "    .dataframe tbody tr th:only-of-type {\n",
       "        vertical-align: middle;\n",
       "    }\n",
       "\n",
       "    .dataframe tbody tr th {\n",
       "        vertical-align: top;\n",
       "    }\n",
       "\n",
       "    .dataframe thead th {\n",
       "        text-align: right;\n",
       "    }\n",
       "</style>\n",
       "<table border=\"1\" class=\"dataframe\">\n",
       "  <thead>\n",
       "    <tr style=\"text-align: right;\">\n",
       "      <th></th>\n",
       "      <th>title</th>\n",
       "    </tr>\n",
       "  </thead>\n",
       "  <tbody>\n",
       "    <tr>\n",
       "      <th>74768</th>\n",
       "      <td>Sahara</td>\n",
       "    </tr>\n",
       "    <tr>\n",
       "      <th>67473</th>\n",
       "      <td>Tanets Deli</td>\n",
       "    </tr>\n",
       "    <tr>\n",
       "      <th>28706</th>\n",
       "      <td>Batman Forever</td>\n",
       "    </tr>\n",
       "    <tr>\n",
       "      <th>10798</th>\n",
       "      <td>A Matter of WHO</td>\n",
       "    </tr>\n",
       "    <tr>\n",
       "      <th>57133</th>\n",
       "      <td>Shut</td>\n",
       "    </tr>\n",
       "    <tr>\n",
       "      <th>75483</th>\n",
       "      <td>No estamos solos</td>\n",
       "    </tr>\n",
       "    <tr>\n",
       "      <th>66443</th>\n",
       "      <td>Speed Dragon</td>\n",
       "    </tr>\n",
       "    <tr>\n",
       "      <th>2941</th>\n",
       "      <td>The Citadel</td>\n",
       "    </tr>\n",
       "    <tr>\n",
       "      <th>20110</th>\n",
       "      <td>Quella villa accanto al cimitero</td>\n",
       "    </tr>\n",
       "    <tr>\n",
       "      <th>23211</th>\n",
       "      <td>Goofballs</td>\n",
       "    </tr>\n",
       "  </tbody>\n",
       "</table>\n",
       "</div>"
      ],
      "text/plain": [
       "                                  title\n",
       "74768                            Sahara\n",
       "67473                       Tanets Deli\n",
       "28706                    Batman Forever\n",
       "10798                   A Matter of WHO\n",
       "57133                              Shut\n",
       "75483                  No estamos solos\n",
       "66443                      Speed Dragon\n",
       "2941                        The Citadel\n",
       "20110  Quella villa accanto al cimitero\n",
       "23211                         Goofballs"
      ]
     },
     "execution_count": 286,
     "metadata": {},
     "output_type": "execute_result"
    }
   ],
   "source": [
    "# Rename the column 'original_title' to 'title' \n",
    "mv.rename(columns={'original_title':'title'}, inplace=True)\n",
    "mv[['title']].sample(10)"
   ]
  },
  {
   "cell_type": "markdown",
   "metadata": {},
   "source": [
    "### Column: [year] and [date_published]\n",
    "- We can drop the 'year' column\n",
    "- from the 'date_published' column we will extract the year and further rename the column to 'year'"
   ]
  },
  {
   "cell_type": "code",
   "execution_count": 287,
   "metadata": {},
   "outputs": [],
   "source": [
    "# Drop the column 'year'\n",
    "mv.drop(columns=['year'],inplace=True)"
   ]
  },
  {
   "cell_type": "markdown",
   "metadata": {},
   "source": [
    "#### Extract year from the column 'date_published'"
   ]
  },
  {
   "cell_type": "code",
   "execution_count": 288,
   "metadata": {},
   "outputs": [],
   "source": [
    "# Convert the column 'published_year' to date_time\n",
    "mv['date_published'] = mv['date_published'].str[:4]"
   ]
  },
  {
   "cell_type": "code",
   "execution_count": 289,
   "metadata": {},
   "outputs": [
    {
     "data": {
      "text/html": [
       "<div>\n",
       "<style scoped>\n",
       "    .dataframe tbody tr th:only-of-type {\n",
       "        vertical-align: middle;\n",
       "    }\n",
       "\n",
       "    .dataframe tbody tr th {\n",
       "        vertical-align: top;\n",
       "    }\n",
       "\n",
       "    .dataframe thead th {\n",
       "        text-align: right;\n",
       "    }\n",
       "</style>\n",
       "<table border=\"1\" class=\"dataframe\">\n",
       "  <thead>\n",
       "    <tr style=\"text-align: right;\">\n",
       "      <th></th>\n",
       "      <th>date_published</th>\n",
       "    </tr>\n",
       "  </thead>\n",
       "  <tbody>\n",
       "    <tr>\n",
       "      <th>68960</th>\n",
       "      <td>2013</td>\n",
       "    </tr>\n",
       "    <tr>\n",
       "      <th>44600</th>\n",
       "      <td>2006</td>\n",
       "    </tr>\n",
       "    <tr>\n",
       "      <th>83174</th>\n",
       "      <td>2019</td>\n",
       "    </tr>\n",
       "    <tr>\n",
       "      <th>6149</th>\n",
       "      <td>1949</td>\n",
       "    </tr>\n",
       "    <tr>\n",
       "      <th>63692</th>\n",
       "      <td>2012</td>\n",
       "    </tr>\n",
       "  </tbody>\n",
       "</table>\n",
       "</div>"
      ],
      "text/plain": [
       "      date_published\n",
       "68960           2013\n",
       "44600           2006\n",
       "83174           2019\n",
       "6149            1949\n",
       "63692           2012"
      ]
     },
     "execution_count": 289,
     "metadata": {},
     "output_type": "execute_result"
    }
   ],
   "source": [
    "mv[['date_published']].sample(5)"
   ]
  },
  {
   "cell_type": "markdown",
   "metadata": {},
   "source": [
    "#### Rename the column 'date_published' to 'year'"
   ]
  },
  {
   "cell_type": "code",
   "execution_count": 290,
   "metadata": {},
   "outputs": [
    {
     "data": {
      "text/html": [
       "<div>\n",
       "<style scoped>\n",
       "    .dataframe tbody tr th:only-of-type {\n",
       "        vertical-align: middle;\n",
       "    }\n",
       "\n",
       "    .dataframe tbody tr th {\n",
       "        vertical-align: top;\n",
       "    }\n",
       "\n",
       "    .dataframe thead th {\n",
       "        text-align: right;\n",
       "    }\n",
       "</style>\n",
       "<table border=\"1\" class=\"dataframe\">\n",
       "  <thead>\n",
       "    <tr style=\"text-align: right;\">\n",
       "      <th></th>\n",
       "      <th>id</th>\n",
       "      <th>title</th>\n",
       "      <th>year</th>\n",
       "      <th>genre</th>\n",
       "      <th>duration</th>\n",
       "      <th>country</th>\n",
       "      <th>language</th>\n",
       "      <th>director</th>\n",
       "      <th>writer</th>\n",
       "      <th>production_company</th>\n",
       "      <th>actors</th>\n",
       "      <th>description</th>\n",
       "      <th>avg_vote</th>\n",
       "      <th>votes</th>\n",
       "      <th>budget</th>\n",
       "      <th>usa_gross_income</th>\n",
       "      <th>worlwide_gross_income</th>\n",
       "      <th>metascore</th>\n",
       "      <th>reviews_from_users</th>\n",
       "      <th>reviews_from_critics</th>\n",
       "    </tr>\n",
       "  </thead>\n",
       "  <tbody>\n",
       "    <tr>\n",
       "      <th>9732</th>\n",
       "      <td>52218</td>\n",
       "      <td>Some Came Running</td>\n",
       "      <td>1959</td>\n",
       "      <td>Drama, Romance</td>\n",
       "      <td>137</td>\n",
       "      <td>USA</td>\n",
       "      <td>English</td>\n",
       "      <td>Vincente Minnelli</td>\n",
       "      <td>James Jones, John Patrick</td>\n",
       "      <td>Sol C. Siegel Productions</td>\n",
       "      <td>Frank Sinatra, Dean Martin, Shirley MacLaine, ...</td>\n",
       "      <td>Dave Hirsch, a writer and an army veteran wind...</td>\n",
       "      <td>7.4</td>\n",
       "      <td>5541</td>\n",
       "      <td>$ 3151000</td>\n",
       "      <td>NaN</td>\n",
       "      <td>$ 28594</td>\n",
       "      <td>NaN</td>\n",
       "      <td>79.0</td>\n",
       "      <td>40.0</td>\n",
       "    </tr>\n",
       "    <tr>\n",
       "      <th>7255</th>\n",
       "      <td>44811</td>\n",
       "      <td>Kvinnors väntan</td>\n",
       "      <td>1960</td>\n",
       "      <td>Comedy, Drama</td>\n",
       "      <td>107</td>\n",
       "      <td>Sweden</td>\n",
       "      <td>Swedish, French</td>\n",
       "      <td>Ingmar Bergman</td>\n",
       "      <td>Ingmar Bergman, Gun Grut</td>\n",
       "      <td>Svensk Filmindustri (SF)</td>\n",
       "      <td>Anita Björk, Eva Dahlbeck, Maj-Britt Nilsson, ...</td>\n",
       "      <td>The four wives of four brothers share stories ...</td>\n",
       "      <td>7.0</td>\n",
       "      <td>2145</td>\n",
       "      <td>NaN</td>\n",
       "      <td>NaN</td>\n",
       "      <td>NaN</td>\n",
       "      <td>NaN</td>\n",
       "      <td>11.0</td>\n",
       "      <td>15.0</td>\n",
       "    </tr>\n",
       "  </tbody>\n",
       "</table>\n",
       "</div>"
      ],
      "text/plain": [
       "         id              title  year           genre  duration country  \\\n",
       "9732  52218  Some Came Running  1959  Drama, Romance       137     USA   \n",
       "7255  44811    Kvinnors väntan  1960   Comedy, Drama       107  Sweden   \n",
       "\n",
       "             language           director                     writer  \\\n",
       "9732          English  Vincente Minnelli  James Jones, John Patrick   \n",
       "7255  Swedish, French     Ingmar Bergman   Ingmar Bergman, Gun Grut   \n",
       "\n",
       "             production_company  \\\n",
       "9732  Sol C. Siegel Productions   \n",
       "7255   Svensk Filmindustri (SF)   \n",
       "\n",
       "                                                 actors  \\\n",
       "9732  Frank Sinatra, Dean Martin, Shirley MacLaine, ...   \n",
       "7255  Anita Björk, Eva Dahlbeck, Maj-Britt Nilsson, ...   \n",
       "\n",
       "                                            description  avg_vote  votes  \\\n",
       "9732  Dave Hirsch, a writer and an army veteran wind...       7.4   5541   \n",
       "7255  The four wives of four brothers share stories ...       7.0   2145   \n",
       "\n",
       "         budget usa_gross_income worlwide_gross_income  metascore  \\\n",
       "9732  $ 3151000              NaN               $ 28594        NaN   \n",
       "7255        NaN              NaN                   NaN        NaN   \n",
       "\n",
       "      reviews_from_users  reviews_from_critics  \n",
       "9732                79.0                  40.0  \n",
       "7255                11.0                  15.0  "
      ]
     },
     "execution_count": 290,
     "metadata": {},
     "output_type": "execute_result"
    }
   ],
   "source": [
    "mv.rename(columns={'date_published': 'year'}, inplace=True)\n",
    "mv.sample(2)"
   ]
  },
  {
   "cell_type": "markdown",
   "metadata": {},
   "source": [
    "### Column: [genre]"
   ]
  },
  {
   "cell_type": "code",
   "execution_count": 291,
   "metadata": {},
   "outputs": [
    {
     "data": {
      "text/html": [
       "<div>\n",
       "<style scoped>\n",
       "    .dataframe tbody tr th:only-of-type {\n",
       "        vertical-align: middle;\n",
       "    }\n",
       "\n",
       "    .dataframe tbody tr th {\n",
       "        vertical-align: top;\n",
       "    }\n",
       "\n",
       "    .dataframe thead th {\n",
       "        text-align: right;\n",
       "    }\n",
       "</style>\n",
       "<table border=\"1\" class=\"dataframe\">\n",
       "  <thead>\n",
       "    <tr style=\"text-align: right;\">\n",
       "      <th></th>\n",
       "      <th>genre</th>\n",
       "    </tr>\n",
       "  </thead>\n",
       "  <tbody>\n",
       "    <tr>\n",
       "      <th>59918</th>\n",
       "      <td>Drama, Mystery, Thriller</td>\n",
       "    </tr>\n",
       "    <tr>\n",
       "      <th>61380</th>\n",
       "      <td>Crime, Thriller</td>\n",
       "    </tr>\n",
       "    <tr>\n",
       "      <th>57896</th>\n",
       "      <td>Comedy</td>\n",
       "    </tr>\n",
       "    <tr>\n",
       "      <th>33897</th>\n",
       "      <td>Action, Drama</td>\n",
       "    </tr>\n",
       "    <tr>\n",
       "      <th>52849</th>\n",
       "      <td>Drama, History</td>\n",
       "    </tr>\n",
       "    <tr>\n",
       "      <th>2543</th>\n",
       "      <td>Crime, Drama, Romance</td>\n",
       "    </tr>\n",
       "    <tr>\n",
       "      <th>84164</th>\n",
       "      <td>Drama, Thriller</td>\n",
       "    </tr>\n",
       "    <tr>\n",
       "      <th>58044</th>\n",
       "      <td>Thriller</td>\n",
       "    </tr>\n",
       "    <tr>\n",
       "      <th>46982</th>\n",
       "      <td>Action, Adventure, Fantasy</td>\n",
       "    </tr>\n",
       "    <tr>\n",
       "      <th>80504</th>\n",
       "      <td>Action, Crime, Thriller</td>\n",
       "    </tr>\n",
       "  </tbody>\n",
       "</table>\n",
       "</div>"
      ],
      "text/plain": [
       "                            genre\n",
       "59918    Drama, Mystery, Thriller\n",
       "61380             Crime, Thriller\n",
       "57896                      Comedy\n",
       "33897               Action, Drama\n",
       "52849              Drama, History\n",
       "2543        Crime, Drama, Romance\n",
       "84164             Drama, Thriller\n",
       "58044                    Thriller\n",
       "46982  Action, Adventure, Fantasy\n",
       "80504     Action, Crime, Thriller"
      ]
     },
     "execution_count": 291,
     "metadata": {},
     "output_type": "execute_result"
    }
   ],
   "source": [
    "mv[['genre']].sample(10)"
   ]
  },
  {
   "cell_type": "markdown",
   "metadata": {},
   "source": [
    "#### Genre column contains multiple genres for a single movie, but it must be noted that:\n",
    "- for each movie we have a maximum of 3 genres\n",
    "- we can split these multiple genres into three columns 'Genre 1' , 'Genre 2', and 'Genre 3'\n",
    "- The splitted values can be assigned to the three columns 'Genre 1' , 'Genre 2', and 'Genre 3' respectively"
   ]
  },
  {
   "cell_type": "code",
   "execution_count": 292,
   "metadata": {},
   "outputs": [],
   "source": [
    "# create a temp df 'genre_split' to store the splitted genres\n",
    "genre_split  = mv['genre'].str.split(',', expand = True)"
   ]
  },
  {
   "cell_type": "code",
   "execution_count": 293,
   "metadata": {},
   "outputs": [],
   "source": [
    "# Rename the columns to Genre1, Genre2, Genre3\n",
    "genre_cols = ['genre1', 'genre2', 'genre3']\n",
    "genre_split.columns = genre_cols"
   ]
  },
  {
   "cell_type": "code",
   "execution_count": 294,
   "metadata": {},
   "outputs": [
    {
     "data": {
      "text/html": [
       "<div>\n",
       "<style scoped>\n",
       "    .dataframe tbody tr th:only-of-type {\n",
       "        vertical-align: middle;\n",
       "    }\n",
       "\n",
       "    .dataframe tbody tr th {\n",
       "        vertical-align: top;\n",
       "    }\n",
       "\n",
       "    .dataframe thead th {\n",
       "        text-align: right;\n",
       "    }\n",
       "</style>\n",
       "<table border=\"1\" class=\"dataframe\">\n",
       "  <thead>\n",
       "    <tr style=\"text-align: right;\">\n",
       "      <th></th>\n",
       "      <th>genre1</th>\n",
       "      <th>genre2</th>\n",
       "      <th>genre3</th>\n",
       "    </tr>\n",
       "  </thead>\n",
       "  <tbody>\n",
       "    <tr>\n",
       "      <th>19883</th>\n",
       "      <td>Action</td>\n",
       "      <td>Adventure</td>\n",
       "      <td>Sci-Fi</td>\n",
       "    </tr>\n",
       "    <tr>\n",
       "      <th>56641</th>\n",
       "      <td>Horror</td>\n",
       "      <td>Thriller</td>\n",
       "      <td>None</td>\n",
       "    </tr>\n",
       "    <tr>\n",
       "      <th>28445</th>\n",
       "      <td>Action</td>\n",
       "      <td>Crime</td>\n",
       "      <td>Thriller</td>\n",
       "    </tr>\n",
       "    <tr>\n",
       "      <th>72107</th>\n",
       "      <td>Sci-Fi</td>\n",
       "      <td>None</td>\n",
       "      <td>None</td>\n",
       "    </tr>\n",
       "    <tr>\n",
       "      <th>54135</th>\n",
       "      <td>Drama</td>\n",
       "      <td>None</td>\n",
       "      <td>None</td>\n",
       "    </tr>\n",
       "    <tr>\n",
       "      <th>60721</th>\n",
       "      <td>Comedy</td>\n",
       "      <td>None</td>\n",
       "      <td>None</td>\n",
       "    </tr>\n",
       "    <tr>\n",
       "      <th>17985</th>\n",
       "      <td>Comedy</td>\n",
       "      <td>Crime</td>\n",
       "      <td>None</td>\n",
       "    </tr>\n",
       "    <tr>\n",
       "      <th>69329</th>\n",
       "      <td>Adventure</td>\n",
       "      <td>Drama</td>\n",
       "      <td>Family</td>\n",
       "    </tr>\n",
       "    <tr>\n",
       "      <th>40690</th>\n",
       "      <td>Comedy</td>\n",
       "      <td>Drama</td>\n",
       "      <td>Mystery</td>\n",
       "    </tr>\n",
       "    <tr>\n",
       "      <th>54768</th>\n",
       "      <td>Action</td>\n",
       "      <td>Comedy</td>\n",
       "      <td>None</td>\n",
       "    </tr>\n",
       "  </tbody>\n",
       "</table>\n",
       "</div>"
      ],
      "text/plain": [
       "          genre1      genre2     genre3\n",
       "19883     Action   Adventure     Sci-Fi\n",
       "56641     Horror    Thriller       None\n",
       "28445     Action       Crime   Thriller\n",
       "72107     Sci-Fi        None       None\n",
       "54135      Drama        None       None\n",
       "60721     Comedy        None       None\n",
       "17985     Comedy       Crime       None\n",
       "69329  Adventure       Drama     Family\n",
       "40690     Comedy       Drama    Mystery\n",
       "54768     Action      Comedy       None"
      ]
     },
     "execution_count": 294,
     "metadata": {},
     "output_type": "execute_result"
    }
   ],
   "source": [
    "# Concatenate the split genre df to original df\n",
    "for i in range(len(genre_cols)):\n",
    "    mv.insert(loc=mv.columns.get_loc('genre') + 1 + i, column=genre_cols[i], value=genre_split.iloc[:, i])\n",
    "mv[['genre1','genre2','genre3']].sample(10)"
   ]
  },
  {
   "cell_type": "code",
   "execution_count": 295,
   "metadata": {},
   "outputs": [
    {
     "data": {
      "text/html": [
       "<div>\n",
       "<style scoped>\n",
       "    .dataframe tbody tr th:only-of-type {\n",
       "        vertical-align: middle;\n",
       "    }\n",
       "\n",
       "    .dataframe tbody tr th {\n",
       "        vertical-align: top;\n",
       "    }\n",
       "\n",
       "    .dataframe thead th {\n",
       "        text-align: right;\n",
       "    }\n",
       "</style>\n",
       "<table border=\"1\" class=\"dataframe\">\n",
       "  <thead>\n",
       "    <tr style=\"text-align: right;\">\n",
       "      <th></th>\n",
       "      <th>id</th>\n",
       "      <th>title</th>\n",
       "      <th>year</th>\n",
       "      <th>genre1</th>\n",
       "      <th>genre2</th>\n",
       "      <th>genre3</th>\n",
       "      <th>duration</th>\n",
       "      <th>country</th>\n",
       "      <th>language</th>\n",
       "      <th>director</th>\n",
       "      <th>writer</th>\n",
       "      <th>production_company</th>\n",
       "      <th>actors</th>\n",
       "      <th>description</th>\n",
       "      <th>avg_vote</th>\n",
       "      <th>votes</th>\n",
       "      <th>budget</th>\n",
       "      <th>usa_gross_income</th>\n",
       "      <th>worlwide_gross_income</th>\n",
       "      <th>metascore</th>\n",
       "      <th>reviews_from_users</th>\n",
       "      <th>reviews_from_critics</th>\n",
       "    </tr>\n",
       "  </thead>\n",
       "  <tbody>\n",
       "    <tr>\n",
       "      <th>66867</th>\n",
       "      <td>2385047</td>\n",
       "      <td>Deadliest Prey</td>\n",
       "      <td>2013</td>\n",
       "      <td>Action</td>\n",
       "      <td>Thriller</td>\n",
       "      <td>None</td>\n",
       "      <td>80</td>\n",
       "      <td>USA</td>\n",
       "      <td>English</td>\n",
       "      <td>David A. Prior</td>\n",
       "      <td>David A. Prior</td>\n",
       "      <td>Night Claws Productions</td>\n",
       "      <td>Ted Prior, Michael Charles Prior, David A. Pri...</td>\n",
       "      <td>Nearly three decades after his abduction by th...</td>\n",
       "      <td>4.5</td>\n",
       "      <td>319</td>\n",
       "      <td>NaN</td>\n",
       "      <td>NaN</td>\n",
       "      <td>NaN</td>\n",
       "      <td>NaN</td>\n",
       "      <td>10.0</td>\n",
       "      <td>17.0</td>\n",
       "    </tr>\n",
       "    <tr>\n",
       "      <th>66114</th>\n",
       "      <td>2300783</td>\n",
       "      <td>Amy Winehouse: Fallen Star</td>\n",
       "      <td>2012</td>\n",
       "      <td>Biography</td>\n",
       "      <td>None</td>\n",
       "      <td>None</td>\n",
       "      <td>51</td>\n",
       "      <td>USA</td>\n",
       "      <td>English</td>\n",
       "      <td>Jason Boritz</td>\n",
       "      <td>Rose Berkman</td>\n",
       "      <td>Reagal Films</td>\n",
       "      <td>Julia Eringer, Josh Mann, Sarah Rochelle, Alai...</td>\n",
       "      <td>A biography on the life of Amy Winehouse.</td>\n",
       "      <td>1.8</td>\n",
       "      <td>151</td>\n",
       "      <td>NaN</td>\n",
       "      <td>NaN</td>\n",
       "      <td>NaN</td>\n",
       "      <td>NaN</td>\n",
       "      <td>3.0</td>\n",
       "      <td>NaN</td>\n",
       "    </tr>\n",
       "  </tbody>\n",
       "</table>\n",
       "</div>"
      ],
      "text/plain": [
       "            id                       title  year     genre1     genre2 genre3  \\\n",
       "66867  2385047              Deadliest Prey  2013     Action   Thriller   None   \n",
       "66114  2300783  Amy Winehouse: Fallen Star  2012  Biography       None   None   \n",
       "\n",
       "       duration country language        director          writer  \\\n",
       "66867        80     USA  English  David A. Prior  David A. Prior   \n",
       "66114        51     USA  English    Jason Boritz    Rose Berkman   \n",
       "\n",
       "            production_company  \\\n",
       "66867  Night Claws Productions   \n",
       "66114             Reagal Films   \n",
       "\n",
       "                                                  actors  \\\n",
       "66867  Ted Prior, Michael Charles Prior, David A. Pri...   \n",
       "66114  Julia Eringer, Josh Mann, Sarah Rochelle, Alai...   \n",
       "\n",
       "                                             description  avg_vote  votes  \\\n",
       "66867  Nearly three decades after his abduction by th...       4.5    319   \n",
       "66114          A biography on the life of Amy Winehouse.       1.8    151   \n",
       "\n",
       "      budget usa_gross_income worlwide_gross_income  metascore  \\\n",
       "66867    NaN              NaN                   NaN        NaN   \n",
       "66114    NaN              NaN                   NaN        NaN   \n",
       "\n",
       "       reviews_from_users  reviews_from_critics  \n",
       "66867                10.0                  17.0  \n",
       "66114                 3.0                   NaN  "
      ]
     },
     "execution_count": 295,
     "metadata": {},
     "output_type": "execute_result"
    }
   ],
   "source": [
    "# Drop the column genre \n",
    "mv.drop(columns=['genre'],inplace=True)\n",
    "mv.sample(2)"
   ]
  },
  {
   "cell_type": "markdown",
   "metadata": {},
   "source": []
  },
  {
   "cell_type": "markdown",
   "metadata": {},
   "source": [
    "### Column: [duration]\n",
    "- the duration column has the run time for the movie in minutes which we will convert to hours"
   ]
  },
  {
   "cell_type": "code",
   "execution_count": 296,
   "metadata": {},
   "outputs": [
    {
     "data": {
      "text/plain": [
       "dtype('int64')"
      ]
     },
     "execution_count": 296,
     "metadata": {},
     "output_type": "execute_result"
    }
   ],
   "source": [
    "# Check the data type\n",
    "mv['duration'].dtype"
   ]
  },
  {
   "cell_type": "code",
   "execution_count": 297,
   "metadata": {},
   "outputs": [
    {
     "data": {
      "text/plain": [
       "array([ 45,  70,  53, 100,  68,  60,  85, 120,  55, 121,  54,  96,  61,\n",
       "        90,  50,  88,  72,  78, 148,  52, 124,  59,  63,  84,  65,  81,\n",
       "       199,  74,  80,  82,  67,  56, 195,  77,  71,  46, 421, 105,  57,\n",
       "        58,  73,  64,  62, 163, 300, 116,  69, 125,  97, 138, 112,  91,\n",
       "        87,  48,  83, 136,  75,  94, 117,  93,  76, 418,  86, 223,  99,\n",
       "       122, 207, 166,  95,  92,  66, 106, 145, 167,  79, 107, 109, 104,\n",
       "        89, 102, 150, 131,  47, 119,  98, 110, 143, 137, 128, 101, 183,\n",
       "       133, 135, 111, 141, 115, 153, 129, 123, 108, 155, 151, 170, 140,\n",
       "       113, 114, 250, 132, 118, 160, 240, 142, 103, 144,  49, 127, 156,\n",
       "       130, 165, 147, 152, 226, 227, 231, 218, 200, 210, 225, 243,  51,\n",
       "       281, 208, 306, 257, 245, 255, 328, 168, 269, 303, 290, 212, 224,\n",
       "       126, 260, 299, 264, 149, 211, 302, 238, 258, 263, 215, 265, 205,\n",
       "       237, 220, 285, 293, 267, 216, 241,  43, 134, 184, 261, 197, 244,\n",
       "       146, 177, 196, 154, 189, 219, 201, 180, 159, 192, 139, 171, 252,\n",
       "       193, 161, 242, 157, 182, 158, 172, 162, 173, 330, 164, 181, 169,\n",
       "       174, 179, 209, 178, 190, 228, 175, 186, 188, 191, 176, 185, 234,\n",
       "       232, 202, 221, 203, 253, 206, 239, 217, 187, 287, 204, 230, 317,\n",
       "       311, 442, 235, 275, 288, 194, 229, 410, 357, 335, 222, 214, 213,\n",
       "       271, 298, 439, 198,  41, 729, 345, 233, 580, 323, 315, 247, 366,\n",
       "       301, 262, 278, 540, 279,  44, 570, 369, 272, 450,  42, 321, 398,\n",
       "       360, 338, 319, 485, 808, 354])"
      ]
     },
     "execution_count": 297,
     "metadata": {},
     "output_type": "execute_result"
    }
   ],
   "source": [
    "mv['duration'].unique()"
   ]
  },
  {
   "cell_type": "code",
   "execution_count": 298,
   "metadata": {},
   "outputs": [
    {
     "data": {
      "text/html": [
       "<div>\n",
       "<style scoped>\n",
       "    .dataframe tbody tr th:only-of-type {\n",
       "        vertical-align: middle;\n",
       "    }\n",
       "\n",
       "    .dataframe tbody tr th {\n",
       "        vertical-align: top;\n",
       "    }\n",
       "\n",
       "    .dataframe thead th {\n",
       "        text-align: right;\n",
       "    }\n",
       "</style>\n",
       "<table border=\"1\" class=\"dataframe\">\n",
       "  <thead>\n",
       "    <tr style=\"text-align: right;\">\n",
       "      <th></th>\n",
       "      <th>duration</th>\n",
       "    </tr>\n",
       "  </thead>\n",
       "  <tbody>\n",
       "    <tr>\n",
       "      <th>50358</th>\n",
       "      <td>1.80</td>\n",
       "    </tr>\n",
       "    <tr>\n",
       "      <th>1203</th>\n",
       "      <td>1.13</td>\n",
       "    </tr>\n",
       "    <tr>\n",
       "      <th>46505</th>\n",
       "      <td>1.63</td>\n",
       "    </tr>\n",
       "    <tr>\n",
       "      <th>66436</th>\n",
       "      <td>0.92</td>\n",
       "    </tr>\n",
       "    <tr>\n",
       "      <th>4964</th>\n",
       "      <td>1.92</td>\n",
       "    </tr>\n",
       "  </tbody>\n",
       "</table>\n",
       "</div>"
      ],
      "text/plain": [
       "       duration\n",
       "50358      1.80\n",
       "1203       1.13\n",
       "46505      1.63\n",
       "66436      0.92\n",
       "4964       1.92"
      ]
     },
     "execution_count": 298,
     "metadata": {},
     "output_type": "execute_result"
    }
   ],
   "source": [
    "# Convert the minutes in the duration column to hours\n",
    "mv['duration'] = (mv['duration']/60).round(2)\n",
    "mv[['duration']].sample(5)"
   ]
  },
  {
   "cell_type": "markdown",
   "metadata": {},
   "source": [
    "#### Rename the column to duration(hours)"
   ]
  },
  {
   "cell_type": "code",
   "execution_count": 299,
   "metadata": {},
   "outputs": [
    {
     "data": {
      "text/html": [
       "<div>\n",
       "<style scoped>\n",
       "    .dataframe tbody tr th:only-of-type {\n",
       "        vertical-align: middle;\n",
       "    }\n",
       "\n",
       "    .dataframe tbody tr th {\n",
       "        vertical-align: top;\n",
       "    }\n",
       "\n",
       "    .dataframe thead th {\n",
       "        text-align: right;\n",
       "    }\n",
       "</style>\n",
       "<table border=\"1\" class=\"dataframe\">\n",
       "  <thead>\n",
       "    <tr style=\"text-align: right;\">\n",
       "      <th></th>\n",
       "      <th>duration(hours)</th>\n",
       "    </tr>\n",
       "  </thead>\n",
       "  <tbody>\n",
       "    <tr>\n",
       "      <th>74523</th>\n",
       "      <td>1.53</td>\n",
       "    </tr>\n",
       "    <tr>\n",
       "      <th>40638</th>\n",
       "      <td>2.33</td>\n",
       "    </tr>\n",
       "    <tr>\n",
       "      <th>70660</th>\n",
       "      <td>1.50</td>\n",
       "    </tr>\n",
       "    <tr>\n",
       "      <th>11147</th>\n",
       "      <td>3.80</td>\n",
       "    </tr>\n",
       "    <tr>\n",
       "      <th>22009</th>\n",
       "      <td>1.80</td>\n",
       "    </tr>\n",
       "    <tr>\n",
       "      <th>71969</th>\n",
       "      <td>1.52</td>\n",
       "    </tr>\n",
       "    <tr>\n",
       "      <th>37545</th>\n",
       "      <td>1.42</td>\n",
       "    </tr>\n",
       "    <tr>\n",
       "      <th>33456</th>\n",
       "      <td>1.80</td>\n",
       "    </tr>\n",
       "    <tr>\n",
       "      <th>1865</th>\n",
       "      <td>1.27</td>\n",
       "    </tr>\n",
       "    <tr>\n",
       "      <th>2423</th>\n",
       "      <td>1.27</td>\n",
       "    </tr>\n",
       "  </tbody>\n",
       "</table>\n",
       "</div>"
      ],
      "text/plain": [
       "       duration(hours)\n",
       "74523             1.53\n",
       "40638             2.33\n",
       "70660             1.50\n",
       "11147             3.80\n",
       "22009             1.80\n",
       "71969             1.52\n",
       "37545             1.42\n",
       "33456             1.80\n",
       "1865              1.27\n",
       "2423              1.27"
      ]
     },
     "execution_count": 299,
     "metadata": {},
     "output_type": "execute_result"
    }
   ],
   "source": [
    "# Rename the column to duration(hours)\n",
    "mv.rename(columns={'duration': 'duration(hours)'},inplace=True)\n",
    "mv[['duration(hours)']].sample(10)"
   ]
  },
  {
   "cell_type": "code",
   "execution_count": null,
   "metadata": {},
   "outputs": [],
   "source": []
  }
 ],
 "metadata": {
  "kernelspec": {
   "display_name": "Python 3",
   "language": "python",
   "name": "python3"
  },
  "language_info": {
   "codemirror_mode": {
    "name": "ipython",
    "version": 3
   },
   "file_extension": ".py",
   "mimetype": "text/x-python",
   "name": "python",
   "nbconvert_exporter": "python",
   "pygments_lexer": "ipython3",
   "version": "3.12.1"
  }
 },
 "nbformat": 4,
 "nbformat_minor": 2
}
