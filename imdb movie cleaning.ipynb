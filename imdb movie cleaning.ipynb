{
 "cells": [
  {
   "cell_type": "markdown",
   "metadata": {},
   "source": [
    "# IMDB Movie Dataset Cleaning"
   ]
  },
  {
   "cell_type": "markdown",
   "metadata": {},
   "source": [
    "### Import Pandas Library"
   ]
  },
  {
   "cell_type": "code",
   "execution_count": 245,
   "metadata": {},
   "outputs": [],
   "source": [
    "import pandas as pd"
   ]
  },
  {
   "cell_type": "markdown",
   "metadata": {},
   "source": [
    "### Read the data file"
   ]
  },
  {
   "cell_type": "code",
   "execution_count": 246,
   "metadata": {},
   "outputs": [
    {
     "data": {
      "text/html": [
       "<div>\n",
       "<style scoped>\n",
       "    .dataframe tbody tr th:only-of-type {\n",
       "        vertical-align: middle;\n",
       "    }\n",
       "\n",
       "    .dataframe tbody tr th {\n",
       "        vertical-align: top;\n",
       "    }\n",
       "\n",
       "    .dataframe thead th {\n",
       "        text-align: right;\n",
       "    }\n",
       "</style>\n",
       "<table border=\"1\" class=\"dataframe\">\n",
       "  <thead>\n",
       "    <tr style=\"text-align: right;\">\n",
       "      <th></th>\n",
       "      <th>imdb_title_id</th>\n",
       "      <th>title</th>\n",
       "      <th>original_title</th>\n",
       "      <th>year</th>\n",
       "      <th>date_published</th>\n",
       "      <th>genre</th>\n",
       "      <th>duration</th>\n",
       "      <th>country</th>\n",
       "      <th>language</th>\n",
       "      <th>director</th>\n",
       "      <th>writer</th>\n",
       "      <th>production_company</th>\n",
       "      <th>actors</th>\n",
       "      <th>description</th>\n",
       "      <th>avg_vote</th>\n",
       "      <th>votes</th>\n",
       "      <th>budget</th>\n",
       "      <th>usa_gross_income</th>\n",
       "      <th>worlwide_gross_income</th>\n",
       "      <th>metascore</th>\n",
       "      <th>reviews_from_users</th>\n",
       "      <th>reviews_from_critics</th>\n",
       "    </tr>\n",
       "  </thead>\n",
       "  <tbody>\n",
       "    <tr>\n",
       "      <th>34343</th>\n",
       "      <td>tt0170544</td>\n",
       "      <td>SF: Episode One</td>\n",
       "      <td>SF: Episode One</td>\n",
       "      <td>1998</td>\n",
       "      <td>1998-08-01</td>\n",
       "      <td>Action, Adventure, Comedy</td>\n",
       "      <td>111</td>\n",
       "      <td>Japan</td>\n",
       "      <td>Japanese</td>\n",
       "      <td>Hiroyuki Nakano</td>\n",
       "      <td>Hiroyuki Nakano, Hiroshi Saitô</td>\n",
       "      <td>NaN</td>\n",
       "      <td>Morio Kazama, Mitsuru Fukikoshi, Tomoyasu Hote...</td>\n",
       "      <td>A noble young samurai searches for a thief who...</td>\n",
       "      <td>7.2</td>\n",
       "      <td>2537</td>\n",
       "      <td>NaN</td>\n",
       "      <td>NaN</td>\n",
       "      <td>NaN</td>\n",
       "      <td>NaN</td>\n",
       "      <td>21.0</td>\n",
       "      <td>27.0</td>\n",
       "    </tr>\n",
       "    <tr>\n",
       "      <th>40301</th>\n",
       "      <td>tt0286516</td>\n",
       "      <td>Respiro</td>\n",
       "      <td>Respiro</td>\n",
       "      <td>2002</td>\n",
       "      <td>2002-05-22</td>\n",
       "      <td>Drama</td>\n",
       "      <td>95</td>\n",
       "      <td>Italy, France</td>\n",
       "      <td>Italian, Sicilian</td>\n",
       "      <td>Emanuele Crialese</td>\n",
       "      <td>Emanuele Crialese</td>\n",
       "      <td>Fandango</td>\n",
       "      <td>Valeria Golino, Vincenzo Amato, Francesco Casi...</td>\n",
       "      <td>On an impoverished Italian island, a free-spir...</td>\n",
       "      <td>7.0</td>\n",
       "      <td>4465</td>\n",
       "      <td>NaN</td>\n",
       "      <td>$ 1072834</td>\n",
       "      <td>$ 7309845</td>\n",
       "      <td>65.0</td>\n",
       "      <td>47.0</td>\n",
       "      <td>69.0</td>\n",
       "    </tr>\n",
       "  </tbody>\n",
       "</table>\n",
       "</div>"
      ],
      "text/plain": [
       "      imdb_title_id            title   original_title  year date_published  \\\n",
       "34343     tt0170544  SF: Episode One  SF: Episode One  1998     1998-08-01   \n",
       "40301     tt0286516          Respiro          Respiro  2002     2002-05-22   \n",
       "\n",
       "                           genre  duration        country           language  \\\n",
       "34343  Action, Adventure, Comedy       111          Japan           Japanese   \n",
       "40301                      Drama        95  Italy, France  Italian, Sicilian   \n",
       "\n",
       "                director                          writer production_company  \\\n",
       "34343    Hiroyuki Nakano  Hiroyuki Nakano, Hiroshi Saitô                NaN   \n",
       "40301  Emanuele Crialese               Emanuele Crialese           Fandango   \n",
       "\n",
       "                                                  actors  \\\n",
       "34343  Morio Kazama, Mitsuru Fukikoshi, Tomoyasu Hote...   \n",
       "40301  Valeria Golino, Vincenzo Amato, Francesco Casi...   \n",
       "\n",
       "                                             description  avg_vote  votes  \\\n",
       "34343  A noble young samurai searches for a thief who...       7.2   2537   \n",
       "40301  On an impoverished Italian island, a free-spir...       7.0   4465   \n",
       "\n",
       "      budget usa_gross_income worlwide_gross_income  metascore  \\\n",
       "34343    NaN              NaN                   NaN        NaN   \n",
       "40301    NaN        $ 1072834             $ 7309845       65.0   \n",
       "\n",
       "       reviews_from_users  reviews_from_critics  \n",
       "34343                21.0                  27.0  \n",
       "40301                47.0                  69.0  "
      ]
     },
     "execution_count": 246,
     "metadata": {},
     "output_type": "execute_result"
    }
   ],
   "source": [
    "df = pd.read_csv(r\"datasource/imdb_movies.csv\", encoding='unicode_escape', low_memory=False)\n",
    "df.sample(2)"
   ]
  },
  {
   "cell_type": "markdown",
   "metadata": {},
   "source": [
    "### Set the column width to maximum to display all the columns"
   ]
  },
  {
   "cell_type": "code",
   "execution_count": 247,
   "metadata": {},
   "outputs": [
    {
     "data": {
      "text/html": [
       "<div>\n",
       "<style scoped>\n",
       "    .dataframe tbody tr th:only-of-type {\n",
       "        vertical-align: middle;\n",
       "    }\n",
       "\n",
       "    .dataframe tbody tr th {\n",
       "        vertical-align: top;\n",
       "    }\n",
       "\n",
       "    .dataframe thead th {\n",
       "        text-align: right;\n",
       "    }\n",
       "</style>\n",
       "<table border=\"1\" class=\"dataframe\">\n",
       "  <thead>\n",
       "    <tr style=\"text-align: right;\">\n",
       "      <th></th>\n",
       "      <th>imdb_title_id</th>\n",
       "      <th>title</th>\n",
       "      <th>original_title</th>\n",
       "      <th>year</th>\n",
       "      <th>date_published</th>\n",
       "      <th>genre</th>\n",
       "      <th>duration</th>\n",
       "      <th>country</th>\n",
       "      <th>language</th>\n",
       "      <th>director</th>\n",
       "      <th>writer</th>\n",
       "      <th>production_company</th>\n",
       "      <th>actors</th>\n",
       "      <th>description</th>\n",
       "      <th>avg_vote</th>\n",
       "      <th>votes</th>\n",
       "      <th>budget</th>\n",
       "      <th>usa_gross_income</th>\n",
       "      <th>worlwide_gross_income</th>\n",
       "      <th>metascore</th>\n",
       "      <th>reviews_from_users</th>\n",
       "      <th>reviews_from_critics</th>\n",
       "    </tr>\n",
       "  </thead>\n",
       "  <tbody>\n",
       "    <tr>\n",
       "      <th>0</th>\n",
       "      <td>tt0000009</td>\n",
       "      <td>Miss Jerry</td>\n",
       "      <td>Miss Jerry</td>\n",
       "      <td>1894</td>\n",
       "      <td>1894-10-09</td>\n",
       "      <td>Romance</td>\n",
       "      <td>45</td>\n",
       "      <td>USA</td>\n",
       "      <td>NaN</td>\n",
       "      <td>Alexander Black</td>\n",
       "      <td>Alexander Black</td>\n",
       "      <td>Alexander Black Photoplays</td>\n",
       "      <td>Blanche Bayliss, William Courtenay, Chauncey D...</td>\n",
       "      <td>The adventures of a female reporter in the 1890s.</td>\n",
       "      <td>5.9</td>\n",
       "      <td>154</td>\n",
       "      <td>NaN</td>\n",
       "      <td>NaN</td>\n",
       "      <td>NaN</td>\n",
       "      <td>NaN</td>\n",
       "      <td>1.0</td>\n",
       "      <td>2.0</td>\n",
       "    </tr>\n",
       "    <tr>\n",
       "      <th>1</th>\n",
       "      <td>tt0000574</td>\n",
       "      <td>The Story of the Kelly Gang</td>\n",
       "      <td>The Story of the Kelly Gang</td>\n",
       "      <td>1906</td>\n",
       "      <td>1906-12-26</td>\n",
       "      <td>Biography, Crime, Drama</td>\n",
       "      <td>70</td>\n",
       "      <td>Australia</td>\n",
       "      <td>NaN</td>\n",
       "      <td>Charles Tait</td>\n",
       "      <td>Charles Tait</td>\n",
       "      <td>J. and N. Tait</td>\n",
       "      <td>Elizabeth Tait, John Tait, Norman Campbell, Be...</td>\n",
       "      <td>True story of notorious Australian outlaw Ned ...</td>\n",
       "      <td>6.1</td>\n",
       "      <td>589</td>\n",
       "      <td>$ 2250</td>\n",
       "      <td>NaN</td>\n",
       "      <td>NaN</td>\n",
       "      <td>NaN</td>\n",
       "      <td>7.0</td>\n",
       "      <td>7.0</td>\n",
       "    </tr>\n",
       "  </tbody>\n",
       "</table>\n",
       "</div>"
      ],
      "text/plain": [
       "  imdb_title_id                        title               original_title  \\\n",
       "0     tt0000009                   Miss Jerry                   Miss Jerry   \n",
       "1     tt0000574  The Story of the Kelly Gang  The Story of the Kelly Gang   \n",
       "\n",
       "   year date_published                    genre  duration    country language  \\\n",
       "0  1894     1894-10-09                  Romance        45        USA      NaN   \n",
       "1  1906     1906-12-26  Biography, Crime, Drama        70  Australia      NaN   \n",
       "\n",
       "          director           writer          production_company  \\\n",
       "0  Alexander Black  Alexander Black  Alexander Black Photoplays   \n",
       "1     Charles Tait     Charles Tait              J. and N. Tait   \n",
       "\n",
       "                                              actors  \\\n",
       "0  Blanche Bayliss, William Courtenay, Chauncey D...   \n",
       "1  Elizabeth Tait, John Tait, Norman Campbell, Be...   \n",
       "\n",
       "                                         description  avg_vote  votes  budget  \\\n",
       "0  The adventures of a female reporter in the 1890s.       5.9    154     NaN   \n",
       "1  True story of notorious Australian outlaw Ned ...       6.1    589  $ 2250   \n",
       "\n",
       "  usa_gross_income worlwide_gross_income  metascore  reviews_from_users  \\\n",
       "0              NaN                   NaN        NaN                 1.0   \n",
       "1              NaN                   NaN        NaN                 7.0   \n",
       "\n",
       "   reviews_from_critics  \n",
       "0                   2.0  \n",
       "1                   7.0  "
      ]
     },
     "execution_count": 247,
     "metadata": {},
     "output_type": "execute_result"
    }
   ],
   "source": [
    "# Display all the columns and rows\n",
    "pd.set_option('display.max_rows', None)\n",
    "pd.set_option('display.max_columns',None)\n",
    "df.head(2)"
   ]
  },
  {
   "cell_type": "markdown",
   "metadata": {},
   "source": [
    "### Analyze the dataset\n",
    "- Check the data types\n",
    "- Check the number of records and number of columns"
   ]
  },
  {
   "cell_type": "code",
   "execution_count": 248,
   "metadata": {},
   "outputs": [
    {
     "name": "stdout",
     "output_type": "stream",
     "text": [
      "Total Rows present are : 85855, and total Columns are : 22\n"
     ]
    }
   ],
   "source": [
    "rows, columns = df.shape\n",
    "print(f\"Total Rows present are : {rows}, and total Columns are : {columns}\")"
   ]
  },
  {
   "cell_type": "code",
   "execution_count": 249,
   "metadata": {},
   "outputs": [
    {
     "name": "stdout",
     "output_type": "stream",
     "text": [
      "<class 'pandas.core.frame.DataFrame'>\n",
      "RangeIndex: 85855 entries, 0 to 85854\n",
      "Data columns (total 22 columns):\n",
      " #   Column                 Non-Null Count  Dtype  \n",
      "---  ------                 --------------  -----  \n",
      " 0   imdb_title_id          85855 non-null  object \n",
      " 1   title                  85855 non-null  object \n",
      " 2   original_title         85855 non-null  object \n",
      " 3   year                   85855 non-null  object \n",
      " 4   date_published         85855 non-null  object \n",
      " 5   genre                  85855 non-null  object \n",
      " 6   duration               85855 non-null  int64  \n",
      " 7   country                85791 non-null  object \n",
      " 8   language               84954 non-null  object \n",
      " 9   director               85768 non-null  object \n",
      " 10  writer                 84283 non-null  object \n",
      " 11  production_company     81400 non-null  object \n",
      " 12  actors                 85786 non-null  object \n",
      " 13  description            83740 non-null  object \n",
      " 14  avg_vote               85855 non-null  float64\n",
      " 15  votes                  85855 non-null  int64  \n",
      " 16  budget                 23710 non-null  object \n",
      " 17  usa_gross_income       15326 non-null  object \n",
      " 18  worlwide_gross_income  31016 non-null  object \n",
      " 19  metascore              13305 non-null  float64\n",
      " 20  reviews_from_users     78258 non-null  float64\n",
      " 21  reviews_from_critics   74058 non-null  float64\n",
      "dtypes: float64(4), int64(2), object(16)\n",
      "memory usage: 14.4+ MB\n"
     ]
    }
   ],
   "source": [
    "df.info()"
   ]
  },
  {
   "cell_type": "markdown",
   "metadata": {},
   "source": [
    "# Data Cleaning Process"
   ]
  },
  {
   "cell_type": "markdown",
   "metadata": {},
   "source": [
    "### Creating copy of the data"
   ]
  },
  {
   "cell_type": "code",
   "execution_count": 250,
   "metadata": {},
   "outputs": [
    {
     "data": {
      "text/html": [
       "<div>\n",
       "<style scoped>\n",
       "    .dataframe tbody tr th:only-of-type {\n",
       "        vertical-align: middle;\n",
       "    }\n",
       "\n",
       "    .dataframe tbody tr th {\n",
       "        vertical-align: top;\n",
       "    }\n",
       "\n",
       "    .dataframe thead th {\n",
       "        text-align: right;\n",
       "    }\n",
       "</style>\n",
       "<table border=\"1\" class=\"dataframe\">\n",
       "  <thead>\n",
       "    <tr style=\"text-align: right;\">\n",
       "      <th></th>\n",
       "      <th>imdb_title_id</th>\n",
       "      <th>title</th>\n",
       "      <th>original_title</th>\n",
       "      <th>year</th>\n",
       "      <th>date_published</th>\n",
       "      <th>genre</th>\n",
       "      <th>duration</th>\n",
       "      <th>country</th>\n",
       "      <th>language</th>\n",
       "      <th>director</th>\n",
       "      <th>writer</th>\n",
       "      <th>production_company</th>\n",
       "      <th>actors</th>\n",
       "      <th>description</th>\n",
       "      <th>avg_vote</th>\n",
       "      <th>votes</th>\n",
       "      <th>budget</th>\n",
       "      <th>usa_gross_income</th>\n",
       "      <th>worlwide_gross_income</th>\n",
       "      <th>metascore</th>\n",
       "      <th>reviews_from_users</th>\n",
       "      <th>reviews_from_critics</th>\n",
       "    </tr>\n",
       "  </thead>\n",
       "  <tbody>\n",
       "    <tr>\n",
       "      <th>17841</th>\n",
       "      <td>tt0075704</td>\n",
       "      <td>Audrey Rose</td>\n",
       "      <td>Audrey Rose</td>\n",
       "      <td>1977</td>\n",
       "      <td>1977-09-30</td>\n",
       "      <td>Drama, Fantasy, Horror</td>\n",
       "      <td>113</td>\n",
       "      <td>USA</td>\n",
       "      <td>English</td>\n",
       "      <td>Robert Wise</td>\n",
       "      <td>Frank De Felitta, Frank De Felitta</td>\n",
       "      <td>Sterobcar Productions</td>\n",
       "      <td>Marsha Mason, Anthony Hopkins, John Beck, Susa...</td>\n",
       "      <td>A stranger attempts to convince a happily marr...</td>\n",
       "      <td>5.8</td>\n",
       "      <td>5330</td>\n",
       "      <td>NaN</td>\n",
       "      <td>NaN</td>\n",
       "      <td>NaN</td>\n",
       "      <td>NaN</td>\n",
       "      <td>85.0</td>\n",
       "      <td>56.0</td>\n",
       "    </tr>\n",
       "    <tr>\n",
       "      <th>81764</th>\n",
       "      <td>tt7060344</td>\n",
       "      <td>Ratsasan</td>\n",
       "      <td>Ratsasan</td>\n",
       "      <td>2018</td>\n",
       "      <td>2018-10-05</td>\n",
       "      <td>Action, Crime, Thriller</td>\n",
       "      <td>170</td>\n",
       "      <td>India</td>\n",
       "      <td>Tamil</td>\n",
       "      <td>Ram Kumar</td>\n",
       "      <td>Ram Kumar</td>\n",
       "      <td>Axess Film Factory</td>\n",
       "      <td>Vishnu Vishal, Radha Ravi, Sangili Murugan, Ni...</td>\n",
       "      <td>A Sub-Inspector sets out in pursuit of a myste...</td>\n",
       "      <td>8.7</td>\n",
       "      <td>19367</td>\n",
       "      <td>NaN</td>\n",
       "      <td>NaN</td>\n",
       "      <td>NaN</td>\n",
       "      <td>NaN</td>\n",
       "      <td>426.0</td>\n",
       "      <td>9.0</td>\n",
       "    </tr>\n",
       "  </tbody>\n",
       "</table>\n",
       "</div>"
      ],
      "text/plain": [
       "      imdb_title_id        title original_title  year date_published  \\\n",
       "17841     tt0075704  Audrey Rose    Audrey Rose  1977     1977-09-30   \n",
       "81764     tt7060344     Ratsasan       Ratsasan  2018     2018-10-05   \n",
       "\n",
       "                         genre  duration country language     director  \\\n",
       "17841   Drama, Fantasy, Horror       113     USA  English  Robert Wise   \n",
       "81764  Action, Crime, Thriller       170   India    Tamil    Ram Kumar   \n",
       "\n",
       "                                   writer     production_company  \\\n",
       "17841  Frank De Felitta, Frank De Felitta  Sterobcar Productions   \n",
       "81764                           Ram Kumar     Axess Film Factory   \n",
       "\n",
       "                                                  actors  \\\n",
       "17841  Marsha Mason, Anthony Hopkins, John Beck, Susa...   \n",
       "81764  Vishnu Vishal, Radha Ravi, Sangili Murugan, Ni...   \n",
       "\n",
       "                                             description  avg_vote  votes  \\\n",
       "17841  A stranger attempts to convince a happily marr...       5.8   5330   \n",
       "81764  A Sub-Inspector sets out in pursuit of a myste...       8.7  19367   \n",
       "\n",
       "      budget usa_gross_income worlwide_gross_income  metascore  \\\n",
       "17841    NaN              NaN                   NaN        NaN   \n",
       "81764    NaN              NaN                   NaN        NaN   \n",
       "\n",
       "       reviews_from_users  reviews_from_critics  \n",
       "17841                85.0                  56.0  \n",
       "81764               426.0                   9.0  "
      ]
     },
     "execution_count": 250,
     "metadata": {},
     "output_type": "execute_result"
    }
   ],
   "source": [
    "mv = df.copy()\n",
    "mv.sample(2)"
   ]
  },
  {
   "cell_type": "markdown",
   "metadata": {},
   "source": [
    "### Column: [imdb_title_id]"
   ]
  },
  {
   "cell_type": "code",
   "execution_count": 251,
   "metadata": {},
   "outputs": [
    {
     "data": {
      "text/plain": [
       "array(['tt0000009', 'tt0000574', 'tt0001892', ..., 'tt9911774',\n",
       "       'tt9914286', 'tt9914942'], dtype=object)"
      ]
     },
     "execution_count": 251,
     "metadata": {},
     "output_type": "execute_result"
    }
   ],
   "source": [
    "mv['imdb_title_id'].unique()"
   ]
  },
  {
   "cell_type": "markdown",
   "metadata": {},
   "source": [
    "- We can see that all the values are prefixed with 'tt' which can be removed \n",
    "- Also the column name can be renamed to 'id'"
   ]
  },
  {
   "cell_type": "code",
   "execution_count": 252,
   "metadata": {},
   "outputs": [
    {
     "data": {
      "text/html": [
       "<div>\n",
       "<style scoped>\n",
       "    .dataframe tbody tr th:only-of-type {\n",
       "        vertical-align: middle;\n",
       "    }\n",
       "\n",
       "    .dataframe tbody tr th {\n",
       "        vertical-align: top;\n",
       "    }\n",
       "\n",
       "    .dataframe thead th {\n",
       "        text-align: right;\n",
       "    }\n",
       "</style>\n",
       "<table border=\"1\" class=\"dataframe\">\n",
       "  <thead>\n",
       "    <tr style=\"text-align: right;\">\n",
       "      <th></th>\n",
       "      <th>imdb_title_id</th>\n",
       "    </tr>\n",
       "  </thead>\n",
       "  <tbody>\n",
       "    <tr>\n",
       "      <th>7143</th>\n",
       "      <td>0044462</td>\n",
       "    </tr>\n",
       "    <tr>\n",
       "      <th>6101</th>\n",
       "      <td>0041199</td>\n",
       "    </tr>\n",
       "    <tr>\n",
       "      <th>42372</th>\n",
       "      <td>0330994</td>\n",
       "    </tr>\n",
       "    <tr>\n",
       "      <th>71781</th>\n",
       "      <td>3567368</td>\n",
       "    </tr>\n",
       "    <tr>\n",
       "      <th>45094</th>\n",
       "      <td>0398808</td>\n",
       "    </tr>\n",
       "    <tr>\n",
       "      <th>70420</th>\n",
       "      <td>3230300</td>\n",
       "    </tr>\n",
       "    <tr>\n",
       "      <th>63456</th>\n",
       "      <td>1959409</td>\n",
       "    </tr>\n",
       "    <tr>\n",
       "      <th>72517</th>\n",
       "      <td>3750872</td>\n",
       "    </tr>\n",
       "    <tr>\n",
       "      <th>52247</th>\n",
       "      <td>10006270</td>\n",
       "    </tr>\n",
       "    <tr>\n",
       "      <th>21491</th>\n",
       "      <td>0087571</td>\n",
       "    </tr>\n",
       "  </tbody>\n",
       "</table>\n",
       "</div>"
      ],
      "text/plain": [
       "      imdb_title_id\n",
       "7143        0044462\n",
       "6101        0041199\n",
       "42372       0330994\n",
       "71781       3567368\n",
       "45094       0398808\n",
       "70420       3230300\n",
       "63456       1959409\n",
       "72517       3750872\n",
       "52247      10006270\n",
       "21491       0087571"
      ]
     },
     "execution_count": 252,
     "metadata": {},
     "output_type": "execute_result"
    }
   ],
   "source": [
    "# Strip the 'tt' from the imdb_title_id\n",
    "mv['imdb_title_id'] = mv['imdb_title_id'].str.strip('tt')\n",
    "mv[['imdb_title_id']].sample(10)"
   ]
  },
  {
   "cell_type": "markdown",
   "metadata": {},
   "source": [
    "#### Rename the column to 'imdb_title_id' to 'id'"
   ]
  },
  {
   "cell_type": "code",
   "execution_count": 253,
   "metadata": {},
   "outputs": [
    {
     "data": {
      "text/html": [
       "<div>\n",
       "<style scoped>\n",
       "    .dataframe tbody tr th:only-of-type {\n",
       "        vertical-align: middle;\n",
       "    }\n",
       "\n",
       "    .dataframe tbody tr th {\n",
       "        vertical-align: top;\n",
       "    }\n",
       "\n",
       "    .dataframe thead th {\n",
       "        text-align: right;\n",
       "    }\n",
       "</style>\n",
       "<table border=\"1\" class=\"dataframe\">\n",
       "  <thead>\n",
       "    <tr style=\"text-align: right;\">\n",
       "      <th></th>\n",
       "      <th>id</th>\n",
       "      <th>title</th>\n",
       "      <th>original_title</th>\n",
       "      <th>year</th>\n",
       "      <th>date_published</th>\n",
       "      <th>genre</th>\n",
       "      <th>duration</th>\n",
       "      <th>country</th>\n",
       "      <th>language</th>\n",
       "      <th>director</th>\n",
       "      <th>writer</th>\n",
       "      <th>production_company</th>\n",
       "      <th>actors</th>\n",
       "      <th>description</th>\n",
       "      <th>avg_vote</th>\n",
       "      <th>votes</th>\n",
       "      <th>budget</th>\n",
       "      <th>usa_gross_income</th>\n",
       "      <th>worlwide_gross_income</th>\n",
       "      <th>metascore</th>\n",
       "      <th>reviews_from_users</th>\n",
       "      <th>reviews_from_critics</th>\n",
       "    </tr>\n",
       "  </thead>\n",
       "  <tbody>\n",
       "    <tr>\n",
       "      <th>12854</th>\n",
       "      <td>0061069</td>\n",
       "      <td>Tatsu no ko Tarô</td>\n",
       "      <td>Tatsu no ko Tarô</td>\n",
       "      <td>1979</td>\n",
       "      <td>1979-03-17</td>\n",
       "      <td>Adventure, Family, Fantasy</td>\n",
       "      <td>75</td>\n",
       "      <td>Japan</td>\n",
       "      <td>Japanese</td>\n",
       "      <td>Kirio Urayama, Peter Fernandez</td>\n",
       "      <td>Miyoko Matsutani, Takashi Mitsui</td>\n",
       "      <td>Toei Animation</td>\n",
       "      <td>Kazuo Kitamura, Sayuri Yoshinaga, Jun'ya Katô,...</td>\n",
       "      <td>A young boy has to make a voyage to a distant ...</td>\n",
       "      <td>7.5</td>\n",
       "      <td>744</td>\n",
       "      <td>NaN</td>\n",
       "      <td>NaN</td>\n",
       "      <td>NaN</td>\n",
       "      <td>NaN</td>\n",
       "      <td>9.0</td>\n",
       "      <td>7.0</td>\n",
       "    </tr>\n",
       "    <tr>\n",
       "      <th>65306</th>\n",
       "      <td>2195804</td>\n",
       "      <td>Lombard</td>\n",
       "      <td>Lombard</td>\n",
       "      <td>2013</td>\n",
       "      <td>2013-09-19</td>\n",
       "      <td>Comedy, Crime</td>\n",
       "      <td>88</td>\n",
       "      <td>Ukraine</td>\n",
       "      <td>Russian</td>\n",
       "      <td>Lyubomir Levitskiy</td>\n",
       "      <td>Lyubomir Levitskiy</td>\n",
       "      <td>Kinofabrika Production</td>\n",
       "      <td>Borys Abramov, Andrey Burym, Deni Dadaev, Vale...</td>\n",
       "      <td>Mark and Yasha (played by Denis Nekyforov and ...</td>\n",
       "      <td>6.7</td>\n",
       "      <td>136</td>\n",
       "      <td>$ 3000000</td>\n",
       "      <td>NaN</td>\n",
       "      <td>NaN</td>\n",
       "      <td>NaN</td>\n",
       "      <td>NaN</td>\n",
       "      <td>NaN</td>\n",
       "    </tr>\n",
       "  </tbody>\n",
       "</table>\n",
       "</div>"
      ],
      "text/plain": [
       "            id             title    original_title  year date_published  \\\n",
       "12854  0061069  Tatsu no ko Tarô  Tatsu no ko Tarô  1979     1979-03-17   \n",
       "65306  2195804           Lombard           Lombard  2013     2013-09-19   \n",
       "\n",
       "                            genre  duration  country  language  \\\n",
       "12854  Adventure, Family, Fantasy        75    Japan  Japanese   \n",
       "65306               Comedy, Crime        88  Ukraine   Russian   \n",
       "\n",
       "                             director                            writer  \\\n",
       "12854  Kirio Urayama, Peter Fernandez  Miyoko Matsutani, Takashi Mitsui   \n",
       "65306              Lyubomir Levitskiy                Lyubomir Levitskiy   \n",
       "\n",
       "           production_company  \\\n",
       "12854          Toei Animation   \n",
       "65306  Kinofabrika Production   \n",
       "\n",
       "                                                  actors  \\\n",
       "12854  Kazuo Kitamura, Sayuri Yoshinaga, Jun'ya Katô,...   \n",
       "65306  Borys Abramov, Andrey Burym, Deni Dadaev, Vale...   \n",
       "\n",
       "                                             description  avg_vote  votes  \\\n",
       "12854  A young boy has to make a voyage to a distant ...       7.5    744   \n",
       "65306  Mark and Yasha (played by Denis Nekyforov and ...       6.7    136   \n",
       "\n",
       "          budget usa_gross_income worlwide_gross_income  metascore  \\\n",
       "12854        NaN              NaN                   NaN        NaN   \n",
       "65306  $ 3000000              NaN                   NaN        NaN   \n",
       "\n",
       "       reviews_from_users  reviews_from_critics  \n",
       "12854                 9.0                   7.0  \n",
       "65306                 NaN                   NaN  "
      ]
     },
     "execution_count": 253,
     "metadata": {},
     "output_type": "execute_result"
    }
   ],
   "source": [
    "# Rename column 'imdb_title_id' to 'id'\n",
    "mv.rename(columns={'imdb_title_id':'id'}, inplace=True)\n",
    "mv.sample(2)"
   ]
  },
  {
   "cell_type": "markdown",
   "metadata": {},
   "source": [
    "#### Convert the column 'imdb_title_id' to integer type"
   ]
  },
  {
   "cell_type": "code",
   "execution_count": 254,
   "metadata": {},
   "outputs": [
    {
     "name": "stdout",
     "output_type": "stream",
     "text": [
      "<class 'pandas.core.series.Series'>\n",
      "RangeIndex: 85855 entries, 0 to 85854\n",
      "Series name: id\n",
      "Non-Null Count  Dtype\n",
      "--------------  -----\n",
      "85855 non-null  int64\n",
      "dtypes: int64(1)\n",
      "memory usage: 670.9 KB\n"
     ]
    }
   ],
   "source": [
    "# Convert the column 'imdb_title_id' to integer type\n",
    "mv['id'] = mv['id'].astype(int)\n",
    "mv['id'].info()"
   ]
  },
  {
   "cell_type": "markdown",
   "metadata": {},
   "source": [
    "### Column: [title] and [original_title]"
   ]
  },
  {
   "cell_type": "code",
   "execution_count": 255,
   "metadata": {},
   "outputs": [
    {
     "data": {
      "text/plain": [
       "array(['Miss Jerry', 'The Story of the Kelly Gang', 'Den sorte drøm', ...,\n",
       "       'Padmavyuhathile Abhimanyu', 'Sokagin Çocuklari',\n",
       "       'La vida sense la Sara Amat'], dtype=object)"
      ]
     },
     "execution_count": 255,
     "metadata": {},
     "output_type": "execute_result"
    }
   ],
   "source": [
    "# Check the unique values\n",
    "df['title'].unique()"
   ]
  },
  {
   "cell_type": "markdown",
   "metadata": {},
   "source": [
    "- The 'title' column does not has any data anomaly and does not require cleaning"
   ]
  },
  {
   "cell_type": "code",
   "execution_count": 256,
   "metadata": {},
   "outputs": [
    {
     "data": {
      "text/plain": [
       "array(['Miss Jerry', 'The Story of the Kelly Gang', 'Den sorte drøm', ...,\n",
       "       'Padmavyuhathile Abhimanyu', 'Sokagin Çocuklari',\n",
       "       'La vida sense la Sara Amat'], dtype=object)"
      ]
     },
     "execution_count": 256,
     "metadata": {},
     "output_type": "execute_result"
    }
   ],
   "source": [
    "# Check the unique values in 'original_title'\n",
    "df['original_title'].unique()"
   ]
  },
  {
   "cell_type": "markdown",
   "metadata": {},
   "source": [
    "- Both the columns are same and the column 'title' can be dropped"
   ]
  },
  {
   "cell_type": "markdown",
   "metadata": {},
   "source": [
    "#### Drop the column 'title'"
   ]
  },
  {
   "cell_type": "code",
   "execution_count": 257,
   "metadata": {},
   "outputs": [],
   "source": [
    "# Drop the column title\n",
    "mv.drop(columns=['title'],inplace=True)"
   ]
  },
  {
   "cell_type": "markdown",
   "metadata": {},
   "source": [
    "#### Rename the column 'original_title' to 'title'"
   ]
  },
  {
   "cell_type": "code",
   "execution_count": 258,
   "metadata": {},
   "outputs": [
    {
     "data": {
      "text/html": [
       "<div>\n",
       "<style scoped>\n",
       "    .dataframe tbody tr th:only-of-type {\n",
       "        vertical-align: middle;\n",
       "    }\n",
       "\n",
       "    .dataframe tbody tr th {\n",
       "        vertical-align: top;\n",
       "    }\n",
       "\n",
       "    .dataframe thead th {\n",
       "        text-align: right;\n",
       "    }\n",
       "</style>\n",
       "<table border=\"1\" class=\"dataframe\">\n",
       "  <thead>\n",
       "    <tr style=\"text-align: right;\">\n",
       "      <th></th>\n",
       "      <th>title</th>\n",
       "    </tr>\n",
       "  </thead>\n",
       "  <tbody>\n",
       "    <tr>\n",
       "      <th>31548</th>\n",
       "      <td>Assault of the Party Nerds 2: The Heavy Pettin...</td>\n",
       "    </tr>\n",
       "    <tr>\n",
       "      <th>3757</th>\n",
       "      <td>You Can't Fool Your Wife</td>\n",
       "    </tr>\n",
       "    <tr>\n",
       "      <th>46579</th>\n",
       "      <td>Good Night, and Good Luck.</td>\n",
       "    </tr>\n",
       "    <tr>\n",
       "      <th>56471</th>\n",
       "      <td>I taket lyser stjärnorna</td>\n",
       "    </tr>\n",
       "    <tr>\n",
       "      <th>50691</th>\n",
       "      <td>Die Wilden Hühner und die Liebe</td>\n",
       "    </tr>\n",
       "    <tr>\n",
       "      <th>13984</th>\n",
       "      <td>Goodbye, Columbus</td>\n",
       "    </tr>\n",
       "    <tr>\n",
       "      <th>5661</th>\n",
       "      <td>Roses Are Red</td>\n",
       "    </tr>\n",
       "    <tr>\n",
       "      <th>45990</th>\n",
       "      <td>Sommersturm</td>\n",
       "    </tr>\n",
       "    <tr>\n",
       "      <th>32670</th>\n",
       "      <td>The Boys</td>\n",
       "    </tr>\n",
       "    <tr>\n",
       "      <th>51434</th>\n",
       "      <td>Los abrazos rotos</td>\n",
       "    </tr>\n",
       "  </tbody>\n",
       "</table>\n",
       "</div>"
      ],
      "text/plain": [
       "                                                   title\n",
       "31548  Assault of the Party Nerds 2: The Heavy Pettin...\n",
       "3757                            You Can't Fool Your Wife\n",
       "46579                         Good Night, and Good Luck.\n",
       "56471                           I taket lyser stjärnorna\n",
       "50691                    Die Wilden Hühner und die Liebe\n",
       "13984                                  Goodbye, Columbus\n",
       "5661                                       Roses Are Red\n",
       "45990                                        Sommersturm\n",
       "32670                                           The Boys\n",
       "51434                                  Los abrazos rotos"
      ]
     },
     "execution_count": 258,
     "metadata": {},
     "output_type": "execute_result"
    }
   ],
   "source": [
    "# Rename the column 'original_title' to 'title' \n",
    "mv.rename(columns={'original_title':'title'}, inplace=True)\n",
    "mv[['title']].sample(10)"
   ]
  },
  {
   "cell_type": "markdown",
   "metadata": {},
   "source": [
    "### Column: [year] and [date_published]\n",
    "- We can drop the 'year' column\n",
    "- from the 'date_published' column we will extract the year and further rename the column to 'year'"
   ]
  },
  {
   "cell_type": "code",
   "execution_count": 259,
   "metadata": {},
   "outputs": [],
   "source": [
    "# Drop the column 'year'\n",
    "mv.drop(columns=['year'],inplace=True)"
   ]
  },
  {
   "cell_type": "markdown",
   "metadata": {},
   "source": [
    "#### Extract year from the column 'date_published'"
   ]
  },
  {
   "cell_type": "code",
   "execution_count": 260,
   "metadata": {},
   "outputs": [],
   "source": [
    "# Convert the column 'published_year' to date_time\n",
    "mv['date_published'] = mv['date_published'].str[:4]"
   ]
  },
  {
   "cell_type": "code",
   "execution_count": 261,
   "metadata": {},
   "outputs": [
    {
     "data": {
      "text/html": [
       "<div>\n",
       "<style scoped>\n",
       "    .dataframe tbody tr th:only-of-type {\n",
       "        vertical-align: middle;\n",
       "    }\n",
       "\n",
       "    .dataframe tbody tr th {\n",
       "        vertical-align: top;\n",
       "    }\n",
       "\n",
       "    .dataframe thead th {\n",
       "        text-align: right;\n",
       "    }\n",
       "</style>\n",
       "<table border=\"1\" class=\"dataframe\">\n",
       "  <thead>\n",
       "    <tr style=\"text-align: right;\">\n",
       "      <th></th>\n",
       "      <th>date_published</th>\n",
       "    </tr>\n",
       "  </thead>\n",
       "  <tbody>\n",
       "    <tr>\n",
       "      <th>58372</th>\n",
       "      <td>2009</td>\n",
       "    </tr>\n",
       "    <tr>\n",
       "      <th>8894</th>\n",
       "      <td>1956</td>\n",
       "    </tr>\n",
       "    <tr>\n",
       "      <th>38760</th>\n",
       "      <td>1967</td>\n",
       "    </tr>\n",
       "    <tr>\n",
       "      <th>22689</th>\n",
       "      <td>1987</td>\n",
       "    </tr>\n",
       "    <tr>\n",
       "      <th>9984</th>\n",
       "      <td>1959</td>\n",
       "    </tr>\n",
       "  </tbody>\n",
       "</table>\n",
       "</div>"
      ],
      "text/plain": [
       "      date_published\n",
       "58372           2009\n",
       "8894            1956\n",
       "38760           1967\n",
       "22689           1987\n",
       "9984            1959"
      ]
     },
     "execution_count": 261,
     "metadata": {},
     "output_type": "execute_result"
    }
   ],
   "source": [
    "mv[['date_published']].sample(5)"
   ]
  },
  {
   "cell_type": "markdown",
   "metadata": {},
   "source": [
    "#### Rename the column 'date_published' to 'year'"
   ]
  },
  {
   "cell_type": "code",
   "execution_count": 262,
   "metadata": {},
   "outputs": [
    {
     "data": {
      "text/html": [
       "<div>\n",
       "<style scoped>\n",
       "    .dataframe tbody tr th:only-of-type {\n",
       "        vertical-align: middle;\n",
       "    }\n",
       "\n",
       "    .dataframe tbody tr th {\n",
       "        vertical-align: top;\n",
       "    }\n",
       "\n",
       "    .dataframe thead th {\n",
       "        text-align: right;\n",
       "    }\n",
       "</style>\n",
       "<table border=\"1\" class=\"dataframe\">\n",
       "  <thead>\n",
       "    <tr style=\"text-align: right;\">\n",
       "      <th></th>\n",
       "      <th>id</th>\n",
       "      <th>title</th>\n",
       "      <th>year</th>\n",
       "      <th>genre</th>\n",
       "      <th>duration</th>\n",
       "      <th>country</th>\n",
       "      <th>language</th>\n",
       "      <th>director</th>\n",
       "      <th>writer</th>\n",
       "      <th>production_company</th>\n",
       "      <th>actors</th>\n",
       "      <th>description</th>\n",
       "      <th>avg_vote</th>\n",
       "      <th>votes</th>\n",
       "      <th>budget</th>\n",
       "      <th>usa_gross_income</th>\n",
       "      <th>worlwide_gross_income</th>\n",
       "      <th>metascore</th>\n",
       "      <th>reviews_from_users</th>\n",
       "      <th>reviews_from_critics</th>\n",
       "    </tr>\n",
       "  </thead>\n",
       "  <tbody>\n",
       "    <tr>\n",
       "      <th>33700</th>\n",
       "      <td>161010</td>\n",
       "      <td>The Trench</td>\n",
       "      <td>1999</td>\n",
       "      <td>Drama, History, War</td>\n",
       "      <td>98</td>\n",
       "      <td>France, UK</td>\n",
       "      <td>English</td>\n",
       "      <td>William Boyd</td>\n",
       "      <td>William Boyd</td>\n",
       "      <td>Arts Council of England</td>\n",
       "      <td>Paul Nicholls, Daniel Craig, Julian Rhind-Tutt...</td>\n",
       "      <td>A story about a group of soldiers' last days b...</td>\n",
       "      <td>6.0</td>\n",
       "      <td>2496</td>\n",
       "      <td>NaN</td>\n",
       "      <td>NaN</td>\n",
       "      <td>NaN</td>\n",
       "      <td>58.0</td>\n",
       "      <td>35.0</td>\n",
       "      <td>14.0</td>\n",
       "    </tr>\n",
       "    <tr>\n",
       "      <th>18418</th>\n",
       "      <td>77470</td>\n",
       "      <td>Dracula's Dog</td>\n",
       "      <td>1977</td>\n",
       "      <td>Horror</td>\n",
       "      <td>87</td>\n",
       "      <td>USA, Italy</td>\n",
       "      <td>English</td>\n",
       "      <td>Albert Band</td>\n",
       "      <td>Frank Ray Perilli</td>\n",
       "      <td>EMI Television</td>\n",
       "      <td>Michael Pataki, Jan Shutan, Libby Chase, John ...</td>\n",
       "      <td>Russian soldiers accidentally unleash the serv...</td>\n",
       "      <td>4.4</td>\n",
       "      <td>1136</td>\n",
       "      <td>NaN</td>\n",
       "      <td>NaN</td>\n",
       "      <td>NaN</td>\n",
       "      <td>NaN</td>\n",
       "      <td>40.0</td>\n",
       "      <td>38.0</td>\n",
       "    </tr>\n",
       "  </tbody>\n",
       "</table>\n",
       "</div>"
      ],
      "text/plain": [
       "           id          title  year                genre  duration     country  \\\n",
       "33700  161010     The Trench  1999  Drama, History, War        98  France, UK   \n",
       "18418   77470  Dracula's Dog  1977               Horror        87  USA, Italy   \n",
       "\n",
       "      language      director             writer       production_company  \\\n",
       "33700  English  William Boyd       William Boyd  Arts Council of England   \n",
       "18418  English   Albert Band  Frank Ray Perilli           EMI Television   \n",
       "\n",
       "                                                  actors  \\\n",
       "33700  Paul Nicholls, Daniel Craig, Julian Rhind-Tutt...   \n",
       "18418  Michael Pataki, Jan Shutan, Libby Chase, John ...   \n",
       "\n",
       "                                             description  avg_vote  votes  \\\n",
       "33700  A story about a group of soldiers' last days b...       6.0   2496   \n",
       "18418  Russian soldiers accidentally unleash the serv...       4.4   1136   \n",
       "\n",
       "      budget usa_gross_income worlwide_gross_income  metascore  \\\n",
       "33700    NaN              NaN                   NaN       58.0   \n",
       "18418    NaN              NaN                   NaN        NaN   \n",
       "\n",
       "       reviews_from_users  reviews_from_critics  \n",
       "33700                35.0                  14.0  \n",
       "18418                40.0                  38.0  "
      ]
     },
     "execution_count": 262,
     "metadata": {},
     "output_type": "execute_result"
    }
   ],
   "source": [
    "mv.rename(columns={'date_published': 'year'}, inplace=True)\n",
    "mv.sample(2)"
   ]
  },
  {
   "cell_type": "markdown",
   "metadata": {},
   "source": [
    "### Column: [genre]"
   ]
  },
  {
   "cell_type": "code",
   "execution_count": 263,
   "metadata": {},
   "outputs": [
    {
     "data": {
      "text/html": [
       "<div>\n",
       "<style scoped>\n",
       "    .dataframe tbody tr th:only-of-type {\n",
       "        vertical-align: middle;\n",
       "    }\n",
       "\n",
       "    .dataframe tbody tr th {\n",
       "        vertical-align: top;\n",
       "    }\n",
       "\n",
       "    .dataframe thead th {\n",
       "        text-align: right;\n",
       "    }\n",
       "</style>\n",
       "<table border=\"1\" class=\"dataframe\">\n",
       "  <thead>\n",
       "    <tr style=\"text-align: right;\">\n",
       "      <th></th>\n",
       "      <th>genre</th>\n",
       "    </tr>\n",
       "  </thead>\n",
       "  <tbody>\n",
       "    <tr>\n",
       "      <th>5622</th>\n",
       "      <td>Adventure, Family, Mystery</td>\n",
       "    </tr>\n",
       "    <tr>\n",
       "      <th>79127</th>\n",
       "      <td>Drama</td>\n",
       "    </tr>\n",
       "    <tr>\n",
       "      <th>45419</th>\n",
       "      <td>Action, Drama, Sci-Fi</td>\n",
       "    </tr>\n",
       "    <tr>\n",
       "      <th>8333</th>\n",
       "      <td>Crime, Drama, Film-Noir</td>\n",
       "    </tr>\n",
       "    <tr>\n",
       "      <th>40361</th>\n",
       "      <td>Drama</td>\n",
       "    </tr>\n",
       "    <tr>\n",
       "      <th>26707</th>\n",
       "      <td>Drama, Thriller</td>\n",
       "    </tr>\n",
       "    <tr>\n",
       "      <th>11152</th>\n",
       "      <td>Adventure, Drama</td>\n",
       "    </tr>\n",
       "    <tr>\n",
       "      <th>32574</th>\n",
       "      <td>Drama</td>\n",
       "    </tr>\n",
       "    <tr>\n",
       "      <th>73018</th>\n",
       "      <td>Action, Drama, Thriller</td>\n",
       "    </tr>\n",
       "    <tr>\n",
       "      <th>61068</th>\n",
       "      <td>Comedy, Drama</td>\n",
       "    </tr>\n",
       "  </tbody>\n",
       "</table>\n",
       "</div>"
      ],
      "text/plain": [
       "                            genre\n",
       "5622   Adventure, Family, Mystery\n",
       "79127                       Drama\n",
       "45419       Action, Drama, Sci-Fi\n",
       "8333      Crime, Drama, Film-Noir\n",
       "40361                       Drama\n",
       "26707             Drama, Thriller\n",
       "11152            Adventure, Drama\n",
       "32574                       Drama\n",
       "73018     Action, Drama, Thriller\n",
       "61068               Comedy, Drama"
      ]
     },
     "execution_count": 263,
     "metadata": {},
     "output_type": "execute_result"
    }
   ],
   "source": [
    "mv[['genre']].sample(10)"
   ]
  },
  {
   "cell_type": "markdown",
   "metadata": {},
   "source": [
    "#### Genre column contains multiple genres for a single movie, but it must be noted that:\n",
    "- for each movie we have a maximum of 3 genres\n",
    "- we can split these multiple genres into three columns 'Genre 1' , 'Genre 2', and 'Genre 3'\n",
    "- The splitted values can be assigned to the three columns 'Genre 1' , 'Genre 2', and 'Genre 3' respectively"
   ]
  },
  {
   "cell_type": "code",
   "execution_count": 264,
   "metadata": {},
   "outputs": [],
   "source": [
    "# create a temp df 'genre_split' to store the splitted genres\n",
    "genre_split  = mv['genre'].str.split(',', expand = True)"
   ]
  },
  {
   "cell_type": "code",
   "execution_count": 265,
   "metadata": {},
   "outputs": [],
   "source": [
    "# Rename the columns to Genre1, Genre2, Genre3\n",
    "genre_cols = ['genre1', 'genre2', 'genre3']\n",
    "genre_split.columns = genre_cols"
   ]
  },
  {
   "cell_type": "code",
   "execution_count": 266,
   "metadata": {},
   "outputs": [
    {
     "data": {
      "text/html": [
       "<div>\n",
       "<style scoped>\n",
       "    .dataframe tbody tr th:only-of-type {\n",
       "        vertical-align: middle;\n",
       "    }\n",
       "\n",
       "    .dataframe tbody tr th {\n",
       "        vertical-align: top;\n",
       "    }\n",
       "\n",
       "    .dataframe thead th {\n",
       "        text-align: right;\n",
       "    }\n",
       "</style>\n",
       "<table border=\"1\" class=\"dataframe\">\n",
       "  <thead>\n",
       "    <tr style=\"text-align: right;\">\n",
       "      <th></th>\n",
       "      <th>genre1</th>\n",
       "      <th>genre2</th>\n",
       "      <th>genre3</th>\n",
       "    </tr>\n",
       "  </thead>\n",
       "  <tbody>\n",
       "    <tr>\n",
       "      <th>81413</th>\n",
       "      <td>Drama</td>\n",
       "      <td>Family</td>\n",
       "      <td>None</td>\n",
       "    </tr>\n",
       "    <tr>\n",
       "      <th>6142</th>\n",
       "      <td>Western</td>\n",
       "      <td>None</td>\n",
       "      <td>None</td>\n",
       "    </tr>\n",
       "    <tr>\n",
       "      <th>84913</th>\n",
       "      <td>Drama</td>\n",
       "      <td>History</td>\n",
       "      <td>None</td>\n",
       "    </tr>\n",
       "    <tr>\n",
       "      <th>85270</th>\n",
       "      <td>Horror</td>\n",
       "      <td>None</td>\n",
       "      <td>None</td>\n",
       "    </tr>\n",
       "    <tr>\n",
       "      <th>20334</th>\n",
       "      <td>Comedy</td>\n",
       "      <td>Drama</td>\n",
       "      <td>None</td>\n",
       "    </tr>\n",
       "    <tr>\n",
       "      <th>40173</th>\n",
       "      <td>Drama</td>\n",
       "      <td>Romance</td>\n",
       "      <td>None</td>\n",
       "    </tr>\n",
       "    <tr>\n",
       "      <th>47019</th>\n",
       "      <td>Action</td>\n",
       "      <td>Drama</td>\n",
       "      <td>None</td>\n",
       "    </tr>\n",
       "    <tr>\n",
       "      <th>83938</th>\n",
       "      <td>Comedy</td>\n",
       "      <td>None</td>\n",
       "      <td>None</td>\n",
       "    </tr>\n",
       "    <tr>\n",
       "      <th>53227</th>\n",
       "      <td>Action</td>\n",
       "      <td>Drama</td>\n",
       "      <td>Thriller</td>\n",
       "    </tr>\n",
       "    <tr>\n",
       "      <th>82304</th>\n",
       "      <td>Action</td>\n",
       "      <td>Adventure</td>\n",
       "      <td>Drama</td>\n",
       "    </tr>\n",
       "  </tbody>\n",
       "</table>\n",
       "</div>"
      ],
      "text/plain": [
       "        genre1      genre2     genre3\n",
       "81413    Drama      Family       None\n",
       "6142   Western        None       None\n",
       "84913    Drama     History       None\n",
       "85270   Horror        None       None\n",
       "20334   Comedy       Drama       None\n",
       "40173    Drama     Romance       None\n",
       "47019   Action       Drama       None\n",
       "83938   Comedy        None       None\n",
       "53227   Action       Drama   Thriller\n",
       "82304   Action   Adventure      Drama"
      ]
     },
     "execution_count": 266,
     "metadata": {},
     "output_type": "execute_result"
    }
   ],
   "source": [
    "# Concatenate the split genre df to original df\n",
    "for i in range(len(genre_cols)):\n",
    "    mv.insert(loc=mv.columns.get_loc('genre') + 1 + i, column=genre_cols[i], value=genre_split.iloc[:, i])\n",
    "mv[['genre1','genre2','genre3']].sample(10)"
   ]
  },
  {
   "cell_type": "code",
   "execution_count": 267,
   "metadata": {},
   "outputs": [
    {
     "data": {
      "text/html": [
       "<div>\n",
       "<style scoped>\n",
       "    .dataframe tbody tr th:only-of-type {\n",
       "        vertical-align: middle;\n",
       "    }\n",
       "\n",
       "    .dataframe tbody tr th {\n",
       "        vertical-align: top;\n",
       "    }\n",
       "\n",
       "    .dataframe thead th {\n",
       "        text-align: right;\n",
       "    }\n",
       "</style>\n",
       "<table border=\"1\" class=\"dataframe\">\n",
       "  <thead>\n",
       "    <tr style=\"text-align: right;\">\n",
       "      <th></th>\n",
       "      <th>id</th>\n",
       "      <th>title</th>\n",
       "      <th>year</th>\n",
       "      <th>genre1</th>\n",
       "      <th>genre2</th>\n",
       "      <th>genre3</th>\n",
       "      <th>duration</th>\n",
       "      <th>country</th>\n",
       "      <th>language</th>\n",
       "      <th>director</th>\n",
       "      <th>writer</th>\n",
       "      <th>production_company</th>\n",
       "      <th>actors</th>\n",
       "      <th>description</th>\n",
       "      <th>avg_vote</th>\n",
       "      <th>votes</th>\n",
       "      <th>budget</th>\n",
       "      <th>usa_gross_income</th>\n",
       "      <th>worlwide_gross_income</th>\n",
       "      <th>metascore</th>\n",
       "      <th>reviews_from_users</th>\n",
       "      <th>reviews_from_critics</th>\n",
       "    </tr>\n",
       "  </thead>\n",
       "  <tbody>\n",
       "    <tr>\n",
       "      <th>61421</th>\n",
       "      <td>1732571</td>\n",
       "      <td>Between Notes</td>\n",
       "      <td>2010</td>\n",
       "      <td>Comedy</td>\n",
       "      <td>Drama</td>\n",
       "      <td>Music</td>\n",
       "      <td>78</td>\n",
       "      <td>USA</td>\n",
       "      <td>English</td>\n",
       "      <td>Christopher Grissom</td>\n",
       "      <td>Matthew Austin Brown</td>\n",
       "      <td>BFM Creative</td>\n",
       "      <td>Summer Ames, Shelby Cook, Brittany Joyner, Bra...</td>\n",
       "      <td>Between Notes is a modern day musical about a ...</td>\n",
       "      <td>4.7</td>\n",
       "      <td>107</td>\n",
       "      <td>NaN</td>\n",
       "      <td>NaN</td>\n",
       "      <td>NaN</td>\n",
       "      <td>NaN</td>\n",
       "      <td>5.0</td>\n",
       "      <td>NaN</td>\n",
       "    </tr>\n",
       "    <tr>\n",
       "      <th>76749</th>\n",
       "      <td>5097398</td>\n",
       "      <td>Les 3 p'tits cochons 2</td>\n",
       "      <td>2016</td>\n",
       "      <td>Comedy</td>\n",
       "      <td>Romance</td>\n",
       "      <td>None</td>\n",
       "      <td>102</td>\n",
       "      <td>Canada</td>\n",
       "      <td>French</td>\n",
       "      <td>Jean-François Pouliot</td>\n",
       "      <td>Claude Lalonde, Pierre Lamothe</td>\n",
       "      <td>Christal Films</td>\n",
       "      <td>Paul Doucet, Guillaume Lemay-Thivierge, Patric...</td>\n",
       "      <td>Rémy (Paul Doucet) is always between two plane...</td>\n",
       "      <td>6.4</td>\n",
       "      <td>304</td>\n",
       "      <td>NaN</td>\n",
       "      <td>NaN</td>\n",
       "      <td>$ 11414</td>\n",
       "      <td>NaN</td>\n",
       "      <td>NaN</td>\n",
       "      <td>2.0</td>\n",
       "    </tr>\n",
       "  </tbody>\n",
       "</table>\n",
       "</div>"
      ],
      "text/plain": [
       "            id                   title  year  genre1    genre2  genre3  \\\n",
       "61421  1732571           Between Notes  2010  Comedy     Drama   Music   \n",
       "76749  5097398  Les 3 p'tits cochons 2  2016  Comedy   Romance    None   \n",
       "\n",
       "       duration country language               director  \\\n",
       "61421        78     USA  English    Christopher Grissom   \n",
       "76749       102  Canada   French  Jean-François Pouliot   \n",
       "\n",
       "                               writer production_company  \\\n",
       "61421            Matthew Austin Brown       BFM Creative   \n",
       "76749  Claude Lalonde, Pierre Lamothe     Christal Films   \n",
       "\n",
       "                                                  actors  \\\n",
       "61421  Summer Ames, Shelby Cook, Brittany Joyner, Bra...   \n",
       "76749  Paul Doucet, Guillaume Lemay-Thivierge, Patric...   \n",
       "\n",
       "                                             description  avg_vote  votes  \\\n",
       "61421  Between Notes is a modern day musical about a ...       4.7    107   \n",
       "76749  Rémy (Paul Doucet) is always between two plane...       6.4    304   \n",
       "\n",
       "      budget usa_gross_income worlwide_gross_income  metascore  \\\n",
       "61421    NaN              NaN                   NaN        NaN   \n",
       "76749    NaN              NaN               $ 11414        NaN   \n",
       "\n",
       "       reviews_from_users  reviews_from_critics  \n",
       "61421                 5.0                   NaN  \n",
       "76749                 NaN                   2.0  "
      ]
     },
     "execution_count": 267,
     "metadata": {},
     "output_type": "execute_result"
    }
   ],
   "source": [
    "# Drop the column genre \n",
    "mv.drop(columns=['genre'],inplace=True)\n",
    "mv.sample(2)"
   ]
  },
  {
   "cell_type": "markdown",
   "metadata": {},
   "source": []
  },
  {
   "cell_type": "markdown",
   "metadata": {},
   "source": [
    "### Column: [duration]\n",
    "- the duration column has the run time for the movie in minutes which we will convert to hours"
   ]
  },
  {
   "cell_type": "code",
   "execution_count": 268,
   "metadata": {},
   "outputs": [
    {
     "data": {
      "text/plain": [
       "dtype('int64')"
      ]
     },
     "execution_count": 268,
     "metadata": {},
     "output_type": "execute_result"
    }
   ],
   "source": [
    "# Check the data type\n",
    "mv['duration'].dtype"
   ]
  },
  {
   "cell_type": "code",
   "execution_count": 269,
   "metadata": {},
   "outputs": [
    {
     "data": {
      "text/plain": [
       "array([ 45,  70,  53, 100,  68,  60,  85, 120,  55, 121,  54,  96,  61,\n",
       "        90,  50,  88,  72,  78, 148,  52, 124,  59,  63,  84,  65,  81,\n",
       "       199,  74,  80,  82,  67,  56, 195,  77,  71,  46, 421, 105,  57,\n",
       "        58,  73,  64,  62, 163, 300, 116,  69, 125,  97, 138, 112,  91,\n",
       "        87,  48,  83, 136,  75,  94, 117,  93,  76, 418,  86, 223,  99,\n",
       "       122, 207, 166,  95,  92,  66, 106, 145, 167,  79, 107, 109, 104,\n",
       "        89, 102, 150, 131,  47, 119,  98, 110, 143, 137, 128, 101, 183,\n",
       "       133, 135, 111, 141, 115, 153, 129, 123, 108, 155, 151, 170, 140,\n",
       "       113, 114, 250, 132, 118, 160, 240, 142, 103, 144,  49, 127, 156,\n",
       "       130, 165, 147, 152, 226, 227, 231, 218, 200, 210, 225, 243,  51,\n",
       "       281, 208, 306, 257, 245, 255, 328, 168, 269, 303, 290, 212, 224,\n",
       "       126, 260, 299, 264, 149, 211, 302, 238, 258, 263, 215, 265, 205,\n",
       "       237, 220, 285, 293, 267, 216, 241,  43, 134, 184, 261, 197, 244,\n",
       "       146, 177, 196, 154, 189, 219, 201, 180, 159, 192, 139, 171, 252,\n",
       "       193, 161, 242, 157, 182, 158, 172, 162, 173, 330, 164, 181, 169,\n",
       "       174, 179, 209, 178, 190, 228, 175, 186, 188, 191, 176, 185, 234,\n",
       "       232, 202, 221, 203, 253, 206, 239, 217, 187, 287, 204, 230, 317,\n",
       "       311, 442, 235, 275, 288, 194, 229, 410, 357, 335, 222, 214, 213,\n",
       "       271, 298, 439, 198,  41, 729, 345, 233, 580, 323, 315, 247, 366,\n",
       "       301, 262, 278, 540, 279,  44, 570, 369, 272, 450,  42, 321, 398,\n",
       "       360, 338, 319, 485, 808, 354])"
      ]
     },
     "execution_count": 269,
     "metadata": {},
     "output_type": "execute_result"
    }
   ],
   "source": [
    "mv['duration'].unique()"
   ]
  },
  {
   "cell_type": "code",
   "execution_count": 270,
   "metadata": {},
   "outputs": [
    {
     "data": {
      "text/plain": [
       "array([ 0.75,  1.17,  0.88,  1.67,  1.13,  1.  ,  1.42,  2.  ,  0.92,\n",
       "        2.02,  0.9 ,  1.6 ,  1.02,  1.5 ,  0.83,  1.47,  1.2 ,  1.3 ,\n",
       "        2.47,  0.87,  2.07,  0.98,  1.05,  1.4 ,  1.08,  1.35,  3.32,\n",
       "        1.23,  1.33,  1.37,  1.12,  0.93,  3.25,  1.28,  1.18,  0.77,\n",
       "        7.02,  1.75,  0.95,  0.97,  1.22,  1.07,  1.03,  2.72,  5.  ,\n",
       "        1.93,  1.15,  2.08,  1.62,  2.3 ,  1.87,  1.52,  1.45,  0.8 ,\n",
       "        1.38,  2.27,  1.25,  1.57,  1.95,  1.55,  1.27,  6.97,  1.43,\n",
       "        3.72,  1.65,  2.03,  3.45,  2.77,  1.58,  1.53,  1.1 ,  1.77,\n",
       "        2.42,  2.78,  1.32,  1.78,  1.82,  1.73,  1.48,  1.7 ,  2.5 ,\n",
       "        2.18,  0.78,  1.98,  1.63,  1.83,  2.38,  2.28,  2.13,  1.68,\n",
       "        3.05,  2.22,  2.25,  1.85,  2.35,  1.92,  2.55,  2.15,  2.05,\n",
       "        1.8 ,  2.58,  2.52,  2.83,  2.33,  1.88,  1.9 ,  4.17,  2.2 ,\n",
       "        1.97,  2.67,  4.  ,  2.37,  1.72,  2.4 ,  0.82,  2.12,  2.6 ,\n",
       "        2.17,  2.75,  2.45,  2.53,  3.77,  3.78,  3.85,  3.63,  3.33,\n",
       "        3.5 ,  3.75,  4.05,  0.85,  4.68,  3.47,  5.1 ,  4.28,  4.08,\n",
       "        4.25,  5.47,  2.8 ,  4.48,  5.05,  4.83,  3.53,  3.73,  2.1 ,\n",
       "        4.33,  4.98,  4.4 ,  2.48,  3.52,  5.03,  3.97,  4.3 ,  4.38,\n",
       "        3.58,  4.42,  3.42,  3.95,  3.67,  4.75,  4.88,  4.45,  3.6 ,\n",
       "        4.02,  0.72,  2.23,  3.07,  4.35,  3.28,  4.07,  2.43,  2.95,\n",
       "        3.27,  2.57,  3.15,  3.65,  3.35,  3.  ,  2.65,  3.2 ,  2.32,\n",
       "        2.85,  4.2 ,  3.22,  2.68,  4.03,  2.62,  3.03,  2.63,  2.87,\n",
       "        2.7 ,  2.88,  5.5 ,  2.73,  3.02,  2.82,  2.9 ,  2.98,  3.48,\n",
       "        2.97,  3.17,  3.8 ,  2.92,  3.1 ,  3.13,  3.18,  2.93,  3.08,\n",
       "        3.9 ,  3.87,  3.37,  3.68,  3.38,  4.22,  3.43,  3.98,  3.62,\n",
       "        3.12,  4.78,  3.4 ,  3.83,  5.28,  5.18,  7.37,  3.92,  4.58,\n",
       "        4.8 ,  3.23,  3.82,  6.83,  5.95,  5.58,  3.7 ,  3.57,  3.55,\n",
       "        4.52,  4.97,  7.32,  3.3 ,  0.68, 12.15,  5.75,  3.88,  9.67,\n",
       "        5.38,  5.25,  4.12,  6.1 ,  5.02,  4.37,  4.63,  9.  ,  4.65,\n",
       "        0.73,  9.5 ,  6.15,  4.53,  7.5 ,  0.7 ,  5.35,  6.63,  6.  ,\n",
       "        5.63,  5.32,  8.08, 13.47,  5.9 ])"
      ]
     },
     "execution_count": 270,
     "metadata": {},
     "output_type": "execute_result"
    }
   ],
   "source": [
    "# Convert the minutes in the duration column to hours\n",
    "mv['duration'] = (mv['duration']/60).round(2)\n",
    "mv['duration'].unique()"
   ]
  },
  {
   "cell_type": "markdown",
   "metadata": {},
   "source": [
    "#### Rename the column to duration(hours)"
   ]
  },
  {
   "cell_type": "code",
   "execution_count": 271,
   "metadata": {},
   "outputs": [
    {
     "data": {
      "text/html": [
       "<div>\n",
       "<style scoped>\n",
       "    .dataframe tbody tr th:only-of-type {\n",
       "        vertical-align: middle;\n",
       "    }\n",
       "\n",
       "    .dataframe tbody tr th {\n",
       "        vertical-align: top;\n",
       "    }\n",
       "\n",
       "    .dataframe thead th {\n",
       "        text-align: right;\n",
       "    }\n",
       "</style>\n",
       "<table border=\"1\" class=\"dataframe\">\n",
       "  <thead>\n",
       "    <tr style=\"text-align: right;\">\n",
       "      <th></th>\n",
       "      <th>duration(hours)</th>\n",
       "    </tr>\n",
       "  </thead>\n",
       "  <tbody>\n",
       "    <tr>\n",
       "      <th>9380</th>\n",
       "      <td>1.35</td>\n",
       "    </tr>\n",
       "    <tr>\n",
       "      <th>56682</th>\n",
       "      <td>1.65</td>\n",
       "    </tr>\n",
       "    <tr>\n",
       "      <th>31941</th>\n",
       "      <td>1.50</td>\n",
       "    </tr>\n",
       "    <tr>\n",
       "      <th>18749</th>\n",
       "      <td>1.58</td>\n",
       "    </tr>\n",
       "    <tr>\n",
       "      <th>72608</th>\n",
       "      <td>1.65</td>\n",
       "    </tr>\n",
       "    <tr>\n",
       "      <th>27071</th>\n",
       "      <td>2.00</td>\n",
       "    </tr>\n",
       "    <tr>\n",
       "      <th>18852</th>\n",
       "      <td>1.77</td>\n",
       "    </tr>\n",
       "    <tr>\n",
       "      <th>19868</th>\n",
       "      <td>1.45</td>\n",
       "    </tr>\n",
       "    <tr>\n",
       "      <th>57683</th>\n",
       "      <td>1.00</td>\n",
       "    </tr>\n",
       "    <tr>\n",
       "      <th>8345</th>\n",
       "      <td>1.60</td>\n",
       "    </tr>\n",
       "  </tbody>\n",
       "</table>\n",
       "</div>"
      ],
      "text/plain": [
       "       duration(hours)\n",
       "9380              1.35\n",
       "56682             1.65\n",
       "31941             1.50\n",
       "18749             1.58\n",
       "72608             1.65\n",
       "27071             2.00\n",
       "18852             1.77\n",
       "19868             1.45\n",
       "57683             1.00\n",
       "8345              1.60"
      ]
     },
     "execution_count": 271,
     "metadata": {},
     "output_type": "execute_result"
    }
   ],
   "source": [
    "# Rename the column to duration(hours)\n",
    "mv.rename(columns={'duration': 'duration(hours)'},inplace=True)\n",
    "mv[['duration(hours)']].sample(10)"
   ]
  },
  {
   "cell_type": "code",
   "execution_count": null,
   "metadata": {},
   "outputs": [],
   "source": []
  }
 ],
 "metadata": {
  "kernelspec": {
   "display_name": "Python 3",
   "language": "python",
   "name": "python3"
  },
  "language_info": {
   "codemirror_mode": {
    "name": "ipython",
    "version": 3
   },
   "file_extension": ".py",
   "mimetype": "text/x-python",
   "name": "python",
   "nbconvert_exporter": "python",
   "pygments_lexer": "ipython3",
   "version": "3.12.1"
  }
 },
 "nbformat": 4,
 "nbformat_minor": 2
}
