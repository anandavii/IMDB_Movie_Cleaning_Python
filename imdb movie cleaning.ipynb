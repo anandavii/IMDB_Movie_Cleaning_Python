{
 "cells": [
  {
   "cell_type": "markdown",
   "metadata": {},
   "source": [
    "# IMDB Movie Dataset Cleaning"
   ]
  },
  {
   "cell_type": "markdown",
   "metadata": {},
   "source": [
    "### Import Pandas Library"
   ]
  },
  {
   "cell_type": "code",
   "execution_count": 140,
   "metadata": {},
   "outputs": [],
   "source": [
    "import pandas as pd"
   ]
  },
  {
   "cell_type": "markdown",
   "metadata": {},
   "source": [
    "### Read the data file"
   ]
  },
  {
   "cell_type": "code",
   "execution_count": 141,
   "metadata": {},
   "outputs": [
    {
     "data": {
      "text/html": [
       "<div>\n",
       "<style scoped>\n",
       "    .dataframe tbody tr th:only-of-type {\n",
       "        vertical-align: middle;\n",
       "    }\n",
       "\n",
       "    .dataframe tbody tr th {\n",
       "        vertical-align: top;\n",
       "    }\n",
       "\n",
       "    .dataframe thead th {\n",
       "        text-align: right;\n",
       "    }\n",
       "</style>\n",
       "<table border=\"1\" class=\"dataframe\">\n",
       "  <thead>\n",
       "    <tr style=\"text-align: right;\">\n",
       "      <th></th>\n",
       "      <th>imdb_title_id</th>\n",
       "      <th>title</th>\n",
       "      <th>original_title</th>\n",
       "      <th>year</th>\n",
       "      <th>date_published</th>\n",
       "      <th>genre</th>\n",
       "      <th>duration</th>\n",
       "      <th>country</th>\n",
       "      <th>language</th>\n",
       "      <th>director</th>\n",
       "      <th>writer</th>\n",
       "      <th>production_company</th>\n",
       "      <th>actors</th>\n",
       "      <th>description</th>\n",
       "      <th>avg_vote</th>\n",
       "      <th>votes</th>\n",
       "      <th>budget</th>\n",
       "      <th>usa_gross_income</th>\n",
       "      <th>worlwide_gross_income</th>\n",
       "      <th>metascore</th>\n",
       "      <th>reviews_from_users</th>\n",
       "      <th>reviews_from_critics</th>\n",
       "    </tr>\n",
       "  </thead>\n",
       "  <tbody>\n",
       "    <tr>\n",
       "      <th>80885</th>\n",
       "      <td>tt6596796</td>\n",
       "      <td>Mai mee Samui samrab ter</td>\n",
       "      <td>Mai mee Samui samrab ter</td>\n",
       "      <td>2017</td>\n",
       "      <td>2018-02-01</td>\n",
       "      <td>Drama, Thriller</td>\n",
       "      <td>108</td>\n",
       "      <td>Thailand, Germany, Norway</td>\n",
       "      <td>Thai, English</td>\n",
       "      <td>Pen-Ek Ratanaruang</td>\n",
       "      <td>Pen-Ek Ratanaruang</td>\n",
       "      <td>Augenschein Filmproduktion</td>\n",
       "      <td>David Asavanond, Laila Boonyasak, Karen Gemma ...</td>\n",
       "      <td>A soap opera actress finds herself increasingl...</td>\n",
       "      <td>6.1</td>\n",
       "      <td>406</td>\n",
       "      <td>NaN</td>\n",
       "      <td>NaN</td>\n",
       "      <td>NaN</td>\n",
       "      <td>NaN</td>\n",
       "      <td>1.0</td>\n",
       "      <td>9.0</td>\n",
       "    </tr>\n",
       "    <tr>\n",
       "      <th>41813</th>\n",
       "      <td>tt0317171</td>\n",
       "      <td>Sud sanaeha</td>\n",
       "      <td>Sud sanaeha</td>\n",
       "      <td>2002</td>\n",
       "      <td>2002-10-09</td>\n",
       "      <td>Drama, Romance</td>\n",
       "      <td>125</td>\n",
       "      <td>Thailand, France</td>\n",
       "      <td>Thai</td>\n",
       "      <td>Apichatpong Weerasethakul</td>\n",
       "      <td>Apichatpong Weerasethakul</td>\n",
       "      <td>Anna Sanders Films</td>\n",
       "      <td>Kanokporn Tongaram, Min Oo, Jenjira Pongpas, S...</td>\n",
       "      <td>The story of a love affair that begins during ...</td>\n",
       "      <td>7.0</td>\n",
       "      <td>2207</td>\n",
       "      <td>NaN</td>\n",
       "      <td>NaN</td>\n",
       "      <td>$ 18720</td>\n",
       "      <td>77.0</td>\n",
       "      <td>14.0</td>\n",
       "      <td>38.0</td>\n",
       "    </tr>\n",
       "  </tbody>\n",
       "</table>\n",
       "</div>"
      ],
      "text/plain": [
       "      imdb_title_id                     title            original_title  year  \\\n",
       "80885     tt6596796  Mai mee Samui samrab ter  Mai mee Samui samrab ter  2017   \n",
       "41813     tt0317171               Sud sanaeha               Sud sanaeha  2002   \n",
       "\n",
       "      date_published            genre  duration                    country  \\\n",
       "80885     2018-02-01  Drama, Thriller       108  Thailand, Germany, Norway   \n",
       "41813     2002-10-09   Drama, Romance       125           Thailand, France   \n",
       "\n",
       "            language                   director                     writer  \\\n",
       "80885  Thai, English         Pen-Ek Ratanaruang         Pen-Ek Ratanaruang   \n",
       "41813           Thai  Apichatpong Weerasethakul  Apichatpong Weerasethakul   \n",
       "\n",
       "               production_company  \\\n",
       "80885  Augenschein Filmproduktion   \n",
       "41813          Anna Sanders Films   \n",
       "\n",
       "                                                  actors  \\\n",
       "80885  David Asavanond, Laila Boonyasak, Karen Gemma ...   \n",
       "41813  Kanokporn Tongaram, Min Oo, Jenjira Pongpas, S...   \n",
       "\n",
       "                                             description  avg_vote  votes  \\\n",
       "80885  A soap opera actress finds herself increasingl...       6.1    406   \n",
       "41813  The story of a love affair that begins during ...       7.0   2207   \n",
       "\n",
       "      budget usa_gross_income worlwide_gross_income  metascore  \\\n",
       "80885    NaN              NaN                   NaN        NaN   \n",
       "41813    NaN              NaN               $ 18720       77.0   \n",
       "\n",
       "       reviews_from_users  reviews_from_critics  \n",
       "80885                 1.0                   9.0  \n",
       "41813                14.0                  38.0  "
      ]
     },
     "execution_count": 141,
     "metadata": {},
     "output_type": "execute_result"
    }
   ],
   "source": [
    "df = pd.read_csv(r\"datasource/imdb_movies.csv\", encoding='unicode_escape', low_memory=False)\n",
    "df.sample(2)"
   ]
  },
  {
   "cell_type": "markdown",
   "metadata": {},
   "source": [
    "### Set the column width to maximum to display all the columns"
   ]
  },
  {
   "cell_type": "code",
   "execution_count": 142,
   "metadata": {},
   "outputs": [
    {
     "data": {
      "text/html": [
       "<div>\n",
       "<style scoped>\n",
       "    .dataframe tbody tr th:only-of-type {\n",
       "        vertical-align: middle;\n",
       "    }\n",
       "\n",
       "    .dataframe tbody tr th {\n",
       "        vertical-align: top;\n",
       "    }\n",
       "\n",
       "    .dataframe thead th {\n",
       "        text-align: right;\n",
       "    }\n",
       "</style>\n",
       "<table border=\"1\" class=\"dataframe\">\n",
       "  <thead>\n",
       "    <tr style=\"text-align: right;\">\n",
       "      <th></th>\n",
       "      <th>imdb_title_id</th>\n",
       "      <th>title</th>\n",
       "      <th>original_title</th>\n",
       "      <th>year</th>\n",
       "      <th>date_published</th>\n",
       "      <th>genre</th>\n",
       "      <th>duration</th>\n",
       "      <th>country</th>\n",
       "      <th>language</th>\n",
       "      <th>director</th>\n",
       "      <th>writer</th>\n",
       "      <th>production_company</th>\n",
       "      <th>actors</th>\n",
       "      <th>description</th>\n",
       "      <th>avg_vote</th>\n",
       "      <th>votes</th>\n",
       "      <th>budget</th>\n",
       "      <th>usa_gross_income</th>\n",
       "      <th>worlwide_gross_income</th>\n",
       "      <th>metascore</th>\n",
       "      <th>reviews_from_users</th>\n",
       "      <th>reviews_from_critics</th>\n",
       "    </tr>\n",
       "  </thead>\n",
       "  <tbody>\n",
       "    <tr>\n",
       "      <th>0</th>\n",
       "      <td>tt0000009</td>\n",
       "      <td>Miss Jerry</td>\n",
       "      <td>Miss Jerry</td>\n",
       "      <td>1894</td>\n",
       "      <td>1894-10-09</td>\n",
       "      <td>Romance</td>\n",
       "      <td>45</td>\n",
       "      <td>USA</td>\n",
       "      <td>NaN</td>\n",
       "      <td>Alexander Black</td>\n",
       "      <td>Alexander Black</td>\n",
       "      <td>Alexander Black Photoplays</td>\n",
       "      <td>Blanche Bayliss, William Courtenay, Chauncey D...</td>\n",
       "      <td>The adventures of a female reporter in the 1890s.</td>\n",
       "      <td>5.9</td>\n",
       "      <td>154</td>\n",
       "      <td>NaN</td>\n",
       "      <td>NaN</td>\n",
       "      <td>NaN</td>\n",
       "      <td>NaN</td>\n",
       "      <td>1.0</td>\n",
       "      <td>2.0</td>\n",
       "    </tr>\n",
       "    <tr>\n",
       "      <th>1</th>\n",
       "      <td>tt0000574</td>\n",
       "      <td>The Story of the Kelly Gang</td>\n",
       "      <td>The Story of the Kelly Gang</td>\n",
       "      <td>1906</td>\n",
       "      <td>1906-12-26</td>\n",
       "      <td>Biography, Crime, Drama</td>\n",
       "      <td>70</td>\n",
       "      <td>Australia</td>\n",
       "      <td>NaN</td>\n",
       "      <td>Charles Tait</td>\n",
       "      <td>Charles Tait</td>\n",
       "      <td>J. and N. Tait</td>\n",
       "      <td>Elizabeth Tait, John Tait, Norman Campbell, Be...</td>\n",
       "      <td>True story of notorious Australian outlaw Ned ...</td>\n",
       "      <td>6.1</td>\n",
       "      <td>589</td>\n",
       "      <td>$ 2250</td>\n",
       "      <td>NaN</td>\n",
       "      <td>NaN</td>\n",
       "      <td>NaN</td>\n",
       "      <td>7.0</td>\n",
       "      <td>7.0</td>\n",
       "    </tr>\n",
       "  </tbody>\n",
       "</table>\n",
       "</div>"
      ],
      "text/plain": [
       "  imdb_title_id                        title               original_title  \\\n",
       "0     tt0000009                   Miss Jerry                   Miss Jerry   \n",
       "1     tt0000574  The Story of the Kelly Gang  The Story of the Kelly Gang   \n",
       "\n",
       "   year date_published                    genre  duration    country language  \\\n",
       "0  1894     1894-10-09                  Romance        45        USA      NaN   \n",
       "1  1906     1906-12-26  Biography, Crime, Drama        70  Australia      NaN   \n",
       "\n",
       "          director           writer          production_company  \\\n",
       "0  Alexander Black  Alexander Black  Alexander Black Photoplays   \n",
       "1     Charles Tait     Charles Tait              J. and N. Tait   \n",
       "\n",
       "                                              actors  \\\n",
       "0  Blanche Bayliss, William Courtenay, Chauncey D...   \n",
       "1  Elizabeth Tait, John Tait, Norman Campbell, Be...   \n",
       "\n",
       "                                         description  avg_vote  votes  budget  \\\n",
       "0  The adventures of a female reporter in the 1890s.       5.9    154     NaN   \n",
       "1  True story of notorious Australian outlaw Ned ...       6.1    589  $ 2250   \n",
       "\n",
       "  usa_gross_income worlwide_gross_income  metascore  reviews_from_users  \\\n",
       "0              NaN                   NaN        NaN                 1.0   \n",
       "1              NaN                   NaN        NaN                 7.0   \n",
       "\n",
       "   reviews_from_critics  \n",
       "0                   2.0  \n",
       "1                   7.0  "
      ]
     },
     "execution_count": 142,
     "metadata": {},
     "output_type": "execute_result"
    }
   ],
   "source": [
    "# Display all the columns and rows\n",
    "pd.set_option('display.max_rows', None)\n",
    "pd.set_option('display.max_columns',None)\n",
    "df.head(2)"
   ]
  },
  {
   "cell_type": "markdown",
   "metadata": {},
   "source": [
    "### Analyze the dataset\n",
    "- Check the data types\n",
    "- Check the number of records and number of columns"
   ]
  },
  {
   "cell_type": "code",
   "execution_count": 143,
   "metadata": {},
   "outputs": [
    {
     "name": "stdout",
     "output_type": "stream",
     "text": [
      "Total Rows present are : 85855, and total Columns are : 22\n"
     ]
    }
   ],
   "source": [
    "rows, columns = df.shape\n",
    "print(f\"Total Rows present are : {rows}, and total Columns are : {columns}\")"
   ]
  },
  {
   "cell_type": "code",
   "execution_count": 144,
   "metadata": {},
   "outputs": [
    {
     "name": "stdout",
     "output_type": "stream",
     "text": [
      "<class 'pandas.core.frame.DataFrame'>\n",
      "RangeIndex: 85855 entries, 0 to 85854\n",
      "Data columns (total 22 columns):\n",
      " #   Column                 Non-Null Count  Dtype  \n",
      "---  ------                 --------------  -----  \n",
      " 0   imdb_title_id          85855 non-null  object \n",
      " 1   title                  85855 non-null  object \n",
      " 2   original_title         85855 non-null  object \n",
      " 3   year                   85855 non-null  object \n",
      " 4   date_published         85855 non-null  object \n",
      " 5   genre                  85855 non-null  object \n",
      " 6   duration               85855 non-null  int64  \n",
      " 7   country                85791 non-null  object \n",
      " 8   language               84954 non-null  object \n",
      " 9   director               85768 non-null  object \n",
      " 10  writer                 84283 non-null  object \n",
      " 11  production_company     81400 non-null  object \n",
      " 12  actors                 85786 non-null  object \n",
      " 13  description            83740 non-null  object \n",
      " 14  avg_vote               85855 non-null  float64\n",
      " 15  votes                  85855 non-null  int64  \n",
      " 16  budget                 23710 non-null  object \n",
      " 17  usa_gross_income       15326 non-null  object \n",
      " 18  worlwide_gross_income  31016 non-null  object \n",
      " 19  metascore              13305 non-null  float64\n",
      " 20  reviews_from_users     78258 non-null  float64\n",
      " 21  reviews_from_critics   74058 non-null  float64\n",
      "dtypes: float64(4), int64(2), object(16)\n",
      "memory usage: 14.4+ MB\n"
     ]
    }
   ],
   "source": [
    "df.info()"
   ]
  },
  {
   "cell_type": "markdown",
   "metadata": {},
   "source": [
    "# Data Cleaning Process"
   ]
  },
  {
   "cell_type": "markdown",
   "metadata": {},
   "source": [
    "### Creating copy of the data"
   ]
  },
  {
   "cell_type": "code",
   "execution_count": 145,
   "metadata": {},
   "outputs": [
    {
     "data": {
      "text/html": [
       "<div>\n",
       "<style scoped>\n",
       "    .dataframe tbody tr th:only-of-type {\n",
       "        vertical-align: middle;\n",
       "    }\n",
       "\n",
       "    .dataframe tbody tr th {\n",
       "        vertical-align: top;\n",
       "    }\n",
       "\n",
       "    .dataframe thead th {\n",
       "        text-align: right;\n",
       "    }\n",
       "</style>\n",
       "<table border=\"1\" class=\"dataframe\">\n",
       "  <thead>\n",
       "    <tr style=\"text-align: right;\">\n",
       "      <th></th>\n",
       "      <th>imdb_title_id</th>\n",
       "      <th>title</th>\n",
       "      <th>original_title</th>\n",
       "      <th>year</th>\n",
       "      <th>date_published</th>\n",
       "      <th>genre</th>\n",
       "      <th>duration</th>\n",
       "      <th>country</th>\n",
       "      <th>language</th>\n",
       "      <th>director</th>\n",
       "      <th>writer</th>\n",
       "      <th>production_company</th>\n",
       "      <th>actors</th>\n",
       "      <th>description</th>\n",
       "      <th>avg_vote</th>\n",
       "      <th>votes</th>\n",
       "      <th>budget</th>\n",
       "      <th>usa_gross_income</th>\n",
       "      <th>worlwide_gross_income</th>\n",
       "      <th>metascore</th>\n",
       "      <th>reviews_from_users</th>\n",
       "      <th>reviews_from_critics</th>\n",
       "    </tr>\n",
       "  </thead>\n",
       "  <tbody>\n",
       "    <tr>\n",
       "      <th>14384</th>\n",
       "      <td>tt0065517</td>\n",
       "      <td>O Cangaceiro</td>\n",
       "      <td>O Cangaceiro</td>\n",
       "      <td>1969</td>\n",
       "      <td>1970-06-23</td>\n",
       "      <td>Western</td>\n",
       "      <td>104</td>\n",
       "      <td>Italy, Spain</td>\n",
       "      <td>Italian</td>\n",
       "      <td>Giovanni Fago</td>\n",
       "      <td>Bernardino Zapponi, José Luis Jerez Aloza</td>\n",
       "      <td>Medusa Distribuzione</td>\n",
       "      <td>Tomas Milian, Ugo Pagliai, Eduardo Fajardo, Ho...</td>\n",
       "      <td>Espidito, survives the massacre of his entire ...</td>\n",
       "      <td>6.3</td>\n",
       "      <td>172</td>\n",
       "      <td>NaN</td>\n",
       "      <td>NaN</td>\n",
       "      <td>NaN</td>\n",
       "      <td>NaN</td>\n",
       "      <td>2.0</td>\n",
       "      <td>5.0</td>\n",
       "    </tr>\n",
       "    <tr>\n",
       "      <th>66225</th>\n",
       "      <td>tt2316204</td>\n",
       "      <td>Alien: Covenant</td>\n",
       "      <td>Alien: Covenant</td>\n",
       "      <td>2017</td>\n",
       "      <td>2017-05-11</td>\n",
       "      <td>Horror, Sci-Fi, Thriller</td>\n",
       "      <td>122</td>\n",
       "      <td>USA, UK</td>\n",
       "      <td>English</td>\n",
       "      <td>Ridley Scott</td>\n",
       "      <td>Dan O'Bannon, Ronald Shusett</td>\n",
       "      <td>Twentieth Century Fox</td>\n",
       "      <td>Michael Fassbender, Katherine Waterston, Billy...</td>\n",
       "      <td>The crew of a colony ship, bound for a remote ...</td>\n",
       "      <td>6.4</td>\n",
       "      <td>248096</td>\n",
       "      <td>$ 97000000</td>\n",
       "      <td>$ 74262031</td>\n",
       "      <td>$ 240891763</td>\n",
       "      <td>65.0</td>\n",
       "      <td>2069.0</td>\n",
       "      <td>586.0</td>\n",
       "    </tr>\n",
       "  </tbody>\n",
       "</table>\n",
       "</div>"
      ],
      "text/plain": [
       "      imdb_title_id            title   original_title  year date_published  \\\n",
       "14384     tt0065517     O Cangaceiro     O Cangaceiro  1969     1970-06-23   \n",
       "66225     tt2316204  Alien: Covenant  Alien: Covenant  2017     2017-05-11   \n",
       "\n",
       "                          genre  duration       country language  \\\n",
       "14384                   Western       104  Italy, Spain  Italian   \n",
       "66225  Horror, Sci-Fi, Thriller       122       USA, UK  English   \n",
       "\n",
       "            director                                     writer  \\\n",
       "14384  Giovanni Fago  Bernardino Zapponi, José Luis Jerez Aloza   \n",
       "66225   Ridley Scott               Dan O'Bannon, Ronald Shusett   \n",
       "\n",
       "          production_company  \\\n",
       "14384   Medusa Distribuzione   \n",
       "66225  Twentieth Century Fox   \n",
       "\n",
       "                                                  actors  \\\n",
       "14384  Tomas Milian, Ugo Pagliai, Eduardo Fajardo, Ho...   \n",
       "66225  Michael Fassbender, Katherine Waterston, Billy...   \n",
       "\n",
       "                                             description  avg_vote   votes  \\\n",
       "14384  Espidito, survives the massacre of his entire ...       6.3     172   \n",
       "66225  The crew of a colony ship, bound for a remote ...       6.4  248096   \n",
       "\n",
       "           budget usa_gross_income worlwide_gross_income  metascore  \\\n",
       "14384         NaN              NaN                   NaN        NaN   \n",
       "66225  $ 97000000       $ 74262031           $ 240891763       65.0   \n",
       "\n",
       "       reviews_from_users  reviews_from_critics  \n",
       "14384                 2.0                   5.0  \n",
       "66225              2069.0                 586.0  "
      ]
     },
     "execution_count": 145,
     "metadata": {},
     "output_type": "execute_result"
    }
   ],
   "source": [
    "mv = df.copy()\n",
    "mv.sample(2)"
   ]
  },
  {
   "cell_type": "markdown",
   "metadata": {},
   "source": [
    "### Column: [imdb_title_id]"
   ]
  },
  {
   "cell_type": "code",
   "execution_count": 146,
   "metadata": {},
   "outputs": [
    {
     "data": {
      "text/plain": [
       "array(['tt0000009', 'tt0000574', 'tt0001892', ..., 'tt9911774',\n",
       "       'tt9914286', 'tt9914942'], dtype=object)"
      ]
     },
     "execution_count": 146,
     "metadata": {},
     "output_type": "execute_result"
    }
   ],
   "source": [
    "mv['imdb_title_id'].unique()"
   ]
  },
  {
   "cell_type": "markdown",
   "metadata": {},
   "source": [
    "- We can see that all the values are prefixed with 'tt' which can be removed \n",
    "- Also the column name can be renamed to 'id'"
   ]
  },
  {
   "cell_type": "code",
   "execution_count": 147,
   "metadata": {},
   "outputs": [
    {
     "data": {
      "text/html": [
       "<div>\n",
       "<style scoped>\n",
       "    .dataframe tbody tr th:only-of-type {\n",
       "        vertical-align: middle;\n",
       "    }\n",
       "\n",
       "    .dataframe tbody tr th {\n",
       "        vertical-align: top;\n",
       "    }\n",
       "\n",
       "    .dataframe thead th {\n",
       "        text-align: right;\n",
       "    }\n",
       "</style>\n",
       "<table border=\"1\" class=\"dataframe\">\n",
       "  <thead>\n",
       "    <tr style=\"text-align: right;\">\n",
       "      <th></th>\n",
       "      <th>imdb_title_id</th>\n",
       "    </tr>\n",
       "  </thead>\n",
       "  <tbody>\n",
       "    <tr>\n",
       "      <th>5802</th>\n",
       "      <td>0040281</td>\n",
       "    </tr>\n",
       "    <tr>\n",
       "      <th>10716</th>\n",
       "      <td>0054934</td>\n",
       "    </tr>\n",
       "    <tr>\n",
       "      <th>26042</th>\n",
       "      <td>0102266</td>\n",
       "    </tr>\n",
       "    <tr>\n",
       "      <th>52200</th>\n",
       "      <td>0997084</td>\n",
       "    </tr>\n",
       "    <tr>\n",
       "      <th>15614</th>\n",
       "      <td>0068904</td>\n",
       "    </tr>\n",
       "    <tr>\n",
       "      <th>25433</th>\n",
       "      <td>0100142</td>\n",
       "    </tr>\n",
       "    <tr>\n",
       "      <th>73059</th>\n",
       "      <td>3894340</td>\n",
       "    </tr>\n",
       "    <tr>\n",
       "      <th>75045</th>\n",
       "      <td>4557014</td>\n",
       "    </tr>\n",
       "    <tr>\n",
       "      <th>32662</th>\n",
       "      <td>0139745</td>\n",
       "    </tr>\n",
       "    <tr>\n",
       "      <th>77661</th>\n",
       "      <td>5439812</td>\n",
       "    </tr>\n",
       "  </tbody>\n",
       "</table>\n",
       "</div>"
      ],
      "text/plain": [
       "      imdb_title_id\n",
       "5802        0040281\n",
       "10716       0054934\n",
       "26042       0102266\n",
       "52200       0997084\n",
       "15614       0068904\n",
       "25433       0100142\n",
       "73059       3894340\n",
       "75045       4557014\n",
       "32662       0139745\n",
       "77661       5439812"
      ]
     },
     "execution_count": 147,
     "metadata": {},
     "output_type": "execute_result"
    }
   ],
   "source": [
    "# Strip the 'tt' from the imdb_title_id\n",
    "mv['imdb_title_id'] = mv['imdb_title_id'].str.strip('tt')\n",
    "mv[['imdb_title_id']].sample(10)"
   ]
  },
  {
   "cell_type": "markdown",
   "metadata": {},
   "source": [
    "#### Rename the column to 'imdb_title_id' to 'id'"
   ]
  },
  {
   "cell_type": "code",
   "execution_count": 148,
   "metadata": {},
   "outputs": [
    {
     "data": {
      "text/html": [
       "<div>\n",
       "<style scoped>\n",
       "    .dataframe tbody tr th:only-of-type {\n",
       "        vertical-align: middle;\n",
       "    }\n",
       "\n",
       "    .dataframe tbody tr th {\n",
       "        vertical-align: top;\n",
       "    }\n",
       "\n",
       "    .dataframe thead th {\n",
       "        text-align: right;\n",
       "    }\n",
       "</style>\n",
       "<table border=\"1\" class=\"dataframe\">\n",
       "  <thead>\n",
       "    <tr style=\"text-align: right;\">\n",
       "      <th></th>\n",
       "      <th>id</th>\n",
       "      <th>title</th>\n",
       "      <th>original_title</th>\n",
       "      <th>year</th>\n",
       "      <th>date_published</th>\n",
       "      <th>genre</th>\n",
       "      <th>duration</th>\n",
       "      <th>country</th>\n",
       "      <th>language</th>\n",
       "      <th>director</th>\n",
       "      <th>writer</th>\n",
       "      <th>production_company</th>\n",
       "      <th>actors</th>\n",
       "      <th>description</th>\n",
       "      <th>avg_vote</th>\n",
       "      <th>votes</th>\n",
       "      <th>budget</th>\n",
       "      <th>usa_gross_income</th>\n",
       "      <th>worlwide_gross_income</th>\n",
       "      <th>metascore</th>\n",
       "      <th>reviews_from_users</th>\n",
       "      <th>reviews_from_critics</th>\n",
       "    </tr>\n",
       "  </thead>\n",
       "  <tbody>\n",
       "    <tr>\n",
       "      <th>77524</th>\n",
       "      <td>5345806</td>\n",
       "      <td>El que busca, encuentra</td>\n",
       "      <td>El que busca, encuentra</td>\n",
       "      <td>2017</td>\n",
       "      <td>2017-02-24</td>\n",
       "      <td>Comedy, Romance</td>\n",
       "      <td>93</td>\n",
       "      <td>Mexico</td>\n",
       "      <td>Spanish</td>\n",
       "      <td>Pitipol Ybarra</td>\n",
       "      <td>Miguel Burra</td>\n",
       "      <td>All About Media</td>\n",
       "      <td>Ana Brenda Contreras, Claudio Lafarga, Esmeral...</td>\n",
       "      <td>Esperanza and Marcos are two persons who belie...</td>\n",
       "      <td>5.2</td>\n",
       "      <td>116</td>\n",
       "      <td>MXN 25000000</td>\n",
       "      <td>NaN</td>\n",
       "      <td>$ 1149667</td>\n",
       "      <td>NaN</td>\n",
       "      <td>NaN</td>\n",
       "      <td>NaN</td>\n",
       "    </tr>\n",
       "    <tr>\n",
       "      <th>81266</th>\n",
       "      <td>6819126</td>\n",
       "      <td>Paradise</td>\n",
       "      <td>Paradise</td>\n",
       "      <td>2016</td>\n",
       "      <td>2019-01-23</td>\n",
       "      <td>Comedy, Drama</td>\n",
       "      <td>80</td>\n",
       "      <td>Iran, Germany</td>\n",
       "      <td>Persian</td>\n",
       "      <td>Ali Atshani</td>\n",
       "      <td>Mahdi Alimirzaee, Ali Atshani</td>\n",
       "      <td>American Brightlight Film Productions</td>\n",
       "      <td>Javad Ezati, Mehran Rajabi, Mohammad Ali Najaf...</td>\n",
       "      <td>Two young theologues are going to participate ...</td>\n",
       "      <td>4.0</td>\n",
       "      <td>339</td>\n",
       "      <td>$ 400000</td>\n",
       "      <td>NaN</td>\n",
       "      <td>NaN</td>\n",
       "      <td>NaN</td>\n",
       "      <td>1.0</td>\n",
       "      <td>4.0</td>\n",
       "    </tr>\n",
       "  </tbody>\n",
       "</table>\n",
       "</div>"
      ],
      "text/plain": [
       "            id                    title           original_title  year  \\\n",
       "77524  5345806  El que busca, encuentra  El que busca, encuentra  2017   \n",
       "81266  6819126                 Paradise                 Paradise  2016   \n",
       "\n",
       "      date_published            genre  duration        country language  \\\n",
       "77524     2017-02-24  Comedy, Romance        93         Mexico  Spanish   \n",
       "81266     2019-01-23    Comedy, Drama        80  Iran, Germany  Persian   \n",
       "\n",
       "             director                         writer  \\\n",
       "77524  Pitipol Ybarra                   Miguel Burra   \n",
       "81266     Ali Atshani  Mahdi Alimirzaee, Ali Atshani   \n",
       "\n",
       "                          production_company  \\\n",
       "77524                        All About Media   \n",
       "81266  American Brightlight Film Productions   \n",
       "\n",
       "                                                  actors  \\\n",
       "77524  Ana Brenda Contreras, Claudio Lafarga, Esmeral...   \n",
       "81266  Javad Ezati, Mehran Rajabi, Mohammad Ali Najaf...   \n",
       "\n",
       "                                             description  avg_vote  votes  \\\n",
       "77524  Esperanza and Marcos are two persons who belie...       5.2    116   \n",
       "81266  Two young theologues are going to participate ...       4.0    339   \n",
       "\n",
       "             budget usa_gross_income worlwide_gross_income  metascore  \\\n",
       "77524  MXN 25000000              NaN             $ 1149667        NaN   \n",
       "81266      $ 400000              NaN                   NaN        NaN   \n",
       "\n",
       "       reviews_from_users  reviews_from_critics  \n",
       "77524                 NaN                   NaN  \n",
       "81266                 1.0                   4.0  "
      ]
     },
     "execution_count": 148,
     "metadata": {},
     "output_type": "execute_result"
    }
   ],
   "source": [
    "# Rename column 'imdb_title_id' to 'id'\n",
    "mv.rename(columns={'imdb_title_id':'id'}, inplace=True)\n",
    "mv.sample(2)"
   ]
  },
  {
   "cell_type": "markdown",
   "metadata": {},
   "source": [
    "#### Convert the column 'imdb_title_id' to integer type"
   ]
  },
  {
   "cell_type": "code",
   "execution_count": 149,
   "metadata": {},
   "outputs": [
    {
     "name": "stdout",
     "output_type": "stream",
     "text": [
      "<class 'pandas.core.series.Series'>\n",
      "RangeIndex: 85855 entries, 0 to 85854\n",
      "Series name: id\n",
      "Non-Null Count  Dtype\n",
      "--------------  -----\n",
      "85855 non-null  int64\n",
      "dtypes: int64(1)\n",
      "memory usage: 670.9 KB\n"
     ]
    }
   ],
   "source": [
    "# Convert the column 'imdb_title_id' to integer type\n",
    "mv['id'] = mv['id'].astype(int)\n",
    "mv['id'].info()"
   ]
  },
  {
   "cell_type": "markdown",
   "metadata": {},
   "source": [
    "### Column: [title] and [original_title]"
   ]
  },
  {
   "cell_type": "code",
   "execution_count": 150,
   "metadata": {},
   "outputs": [
    {
     "data": {
      "text/plain": [
       "array(['Miss Jerry', 'The Story of the Kelly Gang', 'Den sorte drøm', ...,\n",
       "       'Padmavyuhathile Abhimanyu', 'Sokagin Çocuklari',\n",
       "       'La vida sense la Sara Amat'], dtype=object)"
      ]
     },
     "execution_count": 150,
     "metadata": {},
     "output_type": "execute_result"
    }
   ],
   "source": [
    "# Check the unique values\n",
    "df['title'].unique()"
   ]
  },
  {
   "cell_type": "markdown",
   "metadata": {},
   "source": [
    "- The 'title' column does not has any data anomaly and does not require cleaning"
   ]
  },
  {
   "cell_type": "code",
   "execution_count": 151,
   "metadata": {},
   "outputs": [
    {
     "data": {
      "text/plain": [
       "array(['Miss Jerry', 'The Story of the Kelly Gang', 'Den sorte drøm', ...,\n",
       "       'Padmavyuhathile Abhimanyu', 'Sokagin Çocuklari',\n",
       "       'La vida sense la Sara Amat'], dtype=object)"
      ]
     },
     "execution_count": 151,
     "metadata": {},
     "output_type": "execute_result"
    }
   ],
   "source": [
    "# Check the unique values in 'original_title'\n",
    "df['original_title'].unique()"
   ]
  },
  {
   "cell_type": "markdown",
   "metadata": {},
   "source": [
    "- Both the columns are same and the column 'title' can be dropped"
   ]
  },
  {
   "cell_type": "markdown",
   "metadata": {},
   "source": [
    "#### Drop the column 'title'"
   ]
  },
  {
   "cell_type": "code",
   "execution_count": 152,
   "metadata": {},
   "outputs": [],
   "source": [
    "# Drop the column title\n",
    "mv.drop(columns=['title'],inplace=True)"
   ]
  },
  {
   "cell_type": "markdown",
   "metadata": {},
   "source": [
    "#### Rename the column 'original_title' to 'title'"
   ]
  },
  {
   "cell_type": "code",
   "execution_count": 153,
   "metadata": {},
   "outputs": [
    {
     "data": {
      "text/html": [
       "<div>\n",
       "<style scoped>\n",
       "    .dataframe tbody tr th:only-of-type {\n",
       "        vertical-align: middle;\n",
       "    }\n",
       "\n",
       "    .dataframe tbody tr th {\n",
       "        vertical-align: top;\n",
       "    }\n",
       "\n",
       "    .dataframe thead th {\n",
       "        text-align: right;\n",
       "    }\n",
       "</style>\n",
       "<table border=\"1\" class=\"dataframe\">\n",
       "  <thead>\n",
       "    <tr style=\"text-align: right;\">\n",
       "      <th></th>\n",
       "      <th>title</th>\n",
       "    </tr>\n",
       "  </thead>\n",
       "  <tbody>\n",
       "    <tr>\n",
       "      <th>46575</th>\n",
       "      <td>Bell Witch Haunting</td>\n",
       "    </tr>\n",
       "    <tr>\n",
       "      <th>76548</th>\n",
       "      <td>Dismissed</td>\n",
       "    </tr>\n",
       "    <tr>\n",
       "      <th>14340</th>\n",
       "      <td>The AristoCats</td>\n",
       "    </tr>\n",
       "    <tr>\n",
       "      <th>27720</th>\n",
       "      <td>Tikhie stranitsy</td>\n",
       "    </tr>\n",
       "    <tr>\n",
       "      <th>67821</th>\n",
       "      <td>Bordering on Bad Behavior</td>\n",
       "    </tr>\n",
       "    <tr>\n",
       "      <th>52123</th>\n",
       "      <td>A Love Story</td>\n",
       "    </tr>\n",
       "    <tr>\n",
       "      <th>32308</th>\n",
       "      <td>Duets</td>\n",
       "    </tr>\n",
       "    <tr>\n",
       "      <th>78635</th>\n",
       "      <td>Velainu Vandhutta Vellaikaaran</td>\n",
       "    </tr>\n",
       "    <tr>\n",
       "      <th>57226</th>\n",
       "      <td>Tung moon</td>\n",
       "    </tr>\n",
       "    <tr>\n",
       "      <th>24744</th>\n",
       "      <td>Malarek</td>\n",
       "    </tr>\n",
       "  </tbody>\n",
       "</table>\n",
       "</div>"
      ],
      "text/plain": [
       "                                title\n",
       "46575             Bell Witch Haunting\n",
       "76548                       Dismissed\n",
       "14340                  The AristoCats\n",
       "27720                Tikhie stranitsy\n",
       "67821       Bordering on Bad Behavior\n",
       "52123                    A Love Story\n",
       "32308                           Duets\n",
       "78635  Velainu Vandhutta Vellaikaaran\n",
       "57226                       Tung moon\n",
       "24744                         Malarek"
      ]
     },
     "execution_count": 153,
     "metadata": {},
     "output_type": "execute_result"
    }
   ],
   "source": [
    "# Rename the column 'original_title' to 'title' \n",
    "mv.rename(columns={'original_title':'title'}, inplace=True)\n",
    "mv[['title']].sample(10)"
   ]
  },
  {
   "cell_type": "markdown",
   "metadata": {},
   "source": [
    "### Column: [year] and [date_published]\n",
    "- We can drop the 'year' column\n",
    "- from the 'date_published' column we will extract the year and further rename the column to 'year'"
   ]
  },
  {
   "cell_type": "code",
   "execution_count": 154,
   "metadata": {},
   "outputs": [],
   "source": [
    "# Drop the column 'year'\n",
    "mv.drop(columns=['year'],inplace=True)"
   ]
  },
  {
   "cell_type": "markdown",
   "metadata": {},
   "source": [
    "#### Extract year from the column 'date_published'"
   ]
  },
  {
   "cell_type": "code",
   "execution_count": 155,
   "metadata": {},
   "outputs": [],
   "source": [
    "# Convert the column 'published_year' to date_time\n",
    "mv['date_published'] = mv['date_published'].str[:4]"
   ]
  },
  {
   "cell_type": "code",
   "execution_count": 156,
   "metadata": {},
   "outputs": [
    {
     "data": {
      "text/html": [
       "<div>\n",
       "<style scoped>\n",
       "    .dataframe tbody tr th:only-of-type {\n",
       "        vertical-align: middle;\n",
       "    }\n",
       "\n",
       "    .dataframe tbody tr th {\n",
       "        vertical-align: top;\n",
       "    }\n",
       "\n",
       "    .dataframe thead th {\n",
       "        text-align: right;\n",
       "    }\n",
       "</style>\n",
       "<table border=\"1\" class=\"dataframe\">\n",
       "  <thead>\n",
       "    <tr style=\"text-align: right;\">\n",
       "      <th></th>\n",
       "      <th>date_published</th>\n",
       "    </tr>\n",
       "  </thead>\n",
       "  <tbody>\n",
       "    <tr>\n",
       "      <th>59107</th>\n",
       "      <td>2009</td>\n",
       "    </tr>\n",
       "    <tr>\n",
       "      <th>381</th>\n",
       "      <td>1924</td>\n",
       "    </tr>\n",
       "    <tr>\n",
       "      <th>40106</th>\n",
       "      <td>2001</td>\n",
       "    </tr>\n",
       "    <tr>\n",
       "      <th>28543</th>\n",
       "      <td>1995</td>\n",
       "    </tr>\n",
       "    <tr>\n",
       "      <th>41027</th>\n",
       "      <td>2001</td>\n",
       "    </tr>\n",
       "  </tbody>\n",
       "</table>\n",
       "</div>"
      ],
      "text/plain": [
       "      date_published\n",
       "59107           2009\n",
       "381             1924\n",
       "40106           2001\n",
       "28543           1995\n",
       "41027           2001"
      ]
     },
     "execution_count": 156,
     "metadata": {},
     "output_type": "execute_result"
    }
   ],
   "source": [
    "mv[['date_published']].sample(5)"
   ]
  },
  {
   "cell_type": "markdown",
   "metadata": {},
   "source": [
    "#### Rename the column 'date_published' to 'year'"
   ]
  },
  {
   "cell_type": "code",
   "execution_count": 157,
   "metadata": {},
   "outputs": [
    {
     "data": {
      "text/html": [
       "<div>\n",
       "<style scoped>\n",
       "    .dataframe tbody tr th:only-of-type {\n",
       "        vertical-align: middle;\n",
       "    }\n",
       "\n",
       "    .dataframe tbody tr th {\n",
       "        vertical-align: top;\n",
       "    }\n",
       "\n",
       "    .dataframe thead th {\n",
       "        text-align: right;\n",
       "    }\n",
       "</style>\n",
       "<table border=\"1\" class=\"dataframe\">\n",
       "  <thead>\n",
       "    <tr style=\"text-align: right;\">\n",
       "      <th></th>\n",
       "      <th>id</th>\n",
       "      <th>title</th>\n",
       "      <th>year</th>\n",
       "      <th>genre</th>\n",
       "      <th>duration</th>\n",
       "      <th>country</th>\n",
       "      <th>language</th>\n",
       "      <th>director</th>\n",
       "      <th>writer</th>\n",
       "      <th>production_company</th>\n",
       "      <th>actors</th>\n",
       "      <th>description</th>\n",
       "      <th>avg_vote</th>\n",
       "      <th>votes</th>\n",
       "      <th>budget</th>\n",
       "      <th>usa_gross_income</th>\n",
       "      <th>worlwide_gross_income</th>\n",
       "      <th>metascore</th>\n",
       "      <th>reviews_from_users</th>\n",
       "      <th>reviews_from_critics</th>\n",
       "    </tr>\n",
       "  </thead>\n",
       "  <tbody>\n",
       "    <tr>\n",
       "      <th>30492</th>\n",
       "      <td>118887</td>\n",
       "      <td>Cop Land</td>\n",
       "      <td>1997</td>\n",
       "      <td>Crime, Drama, Thriller</td>\n",
       "      <td>105</td>\n",
       "      <td>USA</td>\n",
       "      <td>English</td>\n",
       "      <td>James Mangold</td>\n",
       "      <td>James Mangold</td>\n",
       "      <td>Miramax</td>\n",
       "      <td>Sylvester Stallone, Harvey Keitel, Ray Liotta,...</td>\n",
       "      <td>The Sheriff of a suburban New Jersey community...</td>\n",
       "      <td>6.9</td>\n",
       "      <td>84547</td>\n",
       "      <td>$ 15000000</td>\n",
       "      <td>$ 44862187</td>\n",
       "      <td>$ 44862187</td>\n",
       "      <td>64.0</td>\n",
       "      <td>242.0</td>\n",
       "      <td>145.0</td>\n",
       "    </tr>\n",
       "    <tr>\n",
       "      <th>21735</th>\n",
       "      <td>88307</td>\n",
       "      <td>Tutti dentro</td>\n",
       "      <td>1984</td>\n",
       "      <td>Comedy, Drama</td>\n",
       "      <td>108</td>\n",
       "      <td>Italy</td>\n",
       "      <td>Italian</td>\n",
       "      <td>Alberto Sordi</td>\n",
       "      <td>Augusto Caminito, Rodolfo Sonego</td>\n",
       "      <td>Scena Film</td>\n",
       "      <td>Alberto Sordi, Joe Pesci, Dalila Di Lazzaro, G...</td>\n",
       "      <td>The incorruptible judge Annibale Salvemini, st...</td>\n",
       "      <td>5.8</td>\n",
       "      <td>229</td>\n",
       "      <td>NaN</td>\n",
       "      <td>NaN</td>\n",
       "      <td>NaN</td>\n",
       "      <td>NaN</td>\n",
       "      <td>2.0</td>\n",
       "      <td>2.0</td>\n",
       "    </tr>\n",
       "  </tbody>\n",
       "</table>\n",
       "</div>"
      ],
      "text/plain": [
       "           id         title  year                   genre  duration country  \\\n",
       "30492  118887      Cop Land  1997  Crime, Drama, Thriller       105     USA   \n",
       "21735   88307  Tutti dentro  1984           Comedy, Drama       108   Italy   \n",
       "\n",
       "      language       director                            writer  \\\n",
       "30492  English  James Mangold                     James Mangold   \n",
       "21735  Italian  Alberto Sordi  Augusto Caminito, Rodolfo Sonego   \n",
       "\n",
       "      production_company                                             actors  \\\n",
       "30492            Miramax  Sylvester Stallone, Harvey Keitel, Ray Liotta,...   \n",
       "21735         Scena Film  Alberto Sordi, Joe Pesci, Dalila Di Lazzaro, G...   \n",
       "\n",
       "                                             description  avg_vote  votes  \\\n",
       "30492  The Sheriff of a suburban New Jersey community...       6.9  84547   \n",
       "21735  The incorruptible judge Annibale Salvemini, st...       5.8    229   \n",
       "\n",
       "           budget usa_gross_income worlwide_gross_income  metascore  \\\n",
       "30492  $ 15000000       $ 44862187            $ 44862187       64.0   \n",
       "21735         NaN              NaN                   NaN        NaN   \n",
       "\n",
       "       reviews_from_users  reviews_from_critics  \n",
       "30492               242.0                 145.0  \n",
       "21735                 2.0                   2.0  "
      ]
     },
     "execution_count": 157,
     "metadata": {},
     "output_type": "execute_result"
    }
   ],
   "source": [
    "mv.rename(columns={'date_published': 'year'}, inplace=True)\n",
    "mv.sample(2)"
   ]
  },
  {
   "cell_type": "markdown",
   "metadata": {},
   "source": [
    "### Column: [genre]"
   ]
  },
  {
   "cell_type": "code",
   "execution_count": 158,
   "metadata": {},
   "outputs": [
    {
     "data": {
      "text/html": [
       "<div>\n",
       "<style scoped>\n",
       "    .dataframe tbody tr th:only-of-type {\n",
       "        vertical-align: middle;\n",
       "    }\n",
       "\n",
       "    .dataframe tbody tr th {\n",
       "        vertical-align: top;\n",
       "    }\n",
       "\n",
       "    .dataframe thead th {\n",
       "        text-align: right;\n",
       "    }\n",
       "</style>\n",
       "<table border=\"1\" class=\"dataframe\">\n",
       "  <thead>\n",
       "    <tr style=\"text-align: right;\">\n",
       "      <th></th>\n",
       "      <th>genre</th>\n",
       "    </tr>\n",
       "  </thead>\n",
       "  <tbody>\n",
       "    <tr>\n",
       "      <th>16924</th>\n",
       "      <td>Comedy, Crime, Drama</td>\n",
       "    </tr>\n",
       "    <tr>\n",
       "      <th>20998</th>\n",
       "      <td>Comedy, Drama</td>\n",
       "    </tr>\n",
       "    <tr>\n",
       "      <th>50765</th>\n",
       "      <td>Comedy</td>\n",
       "    </tr>\n",
       "    <tr>\n",
       "      <th>30451</th>\n",
       "      <td>Adventure, Drama, Fantasy</td>\n",
       "    </tr>\n",
       "    <tr>\n",
       "      <th>2051</th>\n",
       "      <td>Comedy, Musical, Romance</td>\n",
       "    </tr>\n",
       "    <tr>\n",
       "      <th>72594</th>\n",
       "      <td>Drama, Mystery</td>\n",
       "    </tr>\n",
       "    <tr>\n",
       "      <th>77725</th>\n",
       "      <td>Action, Drama, Thriller</td>\n",
       "    </tr>\n",
       "    <tr>\n",
       "      <th>66827</th>\n",
       "      <td>Drama, Romance</td>\n",
       "    </tr>\n",
       "    <tr>\n",
       "      <th>71390</th>\n",
       "      <td>Horror</td>\n",
       "    </tr>\n",
       "    <tr>\n",
       "      <th>73438</th>\n",
       "      <td>Action</td>\n",
       "    </tr>\n",
       "  </tbody>\n",
       "</table>\n",
       "</div>"
      ],
      "text/plain": [
       "                           genre\n",
       "16924       Comedy, Crime, Drama\n",
       "20998              Comedy, Drama\n",
       "50765                     Comedy\n",
       "30451  Adventure, Drama, Fantasy\n",
       "2051    Comedy, Musical, Romance\n",
       "72594             Drama, Mystery\n",
       "77725    Action, Drama, Thriller\n",
       "66827             Drama, Romance\n",
       "71390                     Horror\n",
       "73438                     Action"
      ]
     },
     "execution_count": 158,
     "metadata": {},
     "output_type": "execute_result"
    }
   ],
   "source": [
    "mv[['genre']].sample(10)"
   ]
  },
  {
   "cell_type": "markdown",
   "metadata": {},
   "source": [
    "#### Genre column contains multiple genres for a single movie, but it must be noted that:\n",
    "- for each movie we have a maximum of 3 genres\n",
    "- we can split these multiple genres into three columns 'Genre 1' , 'Genre 2', and 'Genre 3'\n",
    "- The splitted values can be assigned to the three columns 'Genre 1' , 'Genre 2', and 'Genre 3' respectively"
   ]
  },
  {
   "cell_type": "code",
   "execution_count": 159,
   "metadata": {},
   "outputs": [],
   "source": [
    "# create a temp df 'genre_split' to store the splitted genres\n",
    "genre_split  = mv['genre'].str.split(',', expand = True)"
   ]
  },
  {
   "cell_type": "code",
   "execution_count": 160,
   "metadata": {},
   "outputs": [],
   "source": [
    "# Rename the columns to Genre1, Genre2, Genre3\n",
    "genre_cols = ['genre1', 'genre2', 'genre3']\n",
    "genre_split.columns = genre_cols"
   ]
  },
  {
   "cell_type": "code",
   "execution_count": 161,
   "metadata": {},
   "outputs": [
    {
     "data": {
      "text/html": [
       "<div>\n",
       "<style scoped>\n",
       "    .dataframe tbody tr th:only-of-type {\n",
       "        vertical-align: middle;\n",
       "    }\n",
       "\n",
       "    .dataframe tbody tr th {\n",
       "        vertical-align: top;\n",
       "    }\n",
       "\n",
       "    .dataframe thead th {\n",
       "        text-align: right;\n",
       "    }\n",
       "</style>\n",
       "<table border=\"1\" class=\"dataframe\">\n",
       "  <thead>\n",
       "    <tr style=\"text-align: right;\">\n",
       "      <th></th>\n",
       "      <th>genre1</th>\n",
       "      <th>genre2</th>\n",
       "      <th>genre3</th>\n",
       "    </tr>\n",
       "  </thead>\n",
       "  <tbody>\n",
       "    <tr>\n",
       "      <th>60600</th>\n",
       "      <td>Drama</td>\n",
       "      <td>None</td>\n",
       "      <td>None</td>\n",
       "    </tr>\n",
       "    <tr>\n",
       "      <th>67674</th>\n",
       "      <td>Comedy</td>\n",
       "      <td>Drama</td>\n",
       "      <td>Family</td>\n",
       "    </tr>\n",
       "    <tr>\n",
       "      <th>36864</th>\n",
       "      <td>Drama</td>\n",
       "      <td>None</td>\n",
       "      <td>None</td>\n",
       "    </tr>\n",
       "    <tr>\n",
       "      <th>26894</th>\n",
       "      <td>Crime</td>\n",
       "      <td>Drama</td>\n",
       "      <td>Mystery</td>\n",
       "    </tr>\n",
       "    <tr>\n",
       "      <th>33310</th>\n",
       "      <td>Thriller</td>\n",
       "      <td>None</td>\n",
       "      <td>None</td>\n",
       "    </tr>\n",
       "    <tr>\n",
       "      <th>35845</th>\n",
       "      <td>Comedy</td>\n",
       "      <td>None</td>\n",
       "      <td>None</td>\n",
       "    </tr>\n",
       "    <tr>\n",
       "      <th>13633</th>\n",
       "      <td>Comedy</td>\n",
       "      <td>None</td>\n",
       "      <td>None</td>\n",
       "    </tr>\n",
       "    <tr>\n",
       "      <th>9349</th>\n",
       "      <td>Drama</td>\n",
       "      <td>None</td>\n",
       "      <td>None</td>\n",
       "    </tr>\n",
       "    <tr>\n",
       "      <th>54544</th>\n",
       "      <td>Comedy</td>\n",
       "      <td>Crime</td>\n",
       "      <td>Drama</td>\n",
       "    </tr>\n",
       "    <tr>\n",
       "      <th>18821</th>\n",
       "      <td>Crime</td>\n",
       "      <td>Drama</td>\n",
       "      <td>None</td>\n",
       "    </tr>\n",
       "  </tbody>\n",
       "</table>\n",
       "</div>"
      ],
      "text/plain": [
       "         genre1  genre2    genre3\n",
       "60600     Drama    None      None\n",
       "67674    Comedy   Drama    Family\n",
       "36864     Drama    None      None\n",
       "26894     Crime   Drama   Mystery\n",
       "33310  Thriller    None      None\n",
       "35845    Comedy    None      None\n",
       "13633    Comedy    None      None\n",
       "9349      Drama    None      None\n",
       "54544    Comedy   Crime     Drama\n",
       "18821     Crime   Drama      None"
      ]
     },
     "execution_count": 161,
     "metadata": {},
     "output_type": "execute_result"
    }
   ],
   "source": [
    "# Concatenate the split genre df to original df\n",
    "for i in range(len(genre_cols)):\n",
    "    mv.insert(loc=mv.columns.get_loc('genre') + 1 + i, column=genre_cols[i], value=genre_split.iloc[:, i])\n",
    "mv[['genre1','genre2','genre3']].sample(10)"
   ]
  },
  {
   "cell_type": "code",
   "execution_count": 162,
   "metadata": {},
   "outputs": [
    {
     "data": {
      "text/html": [
       "<div>\n",
       "<style scoped>\n",
       "    .dataframe tbody tr th:only-of-type {\n",
       "        vertical-align: middle;\n",
       "    }\n",
       "\n",
       "    .dataframe tbody tr th {\n",
       "        vertical-align: top;\n",
       "    }\n",
       "\n",
       "    .dataframe thead th {\n",
       "        text-align: right;\n",
       "    }\n",
       "</style>\n",
       "<table border=\"1\" class=\"dataframe\">\n",
       "  <thead>\n",
       "    <tr style=\"text-align: right;\">\n",
       "      <th></th>\n",
       "      <th>id</th>\n",
       "      <th>title</th>\n",
       "      <th>year</th>\n",
       "      <th>genre1</th>\n",
       "      <th>genre2</th>\n",
       "      <th>genre3</th>\n",
       "      <th>duration</th>\n",
       "      <th>country</th>\n",
       "      <th>language</th>\n",
       "      <th>director</th>\n",
       "      <th>writer</th>\n",
       "      <th>production_company</th>\n",
       "      <th>actors</th>\n",
       "      <th>description</th>\n",
       "      <th>avg_vote</th>\n",
       "      <th>votes</th>\n",
       "      <th>budget</th>\n",
       "      <th>usa_gross_income</th>\n",
       "      <th>worlwide_gross_income</th>\n",
       "      <th>metascore</th>\n",
       "      <th>reviews_from_users</th>\n",
       "      <th>reviews_from_critics</th>\n",
       "    </tr>\n",
       "  </thead>\n",
       "  <tbody>\n",
       "    <tr>\n",
       "      <th>81137</th>\n",
       "      <td>6749072</td>\n",
       "      <td>El peso de la ley</td>\n",
       "      <td>2017</td>\n",
       "      <td>Crime</td>\n",
       "      <td>Drama</td>\n",
       "      <td>Mystery</td>\n",
       "      <td>100</td>\n",
       "      <td>Argentina</td>\n",
       "      <td>Spanish</td>\n",
       "      <td>Fernán Mirás</td>\n",
       "      <td>Roberto Gispert, Fernán Mirás</td>\n",
       "      <td>Aleph Media</td>\n",
       "      <td>Paola Barrientos, María Onetto, Daniel Lambert...</td>\n",
       "      <td>Gloria is a lawyer who throughout her career h...</td>\n",
       "      <td>6.9</td>\n",
       "      <td>132</td>\n",
       "      <td>NaN</td>\n",
       "      <td>NaN</td>\n",
       "      <td>$ 114080</td>\n",
       "      <td>NaN</td>\n",
       "      <td>1.0</td>\n",
       "      <td>NaN</td>\n",
       "    </tr>\n",
       "    <tr>\n",
       "      <th>82736</th>\n",
       "      <td>7526338</td>\n",
       "      <td>Damat Takimi</td>\n",
       "      <td>2017</td>\n",
       "      <td>Comedy</td>\n",
       "      <td>Romance</td>\n",
       "      <td>None</td>\n",
       "      <td>109</td>\n",
       "      <td>Turkey</td>\n",
       "      <td>Turkish</td>\n",
       "      <td>Doga Can Anafarta</td>\n",
       "      <td>Doga Can Anafarta</td>\n",
       "      <td>Asteros Film</td>\n",
       "      <td>Furkan Andic, Özgürcan Cevik, Pelin Akil, Açel...</td>\n",
       "      <td>Yigit, Omer, Serdar, Onat and Can are five fri...</td>\n",
       "      <td>5.5</td>\n",
       "      <td>526</td>\n",
       "      <td>NaN</td>\n",
       "      <td>NaN</td>\n",
       "      <td>$ 595949</td>\n",
       "      <td>NaN</td>\n",
       "      <td>1.0</td>\n",
       "      <td>1.0</td>\n",
       "    </tr>\n",
       "  </tbody>\n",
       "</table>\n",
       "</div>"
      ],
      "text/plain": [
       "            id              title  year  genre1    genre2    genre3  duration  \\\n",
       "81137  6749072  El peso de la ley  2017   Crime     Drama   Mystery       100   \n",
       "82736  7526338       Damat Takimi  2017  Comedy   Romance      None       109   \n",
       "\n",
       "         country language           director                         writer  \\\n",
       "81137  Argentina  Spanish       Fernán Mirás  Roberto Gispert, Fernán Mirás   \n",
       "82736     Turkey  Turkish  Doga Can Anafarta              Doga Can Anafarta   \n",
       "\n",
       "      production_company                                             actors  \\\n",
       "81137        Aleph Media  Paola Barrientos, María Onetto, Daniel Lambert...   \n",
       "82736       Asteros Film  Furkan Andic, Özgürcan Cevik, Pelin Akil, Açel...   \n",
       "\n",
       "                                             description  avg_vote  votes  \\\n",
       "81137  Gloria is a lawyer who throughout her career h...       6.9    132   \n",
       "82736  Yigit, Omer, Serdar, Onat and Can are five fri...       5.5    526   \n",
       "\n",
       "      budget usa_gross_income worlwide_gross_income  metascore  \\\n",
       "81137    NaN              NaN              $ 114080        NaN   \n",
       "82736    NaN              NaN              $ 595949        NaN   \n",
       "\n",
       "       reviews_from_users  reviews_from_critics  \n",
       "81137                 1.0                   NaN  \n",
       "82736                 1.0                   1.0  "
      ]
     },
     "execution_count": 162,
     "metadata": {},
     "output_type": "execute_result"
    }
   ],
   "source": [
    "# Drop the column genre \n",
    "mv.drop(columns=['genre'],inplace=True)\n",
    "mv.sample(2)"
   ]
  },
  {
   "cell_type": "markdown",
   "metadata": {},
   "source": []
  },
  {
   "cell_type": "markdown",
   "metadata": {},
   "source": [
    "### Column: [duration]\n",
    "- the duration column has the run time for the movie in minutes which we will convert to hours"
   ]
  },
  {
   "cell_type": "code",
   "execution_count": 163,
   "metadata": {},
   "outputs": [
    {
     "data": {
      "text/plain": [
       "dtype('int64')"
      ]
     },
     "execution_count": 163,
     "metadata": {},
     "output_type": "execute_result"
    }
   ],
   "source": [
    "# Check the data type\n",
    "mv['duration'].dtype"
   ]
  },
  {
   "cell_type": "code",
   "execution_count": 164,
   "metadata": {},
   "outputs": [
    {
     "data": {
      "text/plain": [
       "array([ 45,  70,  53, 100,  68,  60,  85, 120,  55, 121,  54,  96,  61,\n",
       "        90,  50,  88,  72,  78, 148,  52, 124,  59,  63,  84,  65,  81,\n",
       "       199,  74,  80,  82,  67,  56, 195,  77,  71,  46, 421, 105,  57,\n",
       "        58,  73,  64,  62, 163, 300, 116,  69, 125,  97, 138, 112,  91,\n",
       "        87,  48,  83, 136,  75,  94, 117,  93,  76, 418,  86, 223,  99,\n",
       "       122, 207, 166,  95,  92,  66, 106, 145, 167,  79, 107, 109, 104,\n",
       "        89, 102, 150, 131,  47, 119,  98, 110, 143, 137, 128, 101, 183,\n",
       "       133, 135, 111, 141, 115, 153, 129, 123, 108, 155, 151, 170, 140,\n",
       "       113, 114, 250, 132, 118, 160, 240, 142, 103, 144,  49, 127, 156,\n",
       "       130, 165, 147, 152, 226, 227, 231, 218, 200, 210, 225, 243,  51,\n",
       "       281, 208, 306, 257, 245, 255, 328, 168, 269, 303, 290, 212, 224,\n",
       "       126, 260, 299, 264, 149, 211, 302, 238, 258, 263, 215, 265, 205,\n",
       "       237, 220, 285, 293, 267, 216, 241,  43, 134, 184, 261, 197, 244,\n",
       "       146, 177, 196, 154, 189, 219, 201, 180, 159, 192, 139, 171, 252,\n",
       "       193, 161, 242, 157, 182, 158, 172, 162, 173, 330, 164, 181, 169,\n",
       "       174, 179, 209, 178, 190, 228, 175, 186, 188, 191, 176, 185, 234,\n",
       "       232, 202, 221, 203, 253, 206, 239, 217, 187, 287, 204, 230, 317,\n",
       "       311, 442, 235, 275, 288, 194, 229, 410, 357, 335, 222, 214, 213,\n",
       "       271, 298, 439, 198,  41, 729, 345, 233, 580, 323, 315, 247, 366,\n",
       "       301, 262, 278, 540, 279,  44, 570, 369, 272, 450,  42, 321, 398,\n",
       "       360, 338, 319, 485, 808, 354])"
      ]
     },
     "execution_count": 164,
     "metadata": {},
     "output_type": "execute_result"
    }
   ],
   "source": [
    "mv['duration'].unique()"
   ]
  },
  {
   "cell_type": "code",
   "execution_count": 165,
   "metadata": {},
   "outputs": [
    {
     "data": {
      "text/html": [
       "<div>\n",
       "<style scoped>\n",
       "    .dataframe tbody tr th:only-of-type {\n",
       "        vertical-align: middle;\n",
       "    }\n",
       "\n",
       "    .dataframe tbody tr th {\n",
       "        vertical-align: top;\n",
       "    }\n",
       "\n",
       "    .dataframe thead th {\n",
       "        text-align: right;\n",
       "    }\n",
       "</style>\n",
       "<table border=\"1\" class=\"dataframe\">\n",
       "  <thead>\n",
       "    <tr style=\"text-align: right;\">\n",
       "      <th></th>\n",
       "      <th>duration</th>\n",
       "    </tr>\n",
       "  </thead>\n",
       "  <tbody>\n",
       "    <tr>\n",
       "      <th>35707</th>\n",
       "      <td>1.38</td>\n",
       "    </tr>\n",
       "    <tr>\n",
       "      <th>66834</th>\n",
       "      <td>1.75</td>\n",
       "    </tr>\n",
       "    <tr>\n",
       "      <th>25444</th>\n",
       "      <td>2.15</td>\n",
       "    </tr>\n",
       "    <tr>\n",
       "      <th>60320</th>\n",
       "      <td>1.67</td>\n",
       "    </tr>\n",
       "    <tr>\n",
       "      <th>43838</th>\n",
       "      <td>1.62</td>\n",
       "    </tr>\n",
       "  </tbody>\n",
       "</table>\n",
       "</div>"
      ],
      "text/plain": [
       "       duration\n",
       "35707      1.38\n",
       "66834      1.75\n",
       "25444      2.15\n",
       "60320      1.67\n",
       "43838      1.62"
      ]
     },
     "execution_count": 165,
     "metadata": {},
     "output_type": "execute_result"
    }
   ],
   "source": [
    "# Convert the minutes in the duration column to hours\n",
    "mv['duration'] = (mv['duration']/60).round(2)\n",
    "mv[['duration']].sample(5)"
   ]
  },
  {
   "cell_type": "markdown",
   "metadata": {},
   "source": [
    "#### Rename the column to duration(hours)"
   ]
  },
  {
   "cell_type": "code",
   "execution_count": 166,
   "metadata": {},
   "outputs": [
    {
     "data": {
      "text/html": [
       "<div>\n",
       "<style scoped>\n",
       "    .dataframe tbody tr th:only-of-type {\n",
       "        vertical-align: middle;\n",
       "    }\n",
       "\n",
       "    .dataframe tbody tr th {\n",
       "        vertical-align: top;\n",
       "    }\n",
       "\n",
       "    .dataframe thead th {\n",
       "        text-align: right;\n",
       "    }\n",
       "</style>\n",
       "<table border=\"1\" class=\"dataframe\">\n",
       "  <thead>\n",
       "    <tr style=\"text-align: right;\">\n",
       "      <th></th>\n",
       "      <th>duration(hours)</th>\n",
       "    </tr>\n",
       "  </thead>\n",
       "  <tbody>\n",
       "    <tr>\n",
       "      <th>72266</th>\n",
       "      <td>1.52</td>\n",
       "    </tr>\n",
       "    <tr>\n",
       "      <th>3060</th>\n",
       "      <td>1.50</td>\n",
       "    </tr>\n",
       "    <tr>\n",
       "      <th>6753</th>\n",
       "      <td>1.25</td>\n",
       "    </tr>\n",
       "    <tr>\n",
       "      <th>81951</th>\n",
       "      <td>1.25</td>\n",
       "    </tr>\n",
       "    <tr>\n",
       "      <th>23178</th>\n",
       "      <td>1.38</td>\n",
       "    </tr>\n",
       "    <tr>\n",
       "      <th>78774</th>\n",
       "      <td>2.13</td>\n",
       "    </tr>\n",
       "    <tr>\n",
       "      <th>59935</th>\n",
       "      <td>2.10</td>\n",
       "    </tr>\n",
       "    <tr>\n",
       "      <th>52077</th>\n",
       "      <td>1.45</td>\n",
       "    </tr>\n",
       "    <tr>\n",
       "      <th>42919</th>\n",
       "      <td>2.43</td>\n",
       "    </tr>\n",
       "    <tr>\n",
       "      <th>52357</th>\n",
       "      <td>1.27</td>\n",
       "    </tr>\n",
       "  </tbody>\n",
       "</table>\n",
       "</div>"
      ],
      "text/plain": [
       "       duration(hours)\n",
       "72266             1.52\n",
       "3060              1.50\n",
       "6753              1.25\n",
       "81951             1.25\n",
       "23178             1.38\n",
       "78774             2.13\n",
       "59935             2.10\n",
       "52077             1.45\n",
       "42919             2.43\n",
       "52357             1.27"
      ]
     },
     "execution_count": 166,
     "metadata": {},
     "output_type": "execute_result"
    }
   ],
   "source": [
    "# Rename the column to duration(hours)\n",
    "mv.rename(columns={'duration': 'duration(hours)'},inplace=True)\n",
    "mv[['duration(hours)']].sample(10)"
   ]
  },
  {
   "cell_type": "markdown",
   "metadata": {},
   "source": [
    "### Column: [Country]"
   ]
  },
  {
   "cell_type": "code",
   "execution_count": 167,
   "metadata": {},
   "outputs": [
    {
     "data": {
      "text/plain": [
       "19981                            Czechoslovakia\n",
       "72567                                       USA\n",
       "72224                               Mexico, USA\n",
       "73472                                        UK\n",
       "29896                   Czech Republic, Germany\n",
       "62082                                       USA\n",
       "67757    UK, New Zealand, USA, India, Australia\n",
       "29607                                Spain, USA\n",
       "58782                                    Russia\n",
       "31872                    France, Belgium, Spain\n",
       "Name: country, dtype: object"
      ]
     },
     "execution_count": 167,
     "metadata": {},
     "output_type": "execute_result"
    }
   ],
   "source": [
    "# Check the data type for Country column\n",
    "mv['country'].sample(10)"
   ]
  },
  {
   "cell_type": "code",
   "execution_count": 173,
   "metadata": {},
   "outputs": [
    {
     "data": {
      "text/html": [
       "<div>\n",
       "<style scoped>\n",
       "    .dataframe tbody tr th:only-of-type {\n",
       "        vertical-align: middle;\n",
       "    }\n",
       "\n",
       "    .dataframe tbody tr th {\n",
       "        vertical-align: top;\n",
       "    }\n",
       "\n",
       "    .dataframe thead th {\n",
       "        text-align: right;\n",
       "    }\n",
       "</style>\n",
       "<table border=\"1\" class=\"dataframe\">\n",
       "  <thead>\n",
       "    <tr style=\"text-align: right;\">\n",
       "      <th></th>\n",
       "      <th>country</th>\n",
       "    </tr>\n",
       "  </thead>\n",
       "  <tbody>\n",
       "    <tr>\n",
       "      <th>63295</th>\n",
       "      <td>USA</td>\n",
       "    </tr>\n",
       "    <tr>\n",
       "      <th>11164</th>\n",
       "      <td>USA</td>\n",
       "    </tr>\n",
       "    <tr>\n",
       "      <th>70747</th>\n",
       "      <td>Bulgaria</td>\n",
       "    </tr>\n",
       "    <tr>\n",
       "      <th>22266</th>\n",
       "      <td>USA</td>\n",
       "    </tr>\n",
       "    <tr>\n",
       "      <th>10711</th>\n",
       "      <td>France</td>\n",
       "    </tr>\n",
       "    <tr>\n",
       "      <th>52952</th>\n",
       "      <td>USA</td>\n",
       "    </tr>\n",
       "    <tr>\n",
       "      <th>4054</th>\n",
       "      <td>USA</td>\n",
       "    </tr>\n",
       "    <tr>\n",
       "      <th>69081</th>\n",
       "      <td>UK</td>\n",
       "    </tr>\n",
       "    <tr>\n",
       "      <th>4485</th>\n",
       "      <td>UK</td>\n",
       "    </tr>\n",
       "    <tr>\n",
       "      <th>67175</th>\n",
       "      <td>Indonesia</td>\n",
       "    </tr>\n",
       "  </tbody>\n",
       "</table>\n",
       "</div>"
      ],
      "text/plain": [
       "         country\n",
       "63295        USA\n",
       "11164        USA\n",
       "70747   Bulgaria\n",
       "22266        USA\n",
       "10711     France\n",
       "52952        USA\n",
       "4054         USA\n",
       "69081         UK\n",
       "4485          UK\n",
       "67175  Indonesia"
      ]
     },
     "execution_count": 173,
     "metadata": {},
     "output_type": "execute_result"
    }
   ],
   "source": [
    "# clean the data to keep only one country for each movie\n",
    "mv['country'] = mv['country'].str.split(',').str[0]\n",
    "mv[['country']].sample(10)"
   ]
  },
  {
   "cell_type": "markdown",
   "metadata": {},
   "source": [
    "### Column: [Language]"
   ]
  },
  {
   "cell_type": "code",
   "execution_count": 176,
   "metadata": {},
   "outputs": [
    {
     "data": {
      "text/plain": [
       "array([nan, 'English', 'Italian', ..., 'Persian, Urdu',\n",
       "       'English, Swiss German, German',\n",
       "       'English, Polish, Russian, German'], dtype=object)"
      ]
     },
     "execution_count": 176,
     "metadata": {},
     "output_type": "execute_result"
    }
   ],
   "source": [
    "# Check the data type for the column language\n",
    "mv['language'].unique()"
   ]
  },
  {
   "cell_type": "code",
   "execution_count": 181,
   "metadata": {},
   "outputs": [
    {
     "data": {
      "text/html": [
       "<div>\n",
       "<style scoped>\n",
       "    .dataframe tbody tr th:only-of-type {\n",
       "        vertical-align: middle;\n",
       "    }\n",
       "\n",
       "    .dataframe tbody tr th {\n",
       "        vertical-align: top;\n",
       "    }\n",
       "\n",
       "    .dataframe thead th {\n",
       "        text-align: right;\n",
       "    }\n",
       "</style>\n",
       "<table border=\"1\" class=\"dataframe\">\n",
       "  <thead>\n",
       "    <tr style=\"text-align: right;\">\n",
       "      <th></th>\n",
       "      <th>language</th>\n",
       "    </tr>\n",
       "  </thead>\n",
       "  <tbody>\n",
       "    <tr>\n",
       "      <th>49998</th>\n",
       "      <td>English</td>\n",
       "    </tr>\n",
       "    <tr>\n",
       "      <th>77217</th>\n",
       "      <td>French</td>\n",
       "    </tr>\n",
       "    <tr>\n",
       "      <th>1142</th>\n",
       "      <td>English</td>\n",
       "    </tr>\n",
       "    <tr>\n",
       "      <th>25033</th>\n",
       "      <td>English</td>\n",
       "    </tr>\n",
       "    <tr>\n",
       "      <th>12081</th>\n",
       "      <td>German</td>\n",
       "    </tr>\n",
       "    <tr>\n",
       "      <th>64085</th>\n",
       "      <td>Serbian</td>\n",
       "    </tr>\n",
       "    <tr>\n",
       "      <th>37803</th>\n",
       "      <td>Hindi</td>\n",
       "    </tr>\n",
       "    <tr>\n",
       "      <th>81041</th>\n",
       "      <td>Arabic</td>\n",
       "    </tr>\n",
       "    <tr>\n",
       "      <th>43217</th>\n",
       "      <td>Norwegian, Swedish</td>\n",
       "    </tr>\n",
       "    <tr>\n",
       "      <th>24268</th>\n",
       "      <td>Irish, English</td>\n",
       "    </tr>\n",
       "  </tbody>\n",
       "</table>\n",
       "</div>"
      ],
      "text/plain": [
       "                 language\n",
       "49998             English\n",
       "77217              French\n",
       "1142              English\n",
       "25033             English\n",
       "12081              German\n",
       "64085             Serbian\n",
       "37803               Hindi\n",
       "81041              Arabic\n",
       "43217  Norwegian, Swedish\n",
       "24268      Irish, English"
      ]
     },
     "execution_count": 181,
     "metadata": {},
     "output_type": "execute_result"
    }
   ],
   "source": [
    "# Fill the missing values with 'Not Available' \n",
    "mv['language'] = mv['language'].fillna('Not Available')\n",
    "mv[['language']].sample(10)"
   ]
  },
  {
   "cell_type": "code",
   "execution_count": null,
   "metadata": {},
   "outputs": [],
   "source": []
  },
  {
   "cell_type": "markdown",
   "metadata": {},
   "source": []
  }
 ],
 "metadata": {
  "kernelspec": {
   "display_name": "Python 3",
   "language": "python",
   "name": "python3"
  },
  "language_info": {
   "codemirror_mode": {
    "name": "ipython",
    "version": 3
   },
   "file_extension": ".py",
   "mimetype": "text/x-python",
   "name": "python",
   "nbconvert_exporter": "python",
   "pygments_lexer": "ipython3",
   "version": "3.12.1"
  }
 },
 "nbformat": 4,
 "nbformat_minor": 2
}
