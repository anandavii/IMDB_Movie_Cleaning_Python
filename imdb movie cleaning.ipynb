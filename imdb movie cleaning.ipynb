{
 "cells": [
  {
   "cell_type": "markdown",
   "metadata": {},
   "source": [
    "# IMDB Movie Dataset Cleaning"
   ]
  },
  {
   "cell_type": "markdown",
   "metadata": {},
   "source": [
    "### Import Pandas Library"
   ]
  },
  {
   "cell_type": "code",
   "execution_count": 47,
   "metadata": {},
   "outputs": [],
   "source": [
    "import pandas as pd"
   ]
  },
  {
   "cell_type": "markdown",
   "metadata": {},
   "source": [
    "### Read the data file"
   ]
  },
  {
   "cell_type": "code",
   "execution_count": 48,
   "metadata": {},
   "outputs": [
    {
     "data": {
      "text/html": [
       "<div>\n",
       "<style scoped>\n",
       "    .dataframe tbody tr th:only-of-type {\n",
       "        vertical-align: middle;\n",
       "    }\n",
       "\n",
       "    .dataframe tbody tr th {\n",
       "        vertical-align: top;\n",
       "    }\n",
       "\n",
       "    .dataframe thead th {\n",
       "        text-align: right;\n",
       "    }\n",
       "</style>\n",
       "<table border=\"1\" class=\"dataframe\">\n",
       "  <thead>\n",
       "    <tr style=\"text-align: right;\">\n",
       "      <th></th>\n",
       "      <th>imdb_title_id</th>\n",
       "      <th>title</th>\n",
       "      <th>original_title</th>\n",
       "      <th>year</th>\n",
       "      <th>date_published</th>\n",
       "      <th>genre</th>\n",
       "      <th>duration</th>\n",
       "      <th>country</th>\n",
       "      <th>language</th>\n",
       "      <th>director</th>\n",
       "      <th>writer</th>\n",
       "      <th>production_company</th>\n",
       "      <th>actors</th>\n",
       "      <th>description</th>\n",
       "      <th>avg_vote</th>\n",
       "      <th>votes</th>\n",
       "      <th>budget</th>\n",
       "      <th>usa_gross_income</th>\n",
       "      <th>worlwide_gross_income</th>\n",
       "      <th>metascore</th>\n",
       "      <th>reviews_from_users</th>\n",
       "      <th>reviews_from_critics</th>\n",
       "    </tr>\n",
       "  </thead>\n",
       "  <tbody>\n",
       "    <tr>\n",
       "      <th>43536</th>\n",
       "      <td>tt0364447</td>\n",
       "      <td>Jopog manura 2: Dolaon jeonseol</td>\n",
       "      <td>Jopog manura 2: Dolaon jeonseol</td>\n",
       "      <td>2003</td>\n",
       "      <td>2003-09-05</td>\n",
       "      <td>Action, Comedy, Crime</td>\n",
       "      <td>110</td>\n",
       "      <td>South Korea</td>\n",
       "      <td>Korean</td>\n",
       "      <td>Heung-sun Jeong</td>\n",
       "      <td>Hae-cheol Choi, Heung-sun Jeong</td>\n",
       "      <td>CJ Entertainment</td>\n",
       "      <td>Eun-Kyung Shin, Jun Gyu Park, Se-jin Jang, Hye...</td>\n",
       "      <td>Former Scissor Gang leader Eun-jin (Shin Eun-k...</td>\n",
       "      <td>6.1</td>\n",
       "      <td>1178</td>\n",
       "      <td>NaN</td>\n",
       "      <td>NaN</td>\n",
       "      <td>NaN</td>\n",
       "      <td>NaN</td>\n",
       "      <td>6.0</td>\n",
       "      <td>9.0</td>\n",
       "    </tr>\n",
       "    <tr>\n",
       "      <th>18526</th>\n",
       "      <td>tt0077827</td>\n",
       "      <td>Lady Oscar</td>\n",
       "      <td>Lady Oscar</td>\n",
       "      <td>1979</td>\n",
       "      <td>1979-03-03</td>\n",
       "      <td>Drama, History, Romance</td>\n",
       "      <td>124</td>\n",
       "      <td>Japan, France</td>\n",
       "      <td>English, German</td>\n",
       "      <td>Jacques Demy</td>\n",
       "      <td>Jacques Demy, Patricia Louisianna Knop</td>\n",
       "      <td>Kitty Films</td>\n",
       "      <td>Catriona MacColl, Barry Stokes, Patrick Allen,...</td>\n",
       "      <td>The story of Lady Oscar, a female military com...</td>\n",
       "      <td>6.0</td>\n",
       "      <td>461</td>\n",
       "      <td>NaN</td>\n",
       "      <td>NaN</td>\n",
       "      <td>NaN</td>\n",
       "      <td>NaN</td>\n",
       "      <td>16.0</td>\n",
       "      <td>4.0</td>\n",
       "    </tr>\n",
       "  </tbody>\n",
       "</table>\n",
       "</div>"
      ],
      "text/plain": [
       "      imdb_title_id                            title  \\\n",
       "43536     tt0364447  Jopog manura 2: Dolaon jeonseol   \n",
       "18526     tt0077827                       Lady Oscar   \n",
       "\n",
       "                        original_title  year date_published  \\\n",
       "43536  Jopog manura 2: Dolaon jeonseol  2003     2003-09-05   \n",
       "18526                       Lady Oscar  1979     1979-03-03   \n",
       "\n",
       "                         genre  duration        country         language  \\\n",
       "43536    Action, Comedy, Crime       110    South Korea           Korean   \n",
       "18526  Drama, History, Romance       124  Japan, France  English, German   \n",
       "\n",
       "              director                                  writer  \\\n",
       "43536  Heung-sun Jeong         Hae-cheol Choi, Heung-sun Jeong   \n",
       "18526     Jacques Demy  Jacques Demy, Patricia Louisianna Knop   \n",
       "\n",
       "      production_company                                             actors  \\\n",
       "43536   CJ Entertainment  Eun-Kyung Shin, Jun Gyu Park, Se-jin Jang, Hye...   \n",
       "18526        Kitty Films  Catriona MacColl, Barry Stokes, Patrick Allen,...   \n",
       "\n",
       "                                             description  avg_vote  votes  \\\n",
       "43536  Former Scissor Gang leader Eun-jin (Shin Eun-k...       6.1   1178   \n",
       "18526  The story of Lady Oscar, a female military com...       6.0    461   \n",
       "\n",
       "      budget usa_gross_income worlwide_gross_income  metascore  \\\n",
       "43536    NaN              NaN                   NaN        NaN   \n",
       "18526    NaN              NaN                   NaN        NaN   \n",
       "\n",
       "       reviews_from_users  reviews_from_critics  \n",
       "43536                 6.0                   9.0  \n",
       "18526                16.0                   4.0  "
      ]
     },
     "execution_count": 48,
     "metadata": {},
     "output_type": "execute_result"
    }
   ],
   "source": [
    "df = pd.read_csv(r\"datasource/imdb_movies.csv\", encoding='unicode_escape', low_memory=False)\n",
    "df.sample(2)"
   ]
  },
  {
   "cell_type": "markdown",
   "metadata": {},
   "source": [
    "### Set the column width to maximum to display all the columns"
   ]
  },
  {
   "cell_type": "code",
   "execution_count": 49,
   "metadata": {},
   "outputs": [
    {
     "data": {
      "text/html": [
       "<div>\n",
       "<style scoped>\n",
       "    .dataframe tbody tr th:only-of-type {\n",
       "        vertical-align: middle;\n",
       "    }\n",
       "\n",
       "    .dataframe tbody tr th {\n",
       "        vertical-align: top;\n",
       "    }\n",
       "\n",
       "    .dataframe thead th {\n",
       "        text-align: right;\n",
       "    }\n",
       "</style>\n",
       "<table border=\"1\" class=\"dataframe\">\n",
       "  <thead>\n",
       "    <tr style=\"text-align: right;\">\n",
       "      <th></th>\n",
       "      <th>imdb_title_id</th>\n",
       "      <th>title</th>\n",
       "      <th>original_title</th>\n",
       "      <th>year</th>\n",
       "      <th>date_published</th>\n",
       "      <th>genre</th>\n",
       "      <th>duration</th>\n",
       "      <th>country</th>\n",
       "      <th>language</th>\n",
       "      <th>director</th>\n",
       "      <th>writer</th>\n",
       "      <th>production_company</th>\n",
       "      <th>actors</th>\n",
       "      <th>description</th>\n",
       "      <th>avg_vote</th>\n",
       "      <th>votes</th>\n",
       "      <th>budget</th>\n",
       "      <th>usa_gross_income</th>\n",
       "      <th>worlwide_gross_income</th>\n",
       "      <th>metascore</th>\n",
       "      <th>reviews_from_users</th>\n",
       "      <th>reviews_from_critics</th>\n",
       "    </tr>\n",
       "  </thead>\n",
       "  <tbody>\n",
       "    <tr>\n",
       "      <th>0</th>\n",
       "      <td>tt0000009</td>\n",
       "      <td>Miss Jerry</td>\n",
       "      <td>Miss Jerry</td>\n",
       "      <td>1894</td>\n",
       "      <td>1894-10-09</td>\n",
       "      <td>Romance</td>\n",
       "      <td>45</td>\n",
       "      <td>USA</td>\n",
       "      <td>NaN</td>\n",
       "      <td>Alexander Black</td>\n",
       "      <td>Alexander Black</td>\n",
       "      <td>Alexander Black Photoplays</td>\n",
       "      <td>Blanche Bayliss, William Courtenay, Chauncey D...</td>\n",
       "      <td>The adventures of a female reporter in the 1890s.</td>\n",
       "      <td>5.9</td>\n",
       "      <td>154</td>\n",
       "      <td>NaN</td>\n",
       "      <td>NaN</td>\n",
       "      <td>NaN</td>\n",
       "      <td>NaN</td>\n",
       "      <td>1.0</td>\n",
       "      <td>2.0</td>\n",
       "    </tr>\n",
       "    <tr>\n",
       "      <th>1</th>\n",
       "      <td>tt0000574</td>\n",
       "      <td>The Story of the Kelly Gang</td>\n",
       "      <td>The Story of the Kelly Gang</td>\n",
       "      <td>1906</td>\n",
       "      <td>1906-12-26</td>\n",
       "      <td>Biography, Crime, Drama</td>\n",
       "      <td>70</td>\n",
       "      <td>Australia</td>\n",
       "      <td>NaN</td>\n",
       "      <td>Charles Tait</td>\n",
       "      <td>Charles Tait</td>\n",
       "      <td>J. and N. Tait</td>\n",
       "      <td>Elizabeth Tait, John Tait, Norman Campbell, Be...</td>\n",
       "      <td>True story of notorious Australian outlaw Ned ...</td>\n",
       "      <td>6.1</td>\n",
       "      <td>589</td>\n",
       "      <td>$ 2250</td>\n",
       "      <td>NaN</td>\n",
       "      <td>NaN</td>\n",
       "      <td>NaN</td>\n",
       "      <td>7.0</td>\n",
       "      <td>7.0</td>\n",
       "    </tr>\n",
       "  </tbody>\n",
       "</table>\n",
       "</div>"
      ],
      "text/plain": [
       "  imdb_title_id                        title               original_title  \\\n",
       "0     tt0000009                   Miss Jerry                   Miss Jerry   \n",
       "1     tt0000574  The Story of the Kelly Gang  The Story of the Kelly Gang   \n",
       "\n",
       "   year date_published                    genre  duration    country language  \\\n",
       "0  1894     1894-10-09                  Romance        45        USA      NaN   \n",
       "1  1906     1906-12-26  Biography, Crime, Drama        70  Australia      NaN   \n",
       "\n",
       "          director           writer          production_company  \\\n",
       "0  Alexander Black  Alexander Black  Alexander Black Photoplays   \n",
       "1     Charles Tait     Charles Tait              J. and N. Tait   \n",
       "\n",
       "                                              actors  \\\n",
       "0  Blanche Bayliss, William Courtenay, Chauncey D...   \n",
       "1  Elizabeth Tait, John Tait, Norman Campbell, Be...   \n",
       "\n",
       "                                         description  avg_vote  votes  budget  \\\n",
       "0  The adventures of a female reporter in the 1890s.       5.9    154     NaN   \n",
       "1  True story of notorious Australian outlaw Ned ...       6.1    589  $ 2250   \n",
       "\n",
       "  usa_gross_income worlwide_gross_income  metascore  reviews_from_users  \\\n",
       "0              NaN                   NaN        NaN                 1.0   \n",
       "1              NaN                   NaN        NaN                 7.0   \n",
       "\n",
       "   reviews_from_critics  \n",
       "0                   2.0  \n",
       "1                   7.0  "
      ]
     },
     "execution_count": 49,
     "metadata": {},
     "output_type": "execute_result"
    }
   ],
   "source": [
    "# Display all the columns and rows\n",
    "pd.set_option('display.max_columns',None)\n",
    "df.head(2)"
   ]
  },
  {
   "cell_type": "markdown",
   "metadata": {},
   "source": [
    "### Analyze the dataset\n",
    "- Check the data types\n",
    "- Check the number of records and number of columns"
   ]
  },
  {
   "cell_type": "code",
   "execution_count": 50,
   "metadata": {},
   "outputs": [
    {
     "name": "stdout",
     "output_type": "stream",
     "text": [
      "Total Rows present are : 85855, and total Columns are : 22\n"
     ]
    }
   ],
   "source": [
    "rows, columns = df.shape\n",
    "print(f\"Total Rows present are : {rows}, and total Columns are : {columns}\")"
   ]
  },
  {
   "cell_type": "code",
   "execution_count": 51,
   "metadata": {},
   "outputs": [
    {
     "name": "stdout",
     "output_type": "stream",
     "text": [
      "<class 'pandas.core.frame.DataFrame'>\n",
      "RangeIndex: 85855 entries, 0 to 85854\n",
      "Data columns (total 22 columns):\n",
      " #   Column                 Non-Null Count  Dtype  \n",
      "---  ------                 --------------  -----  \n",
      " 0   imdb_title_id          85855 non-null  object \n",
      " 1   title                  85855 non-null  object \n",
      " 2   original_title         85855 non-null  object \n",
      " 3   year                   85855 non-null  object \n",
      " 4   date_published         85855 non-null  object \n",
      " 5   genre                  85855 non-null  object \n",
      " 6   duration               85855 non-null  int64  \n",
      " 7   country                85791 non-null  object \n",
      " 8   language               84954 non-null  object \n",
      " 9   director               85768 non-null  object \n",
      " 10  writer                 84283 non-null  object \n",
      " 11  production_company     81400 non-null  object \n",
      " 12  actors                 85786 non-null  object \n",
      " 13  description            83740 non-null  object \n",
      " 14  avg_vote               85855 non-null  float64\n",
      " 15  votes                  85855 non-null  int64  \n",
      " 16  budget                 23710 non-null  object \n",
      " 17  usa_gross_income       15326 non-null  object \n",
      " 18  worlwide_gross_income  31016 non-null  object \n",
      " 19  metascore              13305 non-null  float64\n",
      " 20  reviews_from_users     78258 non-null  float64\n",
      " 21  reviews_from_critics   74058 non-null  float64\n",
      "dtypes: float64(4), int64(2), object(16)\n",
      "memory usage: 14.4+ MB\n"
     ]
    }
   ],
   "source": [
    "df.info()"
   ]
  },
  {
   "cell_type": "markdown",
   "metadata": {},
   "source": [
    "# Data Cleaning Process"
   ]
  },
  {
   "cell_type": "markdown",
   "metadata": {},
   "source": [
    "### Creating copy of the data"
   ]
  },
  {
   "cell_type": "code",
   "execution_count": 52,
   "metadata": {},
   "outputs": [
    {
     "data": {
      "text/html": [
       "<div>\n",
       "<style scoped>\n",
       "    .dataframe tbody tr th:only-of-type {\n",
       "        vertical-align: middle;\n",
       "    }\n",
       "\n",
       "    .dataframe tbody tr th {\n",
       "        vertical-align: top;\n",
       "    }\n",
       "\n",
       "    .dataframe thead th {\n",
       "        text-align: right;\n",
       "    }\n",
       "</style>\n",
       "<table border=\"1\" class=\"dataframe\">\n",
       "  <thead>\n",
       "    <tr style=\"text-align: right;\">\n",
       "      <th></th>\n",
       "      <th>imdb_title_id</th>\n",
       "      <th>title</th>\n",
       "      <th>original_title</th>\n",
       "      <th>year</th>\n",
       "      <th>date_published</th>\n",
       "      <th>genre</th>\n",
       "      <th>duration</th>\n",
       "      <th>country</th>\n",
       "      <th>language</th>\n",
       "      <th>director</th>\n",
       "      <th>writer</th>\n",
       "      <th>production_company</th>\n",
       "      <th>actors</th>\n",
       "      <th>description</th>\n",
       "      <th>avg_vote</th>\n",
       "      <th>votes</th>\n",
       "      <th>budget</th>\n",
       "      <th>usa_gross_income</th>\n",
       "      <th>worlwide_gross_income</th>\n",
       "      <th>metascore</th>\n",
       "      <th>reviews_from_users</th>\n",
       "      <th>reviews_from_critics</th>\n",
       "    </tr>\n",
       "  </thead>\n",
       "  <tbody>\n",
       "    <tr>\n",
       "      <th>14341</th>\n",
       "      <td>tt0065422</td>\n",
       "      <td>Arizona si scatenò... e li fece fuori tutti!</td>\n",
       "      <td>Arizona si scatenò... e li fece fuori tutti!</td>\n",
       "      <td>1970</td>\n",
       "      <td>1970-08-14</td>\n",
       "      <td>Western</td>\n",
       "      <td>90</td>\n",
       "      <td>Italy, Spain</td>\n",
       "      <td>Italian</td>\n",
       "      <td>Sergio Martino</td>\n",
       "      <td>Ernesto Gastaldi, Joaquín Luis Romero Marchent</td>\n",
       "      <td>Astro C.C.</td>\n",
       "      <td>Anthony Steffen, Marcella Michelangeli, Aldo S...</td>\n",
       "      <td>Famed gunman Arizona Colt is sent by Moreno to...</td>\n",
       "      <td>5.7</td>\n",
       "      <td>233</td>\n",
       "      <td>NaN</td>\n",
       "      <td>NaN</td>\n",
       "      <td>NaN</td>\n",
       "      <td>NaN</td>\n",
       "      <td>5.0</td>\n",
       "      <td>8.0</td>\n",
       "    </tr>\n",
       "    <tr>\n",
       "      <th>7879</th>\n",
       "      <td>tt0046750</td>\n",
       "      <td>Gli ultimi crisantemi</td>\n",
       "      <td>Bangiku</td>\n",
       "      <td>1954</td>\n",
       "      <td>1954-06-15</td>\n",
       "      <td>Drama</td>\n",
       "      <td>101</td>\n",
       "      <td>Japan</td>\n",
       "      <td>Japanese</td>\n",
       "      <td>Mikio Naruse</td>\n",
       "      <td>Fumiko Hayashi, Sumie Tanaka</td>\n",
       "      <td>Toho Company</td>\n",
       "      <td>Haruko Sugimura, Sadako Sawamura, Chikako Hoso...</td>\n",
       "      <td>What is the life of a Geisha like once her bea...</td>\n",
       "      <td>7.4</td>\n",
       "      <td>889</td>\n",
       "      <td>NaN</td>\n",
       "      <td>NaN</td>\n",
       "      <td>NaN</td>\n",
       "      <td>NaN</td>\n",
       "      <td>10.0</td>\n",
       "      <td>16.0</td>\n",
       "    </tr>\n",
       "  </tbody>\n",
       "</table>\n",
       "</div>"
      ],
      "text/plain": [
       "      imdb_title_id                                         title  \\\n",
       "14341     tt0065422  Arizona si scatenò... e li fece fuori tutti!   \n",
       "7879      tt0046750                         Gli ultimi crisantemi   \n",
       "\n",
       "                                     original_title  year date_published  \\\n",
       "14341  Arizona si scatenò... e li fece fuori tutti!  1970     1970-08-14   \n",
       "7879                                        Bangiku  1954     1954-06-15   \n",
       "\n",
       "         genre  duration       country  language        director  \\\n",
       "14341  Western        90  Italy, Spain   Italian  Sergio Martino   \n",
       "7879     Drama       101         Japan  Japanese    Mikio Naruse   \n",
       "\n",
       "                                               writer production_company  \\\n",
       "14341  Ernesto Gastaldi, Joaquín Luis Romero Marchent         Astro C.C.   \n",
       "7879                     Fumiko Hayashi, Sumie Tanaka       Toho Company   \n",
       "\n",
       "                                                  actors  \\\n",
       "14341  Anthony Steffen, Marcella Michelangeli, Aldo S...   \n",
       "7879   Haruko Sugimura, Sadako Sawamura, Chikako Hoso...   \n",
       "\n",
       "                                             description  avg_vote  votes  \\\n",
       "14341  Famed gunman Arizona Colt is sent by Moreno to...       5.7    233   \n",
       "7879   What is the life of a Geisha like once her bea...       7.4    889   \n",
       "\n",
       "      budget usa_gross_income worlwide_gross_income  metascore  \\\n",
       "14341    NaN              NaN                   NaN        NaN   \n",
       "7879     NaN              NaN                   NaN        NaN   \n",
       "\n",
       "       reviews_from_users  reviews_from_critics  \n",
       "14341                 5.0                   8.0  \n",
       "7879                 10.0                  16.0  "
      ]
     },
     "execution_count": 52,
     "metadata": {},
     "output_type": "execute_result"
    }
   ],
   "source": [
    "mv = df.copy()\n",
    "mv.sample(2)"
   ]
  },
  {
   "cell_type": "markdown",
   "metadata": {},
   "source": [
    "### Column: [imdb_title_id]"
   ]
  },
  {
   "cell_type": "code",
   "execution_count": 53,
   "metadata": {},
   "outputs": [
    {
     "data": {
      "text/plain": [
       "<bound method Series.unique of 0        tt0000009\n",
       "1        tt0000574\n",
       "2        tt0001892\n",
       "3        tt0002101\n",
       "4        tt0002130\n",
       "           ...    \n",
       "85850    tt9908390\n",
       "85851    tt9911196\n",
       "85852    tt9911774\n",
       "85853    tt9914286\n",
       "85854    tt9914942\n",
       "Name: imdb_title_id, Length: 85855, dtype: object>"
      ]
     },
     "execution_count": 53,
     "metadata": {},
     "output_type": "execute_result"
    }
   ],
   "source": [
    "mv['imdb_title_id'].unique"
   ]
  },
  {
   "cell_type": "markdown",
   "metadata": {},
   "source": [
    "- We can see that all the values are prefixed with 'tt' which can be removed \n",
    "- Also the column name can be renamed to 'id'"
   ]
  },
  {
   "cell_type": "code",
   "execution_count": 54,
   "metadata": {},
   "outputs": [
    {
     "data": {
      "text/plain": [
       "27556    0107773\n",
       "16729    0072037\n",
       "17292    0073905\n",
       "20838    0085394\n",
       "2842     0029648\n",
       "21933    0089123\n",
       "16884    0072644\n",
       "42308    0329601\n",
       "17540    0074739\n",
       "75585    4728582\n",
       "Name: imdb_title_id, dtype: object"
      ]
     },
     "execution_count": 54,
     "metadata": {},
     "output_type": "execute_result"
    }
   ],
   "source": [
    "# Strip the 'tt' from the imdb_title_id\n",
    "mv['imdb_title_id'] = mv['imdb_title_id'].str.strip('tt')\n",
    "mv['imdb_title_id'].sample(10)"
   ]
  },
  {
   "cell_type": "markdown",
   "metadata": {},
   "source": [
    "#### Rename the column to 'imdb_title_id' to 'id'"
   ]
  },
  {
   "cell_type": "code",
   "execution_count": 55,
   "metadata": {},
   "outputs": [
    {
     "data": {
      "text/html": [
       "<div>\n",
       "<style scoped>\n",
       "    .dataframe tbody tr th:only-of-type {\n",
       "        vertical-align: middle;\n",
       "    }\n",
       "\n",
       "    .dataframe tbody tr th {\n",
       "        vertical-align: top;\n",
       "    }\n",
       "\n",
       "    .dataframe thead th {\n",
       "        text-align: right;\n",
       "    }\n",
       "</style>\n",
       "<table border=\"1\" class=\"dataframe\">\n",
       "  <thead>\n",
       "    <tr style=\"text-align: right;\">\n",
       "      <th></th>\n",
       "      <th>id</th>\n",
       "      <th>title</th>\n",
       "      <th>original_title</th>\n",
       "      <th>year</th>\n",
       "      <th>date_published</th>\n",
       "      <th>genre</th>\n",
       "      <th>duration</th>\n",
       "      <th>country</th>\n",
       "      <th>language</th>\n",
       "      <th>director</th>\n",
       "      <th>writer</th>\n",
       "      <th>production_company</th>\n",
       "      <th>actors</th>\n",
       "      <th>description</th>\n",
       "      <th>avg_vote</th>\n",
       "      <th>votes</th>\n",
       "      <th>budget</th>\n",
       "      <th>usa_gross_income</th>\n",
       "      <th>worlwide_gross_income</th>\n",
       "      <th>metascore</th>\n",
       "      <th>reviews_from_users</th>\n",
       "      <th>reviews_from_critics</th>\n",
       "    </tr>\n",
       "  </thead>\n",
       "  <tbody>\n",
       "    <tr>\n",
       "      <th>68303</th>\n",
       "      <td>2671106</td>\n",
       "      <td>The Hanover House</td>\n",
       "      <td>The Hanover House</td>\n",
       "      <td>2014</td>\n",
       "      <td>2014-05-09</td>\n",
       "      <td>Horror, Thriller</td>\n",
       "      <td>73</td>\n",
       "      <td>USA</td>\n",
       "      <td>English</td>\n",
       "      <td>Corey Norman</td>\n",
       "      <td>Corey Norman, Corey Norman</td>\n",
       "      <td>Bonfire Films</td>\n",
       "      <td>Brian Chamberlain, Casey Turner, Anne Bobby, D...</td>\n",
       "      <td>Returning from his father's funeral, Robert Fo...</td>\n",
       "      <td>5.6</td>\n",
       "      <td>112</td>\n",
       "      <td>$ 500000</td>\n",
       "      <td>NaN</td>\n",
       "      <td>NaN</td>\n",
       "      <td>NaN</td>\n",
       "      <td>3.0</td>\n",
       "      <td>11.0</td>\n",
       "    </tr>\n",
       "    <tr>\n",
       "      <th>20074</th>\n",
       "      <td>0082869</td>\n",
       "      <td>Atmosfera zero</td>\n",
       "      <td>Outland</td>\n",
       "      <td>1981</td>\n",
       "      <td>1981-10-08</td>\n",
       "      <td>Action, Crime, Sci-Fi</td>\n",
       "      <td>109</td>\n",
       "      <td>UK</td>\n",
       "      <td>English</td>\n",
       "      <td>Peter Hyams</td>\n",
       "      <td>Peter Hyams</td>\n",
       "      <td>The Ladd Company</td>\n",
       "      <td>Sean Connery, Peter Boyle, Frances Sternhagen,...</td>\n",
       "      <td>A federal marshal stationed at a mining colony...</td>\n",
       "      <td>6.6</td>\n",
       "      <td>26486</td>\n",
       "      <td>$ 16000000</td>\n",
       "      <td>$ 17374595</td>\n",
       "      <td>$ 17374595</td>\n",
       "      <td>48.0</td>\n",
       "      <td>147.0</td>\n",
       "      <td>94.0</td>\n",
       "    </tr>\n",
       "  </tbody>\n",
       "</table>\n",
       "</div>"
      ],
      "text/plain": [
       "            id              title     original_title  year date_published  \\\n",
       "68303  2671106  The Hanover House  The Hanover House  2014     2014-05-09   \n",
       "20074  0082869     Atmosfera zero            Outland  1981     1981-10-08   \n",
       "\n",
       "                       genre  duration country language      director  \\\n",
       "68303       Horror, Thriller        73     USA  English  Corey Norman   \n",
       "20074  Action, Crime, Sci-Fi       109      UK  English   Peter Hyams   \n",
       "\n",
       "                           writer production_company  \\\n",
       "68303  Corey Norman, Corey Norman      Bonfire Films   \n",
       "20074                 Peter Hyams   The Ladd Company   \n",
       "\n",
       "                                                  actors  \\\n",
       "68303  Brian Chamberlain, Casey Turner, Anne Bobby, D...   \n",
       "20074  Sean Connery, Peter Boyle, Frances Sternhagen,...   \n",
       "\n",
       "                                             description  avg_vote  votes  \\\n",
       "68303  Returning from his father's funeral, Robert Fo...       5.6    112   \n",
       "20074  A federal marshal stationed at a mining colony...       6.6  26486   \n",
       "\n",
       "           budget usa_gross_income worlwide_gross_income  metascore  \\\n",
       "68303    $ 500000              NaN                   NaN        NaN   \n",
       "20074  $ 16000000       $ 17374595            $ 17374595       48.0   \n",
       "\n",
       "       reviews_from_users  reviews_from_critics  \n",
       "68303                 3.0                  11.0  \n",
       "20074               147.0                  94.0  "
      ]
     },
     "execution_count": 55,
     "metadata": {},
     "output_type": "execute_result"
    }
   ],
   "source": [
    "# Rename column 'imdb_title_id' to 'id'\n",
    "mv.rename(columns={'imdb_title_id':'id'}, inplace=True)\n",
    "mv.sample(2)"
   ]
  },
  {
   "cell_type": "markdown",
   "metadata": {},
   "source": [
    "#### Convert the column 'imdb_title_id' to integer type"
   ]
  },
  {
   "cell_type": "code",
   "execution_count": 56,
   "metadata": {},
   "outputs": [
    {
     "name": "stdout",
     "output_type": "stream",
     "text": [
      "<class 'pandas.core.series.Series'>\n",
      "RangeIndex: 85855 entries, 0 to 85854\n",
      "Series name: id\n",
      "Non-Null Count  Dtype\n",
      "--------------  -----\n",
      "85855 non-null  int64\n",
      "dtypes: int64(1)\n",
      "memory usage: 670.9 KB\n"
     ]
    }
   ],
   "source": [
    "# Convert the column 'imdb_title_id' to integer type\n",
    "mv['id'] = mv['id'].astype(int)\n",
    "mv['id'].info()"
   ]
  },
  {
   "cell_type": "markdown",
   "metadata": {},
   "source": [
    "### Column: [title] and [original_title]"
   ]
  },
  {
   "cell_type": "code",
   "execution_count": 57,
   "metadata": {},
   "outputs": [
    {
     "data": {
      "text/plain": [
       "<bound method Series.unique of 0                            Miss Jerry\n",
       "1           The Story of the Kelly Gang\n",
       "2                        Den sorte drøm\n",
       "3                             Cleopatra\n",
       "4                             L'Inferno\n",
       "                      ...              \n",
       "85850                           Le lion\n",
       "85851    De Beentjes van Sint-Hildegard\n",
       "85852         Padmavyuhathile Abhimanyu\n",
       "85853                 Sokagin Çocuklari\n",
       "85854        La vida sense la Sara Amat\n",
       "Name: title, Length: 85855, dtype: object>"
      ]
     },
     "execution_count": 57,
     "metadata": {},
     "output_type": "execute_result"
    }
   ],
   "source": [
    "# Check the unique values\n",
    "df['title'].unique"
   ]
  },
  {
   "cell_type": "markdown",
   "metadata": {},
   "source": [
    "- The 'title' column does not has any data anomaly and does not require cleaning"
   ]
  },
  {
   "cell_type": "code",
   "execution_count": 58,
   "metadata": {},
   "outputs": [
    {
     "data": {
      "text/plain": [
       "<bound method Series.unique of 0                            Miss Jerry\n",
       "1           The Story of the Kelly Gang\n",
       "2                        Den sorte drøm\n",
       "3                             Cleopatra\n",
       "4                             L'Inferno\n",
       "                      ...              \n",
       "85850                           Le lion\n",
       "85851    De Beentjes van Sint-Hildegard\n",
       "85852         Padmavyuhathile Abhimanyu\n",
       "85853                 Sokagin Çocuklari\n",
       "85854        La vida sense la Sara Amat\n",
       "Name: original_title, Length: 85855, dtype: object>"
      ]
     },
     "execution_count": 58,
     "metadata": {},
     "output_type": "execute_result"
    }
   ],
   "source": [
    "# Check the unique values in 'original_title'\n",
    "df['original_title'].unique"
   ]
  },
  {
   "cell_type": "markdown",
   "metadata": {},
   "source": [
    "- Both the columns are same and the column 'title' can be dropped"
   ]
  },
  {
   "cell_type": "markdown",
   "metadata": {},
   "source": [
    "#### Drop the column 'title'"
   ]
  },
  {
   "cell_type": "code",
   "execution_count": 59,
   "metadata": {},
   "outputs": [],
   "source": [
    "# Drop the column title\n",
    "mv.drop(columns=['title'],inplace=True)"
   ]
  },
  {
   "cell_type": "markdown",
   "metadata": {},
   "source": [
    "#### Rename the column 'original_title' to 'title'"
   ]
  },
  {
   "cell_type": "code",
   "execution_count": 60,
   "metadata": {},
   "outputs": [
    {
     "data": {
      "text/html": [
       "<div>\n",
       "<style scoped>\n",
       "    .dataframe tbody tr th:only-of-type {\n",
       "        vertical-align: middle;\n",
       "    }\n",
       "\n",
       "    .dataframe tbody tr th {\n",
       "        vertical-align: top;\n",
       "    }\n",
       "\n",
       "    .dataframe thead th {\n",
       "        text-align: right;\n",
       "    }\n",
       "</style>\n",
       "<table border=\"1\" class=\"dataframe\">\n",
       "  <thead>\n",
       "    <tr style=\"text-align: right;\">\n",
       "      <th></th>\n",
       "      <th>id</th>\n",
       "      <th>title</th>\n",
       "      <th>year</th>\n",
       "      <th>date_published</th>\n",
       "      <th>genre</th>\n",
       "      <th>duration</th>\n",
       "      <th>country</th>\n",
       "      <th>language</th>\n",
       "      <th>director</th>\n",
       "      <th>writer</th>\n",
       "      <th>production_company</th>\n",
       "      <th>actors</th>\n",
       "      <th>description</th>\n",
       "      <th>avg_vote</th>\n",
       "      <th>votes</th>\n",
       "      <th>budget</th>\n",
       "      <th>usa_gross_income</th>\n",
       "      <th>worlwide_gross_income</th>\n",
       "      <th>metascore</th>\n",
       "      <th>reviews_from_users</th>\n",
       "      <th>reviews_from_critics</th>\n",
       "    </tr>\n",
       "  </thead>\n",
       "  <tbody>\n",
       "    <tr>\n",
       "      <th>53839</th>\n",
       "      <td>1092633</td>\n",
       "      <td>The Goods: Live Hard, Sell Hard</td>\n",
       "      <td>2009</td>\n",
       "      <td>2009-08-14</td>\n",
       "      <td>Comedy</td>\n",
       "      <td>89</td>\n",
       "      <td>USA</td>\n",
       "      <td>English</td>\n",
       "      <td>Neal Brennan</td>\n",
       "      <td>Andy Stock, Rick Stempson</td>\n",
       "      <td>Paramount Vantage</td>\n",
       "      <td>Jeremy Piven, Ving Rhames, James Brolin, David...</td>\n",
       "      <td>Used-car liquidator Don Ready is hired by a fl...</td>\n",
       "      <td>5.8</td>\n",
       "      <td>20547</td>\n",
       "      <td>$ 10000000</td>\n",
       "      <td>$ 15122676</td>\n",
       "      <td>$ 15300885</td>\n",
       "      <td>39.0</td>\n",
       "      <td>78.0</td>\n",
       "      <td>81.0</td>\n",
       "    </tr>\n",
       "    <tr>\n",
       "      <th>32098</th>\n",
       "      <td>130377</td>\n",
       "      <td>Zatôichi senryô-kubi</td>\n",
       "      <td>1964</td>\n",
       "      <td>1964-03-14</td>\n",
       "      <td>Action, Adventure, Drama</td>\n",
       "      <td>83</td>\n",
       "      <td>Japan</td>\n",
       "      <td>Japanese</td>\n",
       "      <td>Kazuo Ikehiro</td>\n",
       "      <td>Shôzaburô Asai, Akikazu Ota</td>\n",
       "      <td>Daiei</td>\n",
       "      <td>Shintarô Katsu, Shôgo Shimada, Mikiko Tsubouch...</td>\n",
       "      <td>Zatoichi is mistaken for a thief. To clear his...</td>\n",
       "      <td>7.4</td>\n",
       "      <td>1374</td>\n",
       "      <td>NaN</td>\n",
       "      <td>NaN</td>\n",
       "      <td>NaN</td>\n",
       "      <td>NaN</td>\n",
       "      <td>12.0</td>\n",
       "      <td>9.0</td>\n",
       "    </tr>\n",
       "  </tbody>\n",
       "</table>\n",
       "</div>"
      ],
      "text/plain": [
       "            id                            title  year date_published  \\\n",
       "53839  1092633  The Goods: Live Hard, Sell Hard  2009     2009-08-14   \n",
       "32098   130377             Zatôichi senryô-kubi  1964     1964-03-14   \n",
       "\n",
       "                          genre  duration country  language       director  \\\n",
       "53839                    Comedy        89     USA   English   Neal Brennan   \n",
       "32098  Action, Adventure, Drama        83   Japan  Japanese  Kazuo Ikehiro   \n",
       "\n",
       "                            writer production_company  \\\n",
       "53839    Andy Stock, Rick Stempson  Paramount Vantage   \n",
       "32098  Shôzaburô Asai, Akikazu Ota              Daiei   \n",
       "\n",
       "                                                  actors  \\\n",
       "53839  Jeremy Piven, Ving Rhames, James Brolin, David...   \n",
       "32098  Shintarô Katsu, Shôgo Shimada, Mikiko Tsubouch...   \n",
       "\n",
       "                                             description  avg_vote  votes  \\\n",
       "53839  Used-car liquidator Don Ready is hired by a fl...       5.8  20547   \n",
       "32098  Zatoichi is mistaken for a thief. To clear his...       7.4   1374   \n",
       "\n",
       "           budget usa_gross_income worlwide_gross_income  metascore  \\\n",
       "53839  $ 10000000       $ 15122676            $ 15300885       39.0   \n",
       "32098         NaN              NaN                   NaN        NaN   \n",
       "\n",
       "       reviews_from_users  reviews_from_critics  \n",
       "53839                78.0                  81.0  \n",
       "32098                12.0                   9.0  "
      ]
     },
     "execution_count": 60,
     "metadata": {},
     "output_type": "execute_result"
    }
   ],
   "source": [
    "# Rename the column 'original_title' to 'title' \n",
    "mv.rename(columns={'original_title':'title'}, inplace=True)\n",
    "mv.sample(2)"
   ]
  },
  {
   "cell_type": "markdown",
   "metadata": {},
   "source": [
    "### Column: [year] and [date_published]\n",
    "- We can drop the 'year' column\n",
    "- from the 'date_published' column we will extract the year and further rename the column to 'year'"
   ]
  },
  {
   "cell_type": "code",
   "execution_count": 62,
   "metadata": {},
   "outputs": [],
   "source": [
    "# Drop the column 'year'\n",
    "mv.drop(columns=['year'],inplace=True)"
   ]
  },
  {
   "cell_type": "markdown",
   "metadata": {},
   "source": [
    "#### Extract year from the column 'date_published'"
   ]
  },
  {
   "cell_type": "code",
   "execution_count": 66,
   "metadata": {},
   "outputs": [],
   "source": [
    "# Convert the column 'published_year' to date_time\n",
    "mv['date_published'] = mv['date_published'].str[:4]"
   ]
  },
  {
   "cell_type": "code",
   "execution_count": 69,
   "metadata": {},
   "outputs": [
    {
     "data": {
      "text/plain": [
       "4176     1942\n",
       "46944    2008\n",
       "75615    2005\n",
       "79637    2017\n",
       "6882     1951\n",
       "Name: date_published, dtype: object"
      ]
     },
     "execution_count": 69,
     "metadata": {},
     "output_type": "execute_result"
    }
   ],
   "source": [
    "mv['date_published'].sample(5)"
   ]
  },
  {
   "cell_type": "markdown",
   "metadata": {},
   "source": [
    "#### Rename the column 'date_published' to 'year'"
   ]
  },
  {
   "cell_type": "code",
   "execution_count": 73,
   "metadata": {},
   "outputs": [
    {
     "data": {
      "text/html": [
       "<div>\n",
       "<style scoped>\n",
       "    .dataframe tbody tr th:only-of-type {\n",
       "        vertical-align: middle;\n",
       "    }\n",
       "\n",
       "    .dataframe tbody tr th {\n",
       "        vertical-align: top;\n",
       "    }\n",
       "\n",
       "    .dataframe thead th {\n",
       "        text-align: right;\n",
       "    }\n",
       "</style>\n",
       "<table border=\"1\" class=\"dataframe\">\n",
       "  <thead>\n",
       "    <tr style=\"text-align: right;\">\n",
       "      <th></th>\n",
       "      <th>id</th>\n",
       "      <th>title</th>\n",
       "      <th>year</th>\n",
       "      <th>genre</th>\n",
       "      <th>duration</th>\n",
       "      <th>country</th>\n",
       "      <th>language</th>\n",
       "      <th>director</th>\n",
       "      <th>writer</th>\n",
       "      <th>production_company</th>\n",
       "      <th>actors</th>\n",
       "      <th>description</th>\n",
       "      <th>avg_vote</th>\n",
       "      <th>votes</th>\n",
       "      <th>budget</th>\n",
       "      <th>usa_gross_income</th>\n",
       "      <th>worlwide_gross_income</th>\n",
       "      <th>metascore</th>\n",
       "      <th>reviews_from_users</th>\n",
       "      <th>reviews_from_critics</th>\n",
       "    </tr>\n",
       "  </thead>\n",
       "  <tbody>\n",
       "    <tr>\n",
       "      <th>1111</th>\n",
       "      <td>22000</td>\n",
       "      <td>Indiscreet</td>\n",
       "      <td>1931</td>\n",
       "      <td>Comedy, Drama, Musical</td>\n",
       "      <td>92</td>\n",
       "      <td>USA</td>\n",
       "      <td>English</td>\n",
       "      <td>Leo McCarey</td>\n",
       "      <td>Buddy G. DeSylva, Lew Brown</td>\n",
       "      <td>Joseph M. Schenck Productions</td>\n",
       "      <td>Gloria Swanson, Ben Lyon, Monroe Owsley, Barba...</td>\n",
       "      <td>A young woman jeopardizes the relationship wit...</td>\n",
       "      <td>6.2</td>\n",
       "      <td>1336</td>\n",
       "      <td>NaN</td>\n",
       "      <td>NaN</td>\n",
       "      <td>NaN</td>\n",
       "      <td>NaN</td>\n",
       "      <td>23.0</td>\n",
       "      <td>2.0</td>\n",
       "    </tr>\n",
       "    <tr>\n",
       "      <th>51844</th>\n",
       "      <td>964179</td>\n",
       "      <td>B-Girl</td>\n",
       "      <td>2009</td>\n",
       "      <td>Drama, Music, Romance</td>\n",
       "      <td>88</td>\n",
       "      <td>USA</td>\n",
       "      <td>English</td>\n",
       "      <td>Emily Dell</td>\n",
       "      <td>Emily Dell</td>\n",
       "      <td>Two Camels Films</td>\n",
       "      <td>Julie 'Jules' Urich, Missy Yager, Wesley Jonat...</td>\n",
       "      <td>A story about a female breakdancer overcoming ...</td>\n",
       "      <td>3.9</td>\n",
       "      <td>618</td>\n",
       "      <td>NaN</td>\n",
       "      <td>NaN</td>\n",
       "      <td>NaN</td>\n",
       "      <td>NaN</td>\n",
       "      <td>10.0</td>\n",
       "      <td>7.0</td>\n",
       "    </tr>\n",
       "  </tbody>\n",
       "</table>\n",
       "</div>"
      ],
      "text/plain": [
       "           id       title  year                   genre  duration country  \\\n",
       "1111    22000  Indiscreet  1931  Comedy, Drama, Musical        92     USA   \n",
       "51844  964179      B-Girl  2009   Drama, Music, Romance        88     USA   \n",
       "\n",
       "      language     director                       writer  \\\n",
       "1111   English  Leo McCarey  Buddy G. DeSylva, Lew Brown   \n",
       "51844  English   Emily Dell                   Emily Dell   \n",
       "\n",
       "                  production_company  \\\n",
       "1111   Joseph M. Schenck Productions   \n",
       "51844               Two Camels Films   \n",
       "\n",
       "                                                  actors  \\\n",
       "1111   Gloria Swanson, Ben Lyon, Monroe Owsley, Barba...   \n",
       "51844  Julie 'Jules' Urich, Missy Yager, Wesley Jonat...   \n",
       "\n",
       "                                             description  avg_vote  votes  \\\n",
       "1111   A young woman jeopardizes the relationship wit...       6.2   1336   \n",
       "51844  A story about a female breakdancer overcoming ...       3.9    618   \n",
       "\n",
       "      budget usa_gross_income worlwide_gross_income  metascore  \\\n",
       "1111     NaN              NaN                   NaN        NaN   \n",
       "51844    NaN              NaN                   NaN        NaN   \n",
       "\n",
       "       reviews_from_users  reviews_from_critics  \n",
       "1111                 23.0                   2.0  \n",
       "51844                10.0                   7.0  "
      ]
     },
     "execution_count": 73,
     "metadata": {},
     "output_type": "execute_result"
    }
   ],
   "source": [
    "mv.rename(columns={'date_published': 'year'}, inplace=True)\n",
    "mv.sample(2)"
   ]
  },
  {
   "cell_type": "markdown",
   "metadata": {},
   "source": [
    "### Column: [genre]"
   ]
  },
  {
   "cell_type": "code",
   "execution_count": 76,
   "metadata": {},
   "outputs": [
    {
     "data": {
      "text/plain": [
       "<bound method Series.unique of 0                          Romance\n",
       "1          Biography, Crime, Drama\n",
       "2                            Drama\n",
       "3                   Drama, History\n",
       "4        Adventure, Drama, Fantasy\n",
       "                   ...            \n",
       "85850                       Comedy\n",
       "85851                Comedy, Drama\n",
       "85852                        Drama\n",
       "85853                Drama, Family\n",
       "85854                        Drama\n",
       "Name: genre, Length: 85855, dtype: object>"
      ]
     },
     "execution_count": 76,
     "metadata": {},
     "output_type": "execute_result"
    }
   ],
   "source": [
    "mv['genre'].unique"
   ]
  },
  {
   "cell_type": "markdown",
   "metadata": {},
   "source": []
  }
 ],
 "metadata": {
  "kernelspec": {
   "display_name": "Python 3",
   "language": "python",
   "name": "python3"
  },
  "language_info": {
   "codemirror_mode": {
    "name": "ipython",
    "version": 3
   },
   "file_extension": ".py",
   "mimetype": "text/x-python",
   "name": "python",
   "nbconvert_exporter": "python",
   "pygments_lexer": "ipython3",
   "version": "3.12.1"
  }
 },
 "nbformat": 4,
 "nbformat_minor": 2
}
