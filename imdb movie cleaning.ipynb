{
 "cells": [
  {
   "cell_type": "markdown",
   "metadata": {},
   "source": [
    "# IMDB Movie Dataset Cleaning"
   ]
  },
  {
   "cell_type": "markdown",
   "metadata": {},
   "source": [
    "### Import Pandas Library"
   ]
  },
  {
   "cell_type": "code",
   "execution_count": 50,
   "metadata": {},
   "outputs": [],
   "source": [
    "import pandas as pd"
   ]
  },
  {
   "cell_type": "markdown",
   "metadata": {},
   "source": [
    "### Read the data file"
   ]
  },
  {
   "cell_type": "code",
   "execution_count": 51,
   "metadata": {},
   "outputs": [
    {
     "data": {
      "text/html": [
       "<div>\n",
       "<style scoped>\n",
       "    .dataframe tbody tr th:only-of-type {\n",
       "        vertical-align: middle;\n",
       "    }\n",
       "\n",
       "    .dataframe tbody tr th {\n",
       "        vertical-align: top;\n",
       "    }\n",
       "\n",
       "    .dataframe thead th {\n",
       "        text-align: right;\n",
       "    }\n",
       "</style>\n",
       "<table border=\"1\" class=\"dataframe\">\n",
       "  <thead>\n",
       "    <tr style=\"text-align: right;\">\n",
       "      <th></th>\n",
       "      <th>imdb_title_id</th>\n",
       "      <th>title</th>\n",
       "      <th>original_title</th>\n",
       "      <th>year</th>\n",
       "      <th>date_published</th>\n",
       "      <th>genre</th>\n",
       "      <th>duration</th>\n",
       "      <th>country</th>\n",
       "      <th>language</th>\n",
       "      <th>director</th>\n",
       "      <th>writer</th>\n",
       "      <th>production_company</th>\n",
       "      <th>actors</th>\n",
       "      <th>description</th>\n",
       "      <th>avg_vote</th>\n",
       "      <th>votes</th>\n",
       "      <th>budget</th>\n",
       "      <th>usa_gross_income</th>\n",
       "      <th>worlwide_gross_income</th>\n",
       "      <th>metascore</th>\n",
       "      <th>reviews_from_users</th>\n",
       "      <th>reviews_from_critics</th>\n",
       "    </tr>\n",
       "  </thead>\n",
       "  <tbody>\n",
       "    <tr>\n",
       "      <th>64804</th>\n",
       "      <td>tt2131532</td>\n",
       "      <td>Hidden: Senza via di scampo</td>\n",
       "      <td>Hidden</td>\n",
       "      <td>2015</td>\n",
       "      <td>2015-09-15</td>\n",
       "      <td>Horror, Sci-Fi, Thriller</td>\n",
       "      <td>84</td>\n",
       "      <td>USA</td>\n",
       "      <td>English</td>\n",
       "      <td>Matt Duffer, Ross Duffer</td>\n",
       "      <td>Matt Duffer, Ross Duffer</td>\n",
       "      <td>Primal Pictures (II)</td>\n",
       "      <td>Alexander Skarsgård, Andrea Riseborough, Emily...</td>\n",
       "      <td>A family takes refuge in a bomb shelter to avo...</td>\n",
       "      <td>6.4</td>\n",
       "      <td>19176</td>\n",
       "      <td>NaN</td>\n",
       "      <td>NaN</td>\n",
       "      <td>NaN</td>\n",
       "      <td>NaN</td>\n",
       "      <td>111.0</td>\n",
       "      <td>29.0</td>\n",
       "    </tr>\n",
       "    <tr>\n",
       "      <th>80615</th>\n",
       "      <td>tt6466058</td>\n",
       "      <td>Ask for Jane</td>\n",
       "      <td>Ask for Jane</td>\n",
       "      <td>2018</td>\n",
       "      <td>2019-05-17</td>\n",
       "      <td>Drama, History</td>\n",
       "      <td>108</td>\n",
       "      <td>USA</td>\n",
       "      <td>NaN</td>\n",
       "      <td>Rachel Carey</td>\n",
       "      <td>Rachel Carey, Cait Cortelyou</td>\n",
       "      <td>Carolines Entertainment</td>\n",
       "      <td>Cody Horn, Cait Cortelyou, Sarah Steele, Sarah...</td>\n",
       "      <td>A group of determined Midwestern women begin p...</td>\n",
       "      <td>5.4</td>\n",
       "      <td>165</td>\n",
       "      <td>NaN</td>\n",
       "      <td>NaN</td>\n",
       "      <td>NaN</td>\n",
       "      <td>NaN</td>\n",
       "      <td>11.0</td>\n",
       "      <td>2.0</td>\n",
       "    </tr>\n",
       "  </tbody>\n",
       "</table>\n",
       "</div>"
      ],
      "text/plain": [
       "      imdb_title_id                        title original_title  year  \\\n",
       "64804     tt2131532  Hidden: Senza via di scampo         Hidden  2015   \n",
       "80615     tt6466058                 Ask for Jane   Ask for Jane  2018   \n",
       "\n",
       "      date_published                     genre  duration country language  \\\n",
       "64804     2015-09-15  Horror, Sci-Fi, Thriller        84     USA  English   \n",
       "80615     2019-05-17            Drama, History       108     USA      NaN   \n",
       "\n",
       "                       director                        writer  \\\n",
       "64804  Matt Duffer, Ross Duffer      Matt Duffer, Ross Duffer   \n",
       "80615              Rachel Carey  Rachel Carey, Cait Cortelyou   \n",
       "\n",
       "            production_company  \\\n",
       "64804     Primal Pictures (II)   \n",
       "80615  Carolines Entertainment   \n",
       "\n",
       "                                                  actors  \\\n",
       "64804  Alexander Skarsgård, Andrea Riseborough, Emily...   \n",
       "80615  Cody Horn, Cait Cortelyou, Sarah Steele, Sarah...   \n",
       "\n",
       "                                             description  avg_vote  votes  \\\n",
       "64804  A family takes refuge in a bomb shelter to avo...       6.4  19176   \n",
       "80615  A group of determined Midwestern women begin p...       5.4    165   \n",
       "\n",
       "      budget usa_gross_income worlwide_gross_income  metascore  \\\n",
       "64804    NaN              NaN                   NaN        NaN   \n",
       "80615    NaN              NaN                   NaN        NaN   \n",
       "\n",
       "       reviews_from_users  reviews_from_critics  \n",
       "64804               111.0                  29.0  \n",
       "80615                11.0                   2.0  "
      ]
     },
     "execution_count": 51,
     "metadata": {},
     "output_type": "execute_result"
    }
   ],
   "source": [
    "df = pd.read_csv(r\"datasource/imdb_movies.csv\", encoding='unicode_escape', low_memory=False)\n",
    "df.sample(2)"
   ]
  },
  {
   "cell_type": "markdown",
   "metadata": {},
   "source": [
    "### Set the column width to maximum to display all the columns"
   ]
  },
  {
   "cell_type": "code",
   "execution_count": 52,
   "metadata": {},
   "outputs": [
    {
     "data": {
      "text/html": [
       "<div>\n",
       "<style scoped>\n",
       "    .dataframe tbody tr th:only-of-type {\n",
       "        vertical-align: middle;\n",
       "    }\n",
       "\n",
       "    .dataframe tbody tr th {\n",
       "        vertical-align: top;\n",
       "    }\n",
       "\n",
       "    .dataframe thead th {\n",
       "        text-align: right;\n",
       "    }\n",
       "</style>\n",
       "<table border=\"1\" class=\"dataframe\">\n",
       "  <thead>\n",
       "    <tr style=\"text-align: right;\">\n",
       "      <th></th>\n",
       "      <th>imdb_title_id</th>\n",
       "      <th>title</th>\n",
       "      <th>original_title</th>\n",
       "      <th>year</th>\n",
       "      <th>date_published</th>\n",
       "      <th>genre</th>\n",
       "      <th>duration</th>\n",
       "      <th>country</th>\n",
       "      <th>language</th>\n",
       "      <th>director</th>\n",
       "      <th>writer</th>\n",
       "      <th>production_company</th>\n",
       "      <th>actors</th>\n",
       "      <th>description</th>\n",
       "      <th>avg_vote</th>\n",
       "      <th>votes</th>\n",
       "      <th>budget</th>\n",
       "      <th>usa_gross_income</th>\n",
       "      <th>worlwide_gross_income</th>\n",
       "      <th>metascore</th>\n",
       "      <th>reviews_from_users</th>\n",
       "      <th>reviews_from_critics</th>\n",
       "    </tr>\n",
       "  </thead>\n",
       "  <tbody>\n",
       "    <tr>\n",
       "      <th>0</th>\n",
       "      <td>tt0000009</td>\n",
       "      <td>Miss Jerry</td>\n",
       "      <td>Miss Jerry</td>\n",
       "      <td>1894</td>\n",
       "      <td>1894-10-09</td>\n",
       "      <td>Romance</td>\n",
       "      <td>45</td>\n",
       "      <td>USA</td>\n",
       "      <td>NaN</td>\n",
       "      <td>Alexander Black</td>\n",
       "      <td>Alexander Black</td>\n",
       "      <td>Alexander Black Photoplays</td>\n",
       "      <td>Blanche Bayliss, William Courtenay, Chauncey D...</td>\n",
       "      <td>The adventures of a female reporter in the 1890s.</td>\n",
       "      <td>5.9</td>\n",
       "      <td>154</td>\n",
       "      <td>NaN</td>\n",
       "      <td>NaN</td>\n",
       "      <td>NaN</td>\n",
       "      <td>NaN</td>\n",
       "      <td>1.0</td>\n",
       "      <td>2.0</td>\n",
       "    </tr>\n",
       "    <tr>\n",
       "      <th>1</th>\n",
       "      <td>tt0000574</td>\n",
       "      <td>The Story of the Kelly Gang</td>\n",
       "      <td>The Story of the Kelly Gang</td>\n",
       "      <td>1906</td>\n",
       "      <td>1906-12-26</td>\n",
       "      <td>Biography, Crime, Drama</td>\n",
       "      <td>70</td>\n",
       "      <td>Australia</td>\n",
       "      <td>NaN</td>\n",
       "      <td>Charles Tait</td>\n",
       "      <td>Charles Tait</td>\n",
       "      <td>J. and N. Tait</td>\n",
       "      <td>Elizabeth Tait, John Tait, Norman Campbell, Be...</td>\n",
       "      <td>True story of notorious Australian outlaw Ned ...</td>\n",
       "      <td>6.1</td>\n",
       "      <td>589</td>\n",
       "      <td>$ 2250</td>\n",
       "      <td>NaN</td>\n",
       "      <td>NaN</td>\n",
       "      <td>NaN</td>\n",
       "      <td>7.0</td>\n",
       "      <td>7.0</td>\n",
       "    </tr>\n",
       "  </tbody>\n",
       "</table>\n",
       "</div>"
      ],
      "text/plain": [
       "  imdb_title_id                        title               original_title  \\\n",
       "0     tt0000009                   Miss Jerry                   Miss Jerry   \n",
       "1     tt0000574  The Story of the Kelly Gang  The Story of the Kelly Gang   \n",
       "\n",
       "   year date_published                    genre  duration    country language  \\\n",
       "0  1894     1894-10-09                  Romance        45        USA      NaN   \n",
       "1  1906     1906-12-26  Biography, Crime, Drama        70  Australia      NaN   \n",
       "\n",
       "          director           writer          production_company  \\\n",
       "0  Alexander Black  Alexander Black  Alexander Black Photoplays   \n",
       "1     Charles Tait     Charles Tait              J. and N. Tait   \n",
       "\n",
       "                                              actors  \\\n",
       "0  Blanche Bayliss, William Courtenay, Chauncey D...   \n",
       "1  Elizabeth Tait, John Tait, Norman Campbell, Be...   \n",
       "\n",
       "                                         description  avg_vote  votes  budget  \\\n",
       "0  The adventures of a female reporter in the 1890s.       5.9    154     NaN   \n",
       "1  True story of notorious Australian outlaw Ned ...       6.1    589  $ 2250   \n",
       "\n",
       "  usa_gross_income worlwide_gross_income  metascore  reviews_from_users  \\\n",
       "0              NaN                   NaN        NaN                 1.0   \n",
       "1              NaN                   NaN        NaN                 7.0   \n",
       "\n",
       "   reviews_from_critics  \n",
       "0                   2.0  \n",
       "1                   7.0  "
      ]
     },
     "execution_count": 52,
     "metadata": {},
     "output_type": "execute_result"
    }
   ],
   "source": [
    "# Display all the columns and rows\n",
    "pd.set_option('display.max_rows', None)\n",
    "pd.set_option('display.max_columns',None)\n",
    "df.head(2)"
   ]
  },
  {
   "cell_type": "markdown",
   "metadata": {},
   "source": [
    "### Analyze the dataset\n",
    "- Check the data types\n",
    "- Check the number of records and number of columns"
   ]
  },
  {
   "cell_type": "code",
   "execution_count": 53,
   "metadata": {},
   "outputs": [
    {
     "name": "stdout",
     "output_type": "stream",
     "text": [
      "Total Rows present are : 85855, and total Columns are : 22\n"
     ]
    }
   ],
   "source": [
    "rows, columns = df.shape\n",
    "print(f\"Total Rows present are : {rows}, and total Columns are : {columns}\")"
   ]
  },
  {
   "cell_type": "code",
   "execution_count": 54,
   "metadata": {},
   "outputs": [
    {
     "name": "stdout",
     "output_type": "stream",
     "text": [
      "<class 'pandas.core.frame.DataFrame'>\n",
      "RangeIndex: 85855 entries, 0 to 85854\n",
      "Data columns (total 22 columns):\n",
      " #   Column                 Non-Null Count  Dtype  \n",
      "---  ------                 --------------  -----  \n",
      " 0   imdb_title_id          85855 non-null  object \n",
      " 1   title                  85855 non-null  object \n",
      " 2   original_title         85855 non-null  object \n",
      " 3   year                   85855 non-null  object \n",
      " 4   date_published         85855 non-null  object \n",
      " 5   genre                  85855 non-null  object \n",
      " 6   duration               85855 non-null  int64  \n",
      " 7   country                85791 non-null  object \n",
      " 8   language               84954 non-null  object \n",
      " 9   director               85768 non-null  object \n",
      " 10  writer                 84283 non-null  object \n",
      " 11  production_company     81400 non-null  object \n",
      " 12  actors                 85786 non-null  object \n",
      " 13  description            83740 non-null  object \n",
      " 14  avg_vote               85855 non-null  float64\n",
      " 15  votes                  85855 non-null  int64  \n",
      " 16  budget                 23710 non-null  object \n",
      " 17  usa_gross_income       15326 non-null  object \n",
      " 18  worlwide_gross_income  31016 non-null  object \n",
      " 19  metascore              13305 non-null  float64\n",
      " 20  reviews_from_users     78258 non-null  float64\n",
      " 21  reviews_from_critics   74058 non-null  float64\n",
      "dtypes: float64(4), int64(2), object(16)\n",
      "memory usage: 14.4+ MB\n"
     ]
    }
   ],
   "source": [
    "df.info()"
   ]
  },
  {
   "cell_type": "markdown",
   "metadata": {},
   "source": [
    "# Data Cleaning Process"
   ]
  },
  {
   "cell_type": "markdown",
   "metadata": {},
   "source": [
    "### Creating copy of the data"
   ]
  },
  {
   "cell_type": "code",
   "execution_count": 55,
   "metadata": {},
   "outputs": [
    {
     "data": {
      "text/html": [
       "<div>\n",
       "<style scoped>\n",
       "    .dataframe tbody tr th:only-of-type {\n",
       "        vertical-align: middle;\n",
       "    }\n",
       "\n",
       "    .dataframe tbody tr th {\n",
       "        vertical-align: top;\n",
       "    }\n",
       "\n",
       "    .dataframe thead th {\n",
       "        text-align: right;\n",
       "    }\n",
       "</style>\n",
       "<table border=\"1\" class=\"dataframe\">\n",
       "  <thead>\n",
       "    <tr style=\"text-align: right;\">\n",
       "      <th></th>\n",
       "      <th>imdb_title_id</th>\n",
       "      <th>title</th>\n",
       "      <th>original_title</th>\n",
       "      <th>year</th>\n",
       "      <th>date_published</th>\n",
       "      <th>genre</th>\n",
       "      <th>duration</th>\n",
       "      <th>country</th>\n",
       "      <th>language</th>\n",
       "      <th>director</th>\n",
       "      <th>writer</th>\n",
       "      <th>production_company</th>\n",
       "      <th>actors</th>\n",
       "      <th>description</th>\n",
       "      <th>avg_vote</th>\n",
       "      <th>votes</th>\n",
       "      <th>budget</th>\n",
       "      <th>usa_gross_income</th>\n",
       "      <th>worlwide_gross_income</th>\n",
       "      <th>metascore</th>\n",
       "      <th>reviews_from_users</th>\n",
       "      <th>reviews_from_critics</th>\n",
       "    </tr>\n",
       "  </thead>\n",
       "  <tbody>\n",
       "    <tr>\n",
       "      <th>75947</th>\n",
       "      <td>tt4849176</td>\n",
       "      <td>Sneekweek</td>\n",
       "      <td>Sneekweek</td>\n",
       "      <td>2016</td>\n",
       "      <td>2016-01-21</td>\n",
       "      <td>Comedy, Thriller</td>\n",
       "      <td>108</td>\n",
       "      <td>Netherlands</td>\n",
       "      <td>Dutch</td>\n",
       "      <td>Martijn Heijne</td>\n",
       "      <td>Alex van Galen</td>\n",
       "      <td>Farmhouse Film &amp; TV</td>\n",
       "      <td>Carolien Spoor, Jelle de Jong, Jord Knotter, H...</td>\n",
       "      <td>Six friends party for a week during the \"Sneek...</td>\n",
       "      <td>4.7</td>\n",
       "      <td>1084</td>\n",
       "      <td>NaN</td>\n",
       "      <td>NaN</td>\n",
       "      <td>$ 597149</td>\n",
       "      <td>NaN</td>\n",
       "      <td>4.0</td>\n",
       "      <td>19.0</td>\n",
       "    </tr>\n",
       "    <tr>\n",
       "      <th>82955</th>\n",
       "      <td>tt7635036</td>\n",
       "      <td>Love Immortal</td>\n",
       "      <td>Love Immortal</td>\n",
       "      <td>2019</td>\n",
       "      <td>2019-07-19</td>\n",
       "      <td>Horror</td>\n",
       "      <td>104</td>\n",
       "      <td>USA</td>\n",
       "      <td>NaN</td>\n",
       "      <td>Robert Joseph Butler</td>\n",
       "      <td>Robert Joseph Butler, Alexis Irvine</td>\n",
       "      <td>Nu Wave Films</td>\n",
       "      <td>Aphrodite Nikolovski, Richard Tyson, Jordan Tr...</td>\n",
       "      <td>Follows three generations of vampire women tha...</td>\n",
       "      <td>7.4</td>\n",
       "      <td>111</td>\n",
       "      <td>NaN</td>\n",
       "      <td>NaN</td>\n",
       "      <td>NaN</td>\n",
       "      <td>NaN</td>\n",
       "      <td>5.0</td>\n",
       "      <td>NaN</td>\n",
       "    </tr>\n",
       "  </tbody>\n",
       "</table>\n",
       "</div>"
      ],
      "text/plain": [
       "      imdb_title_id          title original_title  year date_published  \\\n",
       "75947     tt4849176      Sneekweek      Sneekweek  2016     2016-01-21   \n",
       "82955     tt7635036  Love Immortal  Love Immortal  2019     2019-07-19   \n",
       "\n",
       "                  genre  duration      country language              director  \\\n",
       "75947  Comedy, Thriller       108  Netherlands    Dutch        Martijn Heijne   \n",
       "82955            Horror       104          USA      NaN  Robert Joseph Butler   \n",
       "\n",
       "                                    writer   production_company  \\\n",
       "75947                       Alex van Galen  Farmhouse Film & TV   \n",
       "82955  Robert Joseph Butler, Alexis Irvine        Nu Wave Films   \n",
       "\n",
       "                                                  actors  \\\n",
       "75947  Carolien Spoor, Jelle de Jong, Jord Knotter, H...   \n",
       "82955  Aphrodite Nikolovski, Richard Tyson, Jordan Tr...   \n",
       "\n",
       "                                             description  avg_vote  votes  \\\n",
       "75947  Six friends party for a week during the \"Sneek...       4.7   1084   \n",
       "82955  Follows three generations of vampire women tha...       7.4    111   \n",
       "\n",
       "      budget usa_gross_income worlwide_gross_income  metascore  \\\n",
       "75947    NaN              NaN              $ 597149        NaN   \n",
       "82955    NaN              NaN                   NaN        NaN   \n",
       "\n",
       "       reviews_from_users  reviews_from_critics  \n",
       "75947                 4.0                  19.0  \n",
       "82955                 5.0                   NaN  "
      ]
     },
     "execution_count": 55,
     "metadata": {},
     "output_type": "execute_result"
    }
   ],
   "source": [
    "mv = df.copy()\n",
    "mv.sample(2)"
   ]
  },
  {
   "cell_type": "markdown",
   "metadata": {},
   "source": [
    "### Column: [imdb_title_id]"
   ]
  },
  {
   "cell_type": "code",
   "execution_count": 56,
   "metadata": {},
   "outputs": [
    {
     "data": {
      "text/plain": [
       "array(['tt0000009', 'tt0000574', 'tt0001892', ..., 'tt9911774',\n",
       "       'tt9914286', 'tt9914942'], dtype=object)"
      ]
     },
     "execution_count": 56,
     "metadata": {},
     "output_type": "execute_result"
    }
   ],
   "source": [
    "mv['imdb_title_id'].unique()"
   ]
  },
  {
   "cell_type": "markdown",
   "metadata": {},
   "source": [
    "- We can see that all the values are prefixed with 'tt' which can be removed \n",
    "- Also the column name can be renamed to 'id'"
   ]
  },
  {
   "cell_type": "code",
   "execution_count": 57,
   "metadata": {},
   "outputs": [
    {
     "data": {
      "text/plain": [
       "40104    0283383\n",
       "73694    4087850\n",
       "82354    7335186\n",
       "61585    1748122\n",
       "26139    0102565\n",
       "62438    1833676\n",
       "67637    2518294\n",
       "26410    0103763\n",
       "65419    2210569\n",
       "14654    0066245\n",
       "Name: imdb_title_id, dtype: object"
      ]
     },
     "execution_count": 57,
     "metadata": {},
     "output_type": "execute_result"
    }
   ],
   "source": [
    "# Strip the 'tt' from the imdb_title_id\n",
    "mv['imdb_title_id'] = mv['imdb_title_id'].str.strip('tt')\n",
    "mv['imdb_title_id'].sample(10)"
   ]
  },
  {
   "cell_type": "markdown",
   "metadata": {},
   "source": [
    "#### Rename the column to 'imdb_title_id' to 'id'"
   ]
  },
  {
   "cell_type": "code",
   "execution_count": 58,
   "metadata": {},
   "outputs": [
    {
     "data": {
      "text/html": [
       "<div>\n",
       "<style scoped>\n",
       "    .dataframe tbody tr th:only-of-type {\n",
       "        vertical-align: middle;\n",
       "    }\n",
       "\n",
       "    .dataframe tbody tr th {\n",
       "        vertical-align: top;\n",
       "    }\n",
       "\n",
       "    .dataframe thead th {\n",
       "        text-align: right;\n",
       "    }\n",
       "</style>\n",
       "<table border=\"1\" class=\"dataframe\">\n",
       "  <thead>\n",
       "    <tr style=\"text-align: right;\">\n",
       "      <th></th>\n",
       "      <th>id</th>\n",
       "      <th>title</th>\n",
       "      <th>original_title</th>\n",
       "      <th>year</th>\n",
       "      <th>date_published</th>\n",
       "      <th>genre</th>\n",
       "      <th>duration</th>\n",
       "      <th>country</th>\n",
       "      <th>language</th>\n",
       "      <th>director</th>\n",
       "      <th>writer</th>\n",
       "      <th>production_company</th>\n",
       "      <th>actors</th>\n",
       "      <th>description</th>\n",
       "      <th>avg_vote</th>\n",
       "      <th>votes</th>\n",
       "      <th>budget</th>\n",
       "      <th>usa_gross_income</th>\n",
       "      <th>worlwide_gross_income</th>\n",
       "      <th>metascore</th>\n",
       "      <th>reviews_from_users</th>\n",
       "      <th>reviews_from_critics</th>\n",
       "    </tr>\n",
       "  </thead>\n",
       "  <tbody>\n",
       "    <tr>\n",
       "      <th>67807</th>\n",
       "      <td>2557478</td>\n",
       "      <td>Pacific Rim: La rivolta</td>\n",
       "      <td>Pacific Rim: Uprising</td>\n",
       "      <td>2018</td>\n",
       "      <td>2018-03-22</td>\n",
       "      <td>Action, Adventure, Sci-Fi</td>\n",
       "      <td>111</td>\n",
       "      <td>UK, China, Japan, USA</td>\n",
       "      <td>English, Mandarin, Russian</td>\n",
       "      <td>Steven S. DeKnight</td>\n",
       "      <td>Steven S. DeKnight, Emily Carmichael</td>\n",
       "      <td>Legendary Entertainment</td>\n",
       "      <td>John Boyega, Scott Eastwood, Cailee Spaeny, Bu...</td>\n",
       "      <td>Jake Pentecost, son of Stacker Pentecost, reun...</td>\n",
       "      <td>5.6</td>\n",
       "      <td>102915</td>\n",
       "      <td>$ 150000000</td>\n",
       "      <td>$ 59874525</td>\n",
       "      <td>$ 290930148</td>\n",
       "      <td>44.0</td>\n",
       "      <td>741.0</td>\n",
       "      <td>304.0</td>\n",
       "    </tr>\n",
       "    <tr>\n",
       "      <th>33680</th>\n",
       "      <td>0160644</td>\n",
       "      <td>Passion of Mind</td>\n",
       "      <td>Passion of Mind</td>\n",
       "      <td>2000</td>\n",
       "      <td>2000-01-07</td>\n",
       "      <td>Drama, Mystery, Romance</td>\n",
       "      <td>105</td>\n",
       "      <td>USA</td>\n",
       "      <td>English, French</td>\n",
       "      <td>Alain Berliner</td>\n",
       "      <td>Ronald Bass, David Field</td>\n",
       "      <td>Lakeshore Entertainment</td>\n",
       "      <td>Eloise Eonnet, Hadrian Dagannaud-Brouard, Chay...</td>\n",
       "      <td>A psychological romantic thriller where fantas...</td>\n",
       "      <td>5.5</td>\n",
       "      <td>3127</td>\n",
       "      <td>NaN</td>\n",
       "      <td>$ 769272</td>\n",
       "      <td>$ 769272</td>\n",
       "      <td>28.0</td>\n",
       "      <td>42.0</td>\n",
       "      <td>50.0</td>\n",
       "    </tr>\n",
       "  </tbody>\n",
       "</table>\n",
       "</div>"
      ],
      "text/plain": [
       "            id                    title         original_title  year  \\\n",
       "67807  2557478  Pacific Rim: La rivolta  Pacific Rim: Uprising  2018   \n",
       "33680  0160644          Passion of Mind        Passion of Mind  2000   \n",
       "\n",
       "      date_published                      genre  duration  \\\n",
       "67807     2018-03-22  Action, Adventure, Sci-Fi       111   \n",
       "33680     2000-01-07    Drama, Mystery, Romance       105   \n",
       "\n",
       "                     country                    language            director  \\\n",
       "67807  UK, China, Japan, USA  English, Mandarin, Russian  Steven S. DeKnight   \n",
       "33680                    USA             English, French      Alain Berliner   \n",
       "\n",
       "                                     writer       production_company  \\\n",
       "67807  Steven S. DeKnight, Emily Carmichael  Legendary Entertainment   \n",
       "33680              Ronald Bass, David Field  Lakeshore Entertainment   \n",
       "\n",
       "                                                  actors  \\\n",
       "67807  John Boyega, Scott Eastwood, Cailee Spaeny, Bu...   \n",
       "33680  Eloise Eonnet, Hadrian Dagannaud-Brouard, Chay...   \n",
       "\n",
       "                                             description  avg_vote   votes  \\\n",
       "67807  Jake Pentecost, son of Stacker Pentecost, reun...       5.6  102915   \n",
       "33680  A psychological romantic thriller where fantas...       5.5    3127   \n",
       "\n",
       "            budget usa_gross_income worlwide_gross_income  metascore  \\\n",
       "67807  $ 150000000       $ 59874525           $ 290930148       44.0   \n",
       "33680          NaN         $ 769272              $ 769272       28.0   \n",
       "\n",
       "       reviews_from_users  reviews_from_critics  \n",
       "67807               741.0                 304.0  \n",
       "33680                42.0                  50.0  "
      ]
     },
     "execution_count": 58,
     "metadata": {},
     "output_type": "execute_result"
    }
   ],
   "source": [
    "# Rename column 'imdb_title_id' to 'id'\n",
    "mv.rename(columns={'imdb_title_id':'id'}, inplace=True)\n",
    "mv.sample(2)"
   ]
  },
  {
   "cell_type": "markdown",
   "metadata": {},
   "source": [
    "#### Convert the column 'imdb_title_id' to integer type"
   ]
  },
  {
   "cell_type": "code",
   "execution_count": 59,
   "metadata": {},
   "outputs": [
    {
     "name": "stdout",
     "output_type": "stream",
     "text": [
      "<class 'pandas.core.series.Series'>\n",
      "RangeIndex: 85855 entries, 0 to 85854\n",
      "Series name: id\n",
      "Non-Null Count  Dtype\n",
      "--------------  -----\n",
      "85855 non-null  int64\n",
      "dtypes: int64(1)\n",
      "memory usage: 670.9 KB\n"
     ]
    }
   ],
   "source": [
    "# Convert the column 'imdb_title_id' to integer type\n",
    "mv['id'] = mv['id'].astype(int)\n",
    "mv['id'].info()"
   ]
  },
  {
   "cell_type": "markdown",
   "metadata": {},
   "source": [
    "### Column: [title] and [original_title]"
   ]
  },
  {
   "cell_type": "code",
   "execution_count": 60,
   "metadata": {},
   "outputs": [
    {
     "data": {
      "text/plain": [
       "array(['Miss Jerry', 'The Story of the Kelly Gang', 'Den sorte drøm', ...,\n",
       "       'Padmavyuhathile Abhimanyu', 'Sokagin Çocuklari',\n",
       "       'La vida sense la Sara Amat'], dtype=object)"
      ]
     },
     "execution_count": 60,
     "metadata": {},
     "output_type": "execute_result"
    }
   ],
   "source": [
    "# Check the unique values\n",
    "df['title'].unique()"
   ]
  },
  {
   "cell_type": "markdown",
   "metadata": {},
   "source": [
    "- The 'title' column does not has any data anomaly and does not require cleaning"
   ]
  },
  {
   "cell_type": "code",
   "execution_count": 61,
   "metadata": {},
   "outputs": [
    {
     "data": {
      "text/plain": [
       "array(['Miss Jerry', 'The Story of the Kelly Gang', 'Den sorte drøm', ...,\n",
       "       'Padmavyuhathile Abhimanyu', 'Sokagin Çocuklari',\n",
       "       'La vida sense la Sara Amat'], dtype=object)"
      ]
     },
     "execution_count": 61,
     "metadata": {},
     "output_type": "execute_result"
    }
   ],
   "source": [
    "# Check the unique values in 'original_title'\n",
    "df['original_title'].unique()"
   ]
  },
  {
   "cell_type": "markdown",
   "metadata": {},
   "source": [
    "- Both the columns are same and the column 'title' can be dropped"
   ]
  },
  {
   "cell_type": "markdown",
   "metadata": {},
   "source": [
    "#### Drop the column 'title'"
   ]
  },
  {
   "cell_type": "code",
   "execution_count": 62,
   "metadata": {},
   "outputs": [],
   "source": [
    "# Drop the column title\n",
    "mv.drop(columns=['title'],inplace=True)"
   ]
  },
  {
   "cell_type": "markdown",
   "metadata": {},
   "source": [
    "#### Rename the column 'original_title' to 'title'"
   ]
  },
  {
   "cell_type": "code",
   "execution_count": 63,
   "metadata": {},
   "outputs": [
    {
     "data": {
      "text/html": [
       "<div>\n",
       "<style scoped>\n",
       "    .dataframe tbody tr th:only-of-type {\n",
       "        vertical-align: middle;\n",
       "    }\n",
       "\n",
       "    .dataframe tbody tr th {\n",
       "        vertical-align: top;\n",
       "    }\n",
       "\n",
       "    .dataframe thead th {\n",
       "        text-align: right;\n",
       "    }\n",
       "</style>\n",
       "<table border=\"1\" class=\"dataframe\">\n",
       "  <thead>\n",
       "    <tr style=\"text-align: right;\">\n",
       "      <th></th>\n",
       "      <th>id</th>\n",
       "      <th>title</th>\n",
       "      <th>year</th>\n",
       "      <th>date_published</th>\n",
       "      <th>genre</th>\n",
       "      <th>duration</th>\n",
       "      <th>country</th>\n",
       "      <th>language</th>\n",
       "      <th>director</th>\n",
       "      <th>writer</th>\n",
       "      <th>production_company</th>\n",
       "      <th>actors</th>\n",
       "      <th>description</th>\n",
       "      <th>avg_vote</th>\n",
       "      <th>votes</th>\n",
       "      <th>budget</th>\n",
       "      <th>usa_gross_income</th>\n",
       "      <th>worlwide_gross_income</th>\n",
       "      <th>metascore</th>\n",
       "      <th>reviews_from_users</th>\n",
       "      <th>reviews_from_critics</th>\n",
       "    </tr>\n",
       "  </thead>\n",
       "  <tbody>\n",
       "    <tr>\n",
       "      <th>82187</th>\n",
       "      <td>7262206</td>\n",
       "      <td>Karuppan</td>\n",
       "      <td>2017</td>\n",
       "      <td>2017-09-29</td>\n",
       "      <td>Action, Thriller</td>\n",
       "      <td>144</td>\n",
       "      <td>India</td>\n",
       "      <td>Tamil</td>\n",
       "      <td>R. Panneerselvam, Sami Rajalingam</td>\n",
       "      <td>R. Panneerselvam</td>\n",
       "      <td>Shri Sai Raam Creations</td>\n",
       "      <td>Kishore Kumar G., Kaveri, Sharath Lohitashwa, ...</td>\n",
       "      <td>Kathir (Bobby Simha) has an interest for Anbu ...</td>\n",
       "      <td>5.6</td>\n",
       "      <td>533</td>\n",
       "      <td>NaN</td>\n",
       "      <td>NaN</td>\n",
       "      <td>$ 66101</td>\n",
       "      <td>NaN</td>\n",
       "      <td>6.0</td>\n",
       "      <td>5.0</td>\n",
       "    </tr>\n",
       "    <tr>\n",
       "      <th>79949</th>\n",
       "      <td>6206564</td>\n",
       "      <td>Trapped</td>\n",
       "      <td>2016</td>\n",
       "      <td>2017-03-17</td>\n",
       "      <td>Drama, Thriller</td>\n",
       "      <td>105</td>\n",
       "      <td>India</td>\n",
       "      <td>Hindi</td>\n",
       "      <td>Vikramaditya Motwane</td>\n",
       "      <td>Amit Joshi, Hardik Mehta</td>\n",
       "      <td>Phantom Films</td>\n",
       "      <td>Rajkummar Rao, Geetanjali Thapa, Shiladitya Se...</td>\n",
       "      <td>A man struggles to survive after he unintentio...</td>\n",
       "      <td>7.5</td>\n",
       "      <td>9889</td>\n",
       "      <td>NaN</td>\n",
       "      <td>NaN</td>\n",
       "      <td>$ 38349</td>\n",
       "      <td>NaN</td>\n",
       "      <td>73.0</td>\n",
       "      <td>24.0</td>\n",
       "    </tr>\n",
       "  </tbody>\n",
       "</table>\n",
       "</div>"
      ],
      "text/plain": [
       "            id     title  year date_published             genre  duration  \\\n",
       "82187  7262206  Karuppan  2017     2017-09-29  Action, Thriller       144   \n",
       "79949  6206564   Trapped  2016     2017-03-17   Drama, Thriller       105   \n",
       "\n",
       "      country language                           director  \\\n",
       "82187   India    Tamil  R. Panneerselvam, Sami Rajalingam   \n",
       "79949   India    Hindi               Vikramaditya Motwane   \n",
       "\n",
       "                         writer       production_company  \\\n",
       "82187          R. Panneerselvam  Shri Sai Raam Creations   \n",
       "79949  Amit Joshi, Hardik Mehta            Phantom Films   \n",
       "\n",
       "                                                  actors  \\\n",
       "82187  Kishore Kumar G., Kaveri, Sharath Lohitashwa, ...   \n",
       "79949  Rajkummar Rao, Geetanjali Thapa, Shiladitya Se...   \n",
       "\n",
       "                                             description  avg_vote  votes  \\\n",
       "82187  Kathir (Bobby Simha) has an interest for Anbu ...       5.6    533   \n",
       "79949  A man struggles to survive after he unintentio...       7.5   9889   \n",
       "\n",
       "      budget usa_gross_income worlwide_gross_income  metascore  \\\n",
       "82187    NaN              NaN               $ 66101        NaN   \n",
       "79949    NaN              NaN               $ 38349        NaN   \n",
       "\n",
       "       reviews_from_users  reviews_from_critics  \n",
       "82187                 6.0                   5.0  \n",
       "79949                73.0                  24.0  "
      ]
     },
     "execution_count": 63,
     "metadata": {},
     "output_type": "execute_result"
    }
   ],
   "source": [
    "# Rename the column 'original_title' to 'title' \n",
    "mv.rename(columns={'original_title':'title'}, inplace=True)\n",
    "mv.sample(2)"
   ]
  },
  {
   "cell_type": "markdown",
   "metadata": {},
   "source": [
    "### Column: [year] and [date_published]\n",
    "- We can drop the 'year' column\n",
    "- from the 'date_published' column we will extract the year and further rename the column to 'year'"
   ]
  },
  {
   "cell_type": "code",
   "execution_count": 64,
   "metadata": {},
   "outputs": [],
   "source": [
    "# Drop the column 'year'\n",
    "mv.drop(columns=['year'],inplace=True)"
   ]
  },
  {
   "cell_type": "markdown",
   "metadata": {},
   "source": [
    "#### Extract year from the column 'date_published'"
   ]
  },
  {
   "cell_type": "code",
   "execution_count": 65,
   "metadata": {},
   "outputs": [],
   "source": [
    "# Convert the column 'published_year' to date_time\n",
    "mv['date_published'] = mv['date_published'].str[:4]"
   ]
  },
  {
   "cell_type": "code",
   "execution_count": 66,
   "metadata": {},
   "outputs": [
    {
     "data": {
      "text/plain": [
       "49884    2006\n",
       "19722    1980\n",
       "28656    1996\n",
       "21448    1984\n",
       "49923    2007\n",
       "Name: date_published, dtype: object"
      ]
     },
     "execution_count": 66,
     "metadata": {},
     "output_type": "execute_result"
    }
   ],
   "source": [
    "mv['date_published'].sample(5)"
   ]
  },
  {
   "cell_type": "markdown",
   "metadata": {},
   "source": [
    "#### Rename the column 'date_published' to 'year'"
   ]
  },
  {
   "cell_type": "code",
   "execution_count": 67,
   "metadata": {},
   "outputs": [
    {
     "data": {
      "text/html": [
       "<div>\n",
       "<style scoped>\n",
       "    .dataframe tbody tr th:only-of-type {\n",
       "        vertical-align: middle;\n",
       "    }\n",
       "\n",
       "    .dataframe tbody tr th {\n",
       "        vertical-align: top;\n",
       "    }\n",
       "\n",
       "    .dataframe thead th {\n",
       "        text-align: right;\n",
       "    }\n",
       "</style>\n",
       "<table border=\"1\" class=\"dataframe\">\n",
       "  <thead>\n",
       "    <tr style=\"text-align: right;\">\n",
       "      <th></th>\n",
       "      <th>id</th>\n",
       "      <th>title</th>\n",
       "      <th>year</th>\n",
       "      <th>genre</th>\n",
       "      <th>duration</th>\n",
       "      <th>country</th>\n",
       "      <th>language</th>\n",
       "      <th>director</th>\n",
       "      <th>writer</th>\n",
       "      <th>production_company</th>\n",
       "      <th>actors</th>\n",
       "      <th>description</th>\n",
       "      <th>avg_vote</th>\n",
       "      <th>votes</th>\n",
       "      <th>budget</th>\n",
       "      <th>usa_gross_income</th>\n",
       "      <th>worlwide_gross_income</th>\n",
       "      <th>metascore</th>\n",
       "      <th>reviews_from_users</th>\n",
       "      <th>reviews_from_critics</th>\n",
       "    </tr>\n",
       "  </thead>\n",
       "  <tbody>\n",
       "    <tr>\n",
       "      <th>55697</th>\n",
       "      <td>1228999</td>\n",
       "      <td>Prathigna</td>\n",
       "      <td>1982</td>\n",
       "      <td>Comedy, Family</td>\n",
       "      <td>136</td>\n",
       "      <td>India</td>\n",
       "      <td>Telugu</td>\n",
       "      <td>Boyani Subbarao</td>\n",
       "      <td>NaN</td>\n",
       "      <td>Sree Lakshmi Prasanna Pictures</td>\n",
       "      <td>Mohan Babu, Kavitha</td>\n",
       "      <td>NaN</td>\n",
       "      <td>1.1</td>\n",
       "      <td>142</td>\n",
       "      <td>NaN</td>\n",
       "      <td>NaN</td>\n",
       "      <td>NaN</td>\n",
       "      <td>NaN</td>\n",
       "      <td>NaN</td>\n",
       "      <td>NaN</td>\n",
       "    </tr>\n",
       "    <tr>\n",
       "      <th>75205</th>\n",
       "      <td>4619908</td>\n",
       "      <td>Last Ones Out</td>\n",
       "      <td>2015</td>\n",
       "      <td>Drama, Horror, Thriller</td>\n",
       "      <td>76</td>\n",
       "      <td>South Africa</td>\n",
       "      <td>English</td>\n",
       "      <td>Howard Fyvie</td>\n",
       "      <td>Howard Fyvie</td>\n",
       "      <td>NaN</td>\n",
       "      <td>Greg Kriek, Christia Visser, Tshamano Sebe, Vu...</td>\n",
       "      <td>A sceptical American man is stranded in the mi...</td>\n",
       "      <td>4.4</td>\n",
       "      <td>199</td>\n",
       "      <td>NaN</td>\n",
       "      <td>NaN</td>\n",
       "      <td>NaN</td>\n",
       "      <td>NaN</td>\n",
       "      <td>7.0</td>\n",
       "      <td>3.0</td>\n",
       "    </tr>\n",
       "  </tbody>\n",
       "</table>\n",
       "</div>"
      ],
      "text/plain": [
       "            id          title  year                    genre  duration  \\\n",
       "55697  1228999      Prathigna  1982           Comedy, Family       136   \n",
       "75205  4619908  Last Ones Out  2015  Drama, Horror, Thriller        76   \n",
       "\n",
       "            country language         director        writer  \\\n",
       "55697         India   Telugu  Boyani Subbarao           NaN   \n",
       "75205  South Africa  English     Howard Fyvie  Howard Fyvie   \n",
       "\n",
       "                   production_company  \\\n",
       "55697  Sree Lakshmi Prasanna Pictures   \n",
       "75205                             NaN   \n",
       "\n",
       "                                                  actors  \\\n",
       "55697                                Mohan Babu, Kavitha   \n",
       "75205  Greg Kriek, Christia Visser, Tshamano Sebe, Vu...   \n",
       "\n",
       "                                             description  avg_vote  votes  \\\n",
       "55697                                                NaN       1.1    142   \n",
       "75205  A sceptical American man is stranded in the mi...       4.4    199   \n",
       "\n",
       "      budget usa_gross_income worlwide_gross_income  metascore  \\\n",
       "55697    NaN              NaN                   NaN        NaN   \n",
       "75205    NaN              NaN                   NaN        NaN   \n",
       "\n",
       "       reviews_from_users  reviews_from_critics  \n",
       "55697                 NaN                   NaN  \n",
       "75205                 7.0                   3.0  "
      ]
     },
     "execution_count": 67,
     "metadata": {},
     "output_type": "execute_result"
    }
   ],
   "source": [
    "mv.rename(columns={'date_published': 'year'}, inplace=True)\n",
    "mv.sample(2)"
   ]
  },
  {
   "cell_type": "markdown",
   "metadata": {},
   "source": [
    "### Column: [genre]"
   ]
  },
  {
   "cell_type": "code",
   "execution_count": 68,
   "metadata": {},
   "outputs": [
    {
     "data": {
      "text/plain": [
       "7229     Action, Adventure, Romance\n",
       "4076                Comedy, Mystery\n",
       "69422                        Comedy\n",
       "9454                          Drama\n",
       "72340                        Action\n",
       "1727               Adventure, Drama\n",
       "9795                   Drama, Crime\n",
       "8237        Crime, Drama, Film-Noir\n",
       "53893                         Drama\n",
       "43726                Horror, Sci-Fi\n",
       "Name: genre, dtype: object"
      ]
     },
     "execution_count": 68,
     "metadata": {},
     "output_type": "execute_result"
    }
   ],
   "source": [
    "mv['genre'].sample(10)"
   ]
  },
  {
   "cell_type": "markdown",
   "metadata": {},
   "source": [
    "#### Genre column contains multiple genres for a single movie, but it must be noted that:\n",
    "- for each movie we have a maximum of 3 genres\n",
    "- we can split these multiple genres into three columns 'Genre 1' , 'Genre 2', and 'Genre 3'\n",
    "- The splitted values can be assigned to the three columns 'Genre 1' , 'Genre 2', and 'Genre 3' respectively"
   ]
  },
  {
   "cell_type": "code",
   "execution_count": 69,
   "metadata": {},
   "outputs": [],
   "source": [
    "# create a temp df 'genre_split' to store the splitted genres\n",
    "genre_split  = mv['genre'].str.split(',', expand = True)"
   ]
  },
  {
   "cell_type": "code",
   "execution_count": 70,
   "metadata": {},
   "outputs": [],
   "source": [
    "# Rename the columns to Genre1, Genre2, Genre3\n",
    "genre_cols = ['genre1', 'genre2', 'genre3']\n",
    "genre_split.columns = genre_cols"
   ]
  },
  {
   "cell_type": "code",
   "execution_count": 71,
   "metadata": {},
   "outputs": [
    {
     "data": {
      "text/html": [
       "<div>\n",
       "<style scoped>\n",
       "    .dataframe tbody tr th:only-of-type {\n",
       "        vertical-align: middle;\n",
       "    }\n",
       "\n",
       "    .dataframe tbody tr th {\n",
       "        vertical-align: top;\n",
       "    }\n",
       "\n",
       "    .dataframe thead th {\n",
       "        text-align: right;\n",
       "    }\n",
       "</style>\n",
       "<table border=\"1\" class=\"dataframe\">\n",
       "  <thead>\n",
       "    <tr style=\"text-align: right;\">\n",
       "      <th></th>\n",
       "      <th>genre1</th>\n",
       "      <th>genre2</th>\n",
       "      <th>genre3</th>\n",
       "    </tr>\n",
       "  </thead>\n",
       "  <tbody>\n",
       "    <tr>\n",
       "      <th>62767</th>\n",
       "      <td>Comedy</td>\n",
       "      <td>None</td>\n",
       "      <td>None</td>\n",
       "    </tr>\n",
       "    <tr>\n",
       "      <th>48197</th>\n",
       "      <td>Comedy</td>\n",
       "      <td>None</td>\n",
       "      <td>None</td>\n",
       "    </tr>\n",
       "    <tr>\n",
       "      <th>67983</th>\n",
       "      <td>Comedy</td>\n",
       "      <td>Drama</td>\n",
       "      <td>Romance</td>\n",
       "    </tr>\n",
       "    <tr>\n",
       "      <th>54151</th>\n",
       "      <td>History</td>\n",
       "      <td>None</td>\n",
       "      <td>None</td>\n",
       "    </tr>\n",
       "    <tr>\n",
       "      <th>49288</th>\n",
       "      <td>Horror</td>\n",
       "      <td>Thriller</td>\n",
       "      <td>None</td>\n",
       "    </tr>\n",
       "    <tr>\n",
       "      <th>4732</th>\n",
       "      <td>Mystery</td>\n",
       "      <td>Romance</td>\n",
       "      <td>None</td>\n",
       "    </tr>\n",
       "    <tr>\n",
       "      <th>57376</th>\n",
       "      <td>Adventure</td>\n",
       "      <td>Drama</td>\n",
       "      <td>None</td>\n",
       "    </tr>\n",
       "    <tr>\n",
       "      <th>55995</th>\n",
       "      <td>Action</td>\n",
       "      <td>Drama</td>\n",
       "      <td>Thriller</td>\n",
       "    </tr>\n",
       "    <tr>\n",
       "      <th>15503</th>\n",
       "      <td>Horror</td>\n",
       "      <td>Mystery</td>\n",
       "      <td>None</td>\n",
       "    </tr>\n",
       "    <tr>\n",
       "      <th>45651</th>\n",
       "      <td>Action</td>\n",
       "      <td>Crime</td>\n",
       "      <td>Drama</td>\n",
       "    </tr>\n",
       "  </tbody>\n",
       "</table>\n",
       "</div>"
      ],
      "text/plain": [
       "          genre1     genre2     genre3\n",
       "62767     Comedy       None       None\n",
       "48197     Comedy       None       None\n",
       "67983     Comedy      Drama    Romance\n",
       "54151    History       None       None\n",
       "49288     Horror   Thriller       None\n",
       "4732     Mystery    Romance       None\n",
       "57376  Adventure      Drama       None\n",
       "55995     Action      Drama   Thriller\n",
       "15503     Horror    Mystery       None\n",
       "45651     Action      Crime      Drama"
      ]
     },
     "execution_count": 71,
     "metadata": {},
     "output_type": "execute_result"
    }
   ],
   "source": [
    "# Concatenate the split genre df to original df\n",
    "for i in range(len(genre_cols)):\n",
    "    mv.insert(loc=mv.columns.get_loc('genre') + 1 + i, column=genre_cols[i], value=genre_split.iloc[:, i])\n",
    "mv[['genre1','genre2','genre3']].sample(10)"
   ]
  },
  {
   "cell_type": "code",
   "execution_count": 72,
   "metadata": {},
   "outputs": [
    {
     "data": {
      "text/html": [
       "<div>\n",
       "<style scoped>\n",
       "    .dataframe tbody tr th:only-of-type {\n",
       "        vertical-align: middle;\n",
       "    }\n",
       "\n",
       "    .dataframe tbody tr th {\n",
       "        vertical-align: top;\n",
       "    }\n",
       "\n",
       "    .dataframe thead th {\n",
       "        text-align: right;\n",
       "    }\n",
       "</style>\n",
       "<table border=\"1\" class=\"dataframe\">\n",
       "  <thead>\n",
       "    <tr style=\"text-align: right;\">\n",
       "      <th></th>\n",
       "      <th>id</th>\n",
       "      <th>title</th>\n",
       "      <th>year</th>\n",
       "      <th>genre1</th>\n",
       "      <th>genre2</th>\n",
       "      <th>genre3</th>\n",
       "      <th>duration</th>\n",
       "      <th>country</th>\n",
       "      <th>language</th>\n",
       "      <th>director</th>\n",
       "      <th>writer</th>\n",
       "      <th>production_company</th>\n",
       "      <th>actors</th>\n",
       "      <th>description</th>\n",
       "      <th>avg_vote</th>\n",
       "      <th>votes</th>\n",
       "      <th>budget</th>\n",
       "      <th>usa_gross_income</th>\n",
       "      <th>worlwide_gross_income</th>\n",
       "      <th>metascore</th>\n",
       "      <th>reviews_from_users</th>\n",
       "      <th>reviews_from_critics</th>\n",
       "    </tr>\n",
       "  </thead>\n",
       "  <tbody>\n",
       "    <tr>\n",
       "      <th>66585</th>\n",
       "      <td>2357208</td>\n",
       "      <td>Run Baby Run</td>\n",
       "      <td>2012</td>\n",
       "      <td>Action</td>\n",
       "      <td>Comedy</td>\n",
       "      <td>Thriller</td>\n",
       "      <td>180</td>\n",
       "      <td>India</td>\n",
       "      <td>Malayalam, Telugu</td>\n",
       "      <td>Joshiy, Joshiy</td>\n",
       "      <td>Sachy</td>\n",
       "      <td>Galaxy Films</td>\n",
       "      <td>Mohanlal, Amala Paul, Biju Menon, Saikumar, Si...</td>\n",
       "      <td>A reporter and a cameraman become try to uncov...</td>\n",
       "      <td>6.6</td>\n",
       "      <td>1501</td>\n",
       "      <td>NaN</td>\n",
       "      <td>NaN</td>\n",
       "      <td>NaN</td>\n",
       "      <td>NaN</td>\n",
       "      <td>6.0</td>\n",
       "      <td>1.0</td>\n",
       "    </tr>\n",
       "    <tr>\n",
       "      <th>73397</th>\n",
       "      <td>4004084</td>\n",
       "      <td>Antisocial 2</td>\n",
       "      <td>2018</td>\n",
       "      <td>Horror</td>\n",
       "      <td>None</td>\n",
       "      <td>None</td>\n",
       "      <td>90</td>\n",
       "      <td>Canada</td>\n",
       "      <td>English</td>\n",
       "      <td>Cody Calahan</td>\n",
       "      <td>Chad Archibald, Cody Calahan</td>\n",
       "      <td>Black Fawn Films</td>\n",
       "      <td>Michelle Mylett, Stephen Bogaert, Josette Halp...</td>\n",
       "      <td>Years after having her newborn child stolen fr...</td>\n",
       "      <td>4.5</td>\n",
       "      <td>364</td>\n",
       "      <td>NaN</td>\n",
       "      <td>NaN</td>\n",
       "      <td>$ 11924</td>\n",
       "      <td>NaN</td>\n",
       "      <td>5.0</td>\n",
       "      <td>8.0</td>\n",
       "    </tr>\n",
       "  </tbody>\n",
       "</table>\n",
       "</div>"
      ],
      "text/plain": [
       "            id         title  year  genre1   genre2     genre3  duration  \\\n",
       "66585  2357208  Run Baby Run  2012  Action   Comedy   Thriller       180   \n",
       "73397  4004084  Antisocial 2  2018  Horror     None       None        90   \n",
       "\n",
       "      country           language        director  \\\n",
       "66585   India  Malayalam, Telugu  Joshiy, Joshiy   \n",
       "73397  Canada            English    Cody Calahan   \n",
       "\n",
       "                             writer production_company  \\\n",
       "66585                         Sachy       Galaxy Films   \n",
       "73397  Chad Archibald, Cody Calahan   Black Fawn Films   \n",
       "\n",
       "                                                  actors  \\\n",
       "66585  Mohanlal, Amala Paul, Biju Menon, Saikumar, Si...   \n",
       "73397  Michelle Mylett, Stephen Bogaert, Josette Halp...   \n",
       "\n",
       "                                             description  avg_vote  votes  \\\n",
       "66585  A reporter and a cameraman become try to uncov...       6.6   1501   \n",
       "73397  Years after having her newborn child stolen fr...       4.5    364   \n",
       "\n",
       "      budget usa_gross_income worlwide_gross_income  metascore  \\\n",
       "66585    NaN              NaN                   NaN        NaN   \n",
       "73397    NaN              NaN               $ 11924        NaN   \n",
       "\n",
       "       reviews_from_users  reviews_from_critics  \n",
       "66585                 6.0                   1.0  \n",
       "73397                 5.0                   8.0  "
      ]
     },
     "execution_count": 72,
     "metadata": {},
     "output_type": "execute_result"
    }
   ],
   "source": [
    "# Drop the column genre \n",
    "mv.drop(columns=['genre'],inplace=True)\n",
    "mv.sample(2)"
   ]
  },
  {
   "cell_type": "markdown",
   "metadata": {},
   "source": []
  }
 ],
 "metadata": {
  "kernelspec": {
   "display_name": "Python 3",
   "language": "python",
   "name": "python3"
  },
  "language_info": {
   "codemirror_mode": {
    "name": "ipython",
    "version": 3
   },
   "file_extension": ".py",
   "mimetype": "text/x-python",
   "name": "python",
   "nbconvert_exporter": "python",
   "pygments_lexer": "ipython3",
   "version": "3.12.1"
  }
 },
 "nbformat": 4,
 "nbformat_minor": 2
}
