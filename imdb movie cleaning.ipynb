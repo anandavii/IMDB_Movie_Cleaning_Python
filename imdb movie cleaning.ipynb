{
 "cells": [
  {
   "cell_type": "markdown",
   "metadata": {},
   "source": [
    "# IMDB Movie Dataset Cleaning"
   ]
  },
  {
   "cell_type": "markdown",
   "metadata": {},
   "source": [
    "### Import Pandas Library"
   ]
  },
  {
   "cell_type": "code",
   "execution_count": 155,
   "metadata": {},
   "outputs": [],
   "source": [
    "import pandas as pd"
   ]
  },
  {
   "cell_type": "markdown",
   "metadata": {},
   "source": [
    "### Read the data file"
   ]
  },
  {
   "cell_type": "code",
   "execution_count": 156,
   "metadata": {},
   "outputs": [
    {
     "data": {
      "text/html": [
       "<div>\n",
       "<style scoped>\n",
       "    .dataframe tbody tr th:only-of-type {\n",
       "        vertical-align: middle;\n",
       "    }\n",
       "\n",
       "    .dataframe tbody tr th {\n",
       "        vertical-align: top;\n",
       "    }\n",
       "\n",
       "    .dataframe thead th {\n",
       "        text-align: right;\n",
       "    }\n",
       "</style>\n",
       "<table border=\"1\" class=\"dataframe\">\n",
       "  <thead>\n",
       "    <tr style=\"text-align: right;\">\n",
       "      <th></th>\n",
       "      <th>imdb_title_id</th>\n",
       "      <th>title</th>\n",
       "      <th>original_title</th>\n",
       "      <th>year</th>\n",
       "      <th>date_published</th>\n",
       "      <th>genre</th>\n",
       "      <th>duration</th>\n",
       "      <th>country</th>\n",
       "      <th>language</th>\n",
       "      <th>director</th>\n",
       "      <th>writer</th>\n",
       "      <th>production_company</th>\n",
       "      <th>actors</th>\n",
       "      <th>description</th>\n",
       "      <th>avg_vote</th>\n",
       "      <th>votes</th>\n",
       "      <th>budget</th>\n",
       "      <th>usa_gross_income</th>\n",
       "      <th>worlwide_gross_income</th>\n",
       "      <th>metascore</th>\n",
       "      <th>reviews_from_users</th>\n",
       "      <th>reviews_from_critics</th>\n",
       "    </tr>\n",
       "  </thead>\n",
       "  <tbody>\n",
       "    <tr>\n",
       "      <th>31500</th>\n",
       "      <td>tt0122571</td>\n",
       "      <td>De komst van Joachim Stiller</td>\n",
       "      <td>De komst van Joachim Stiller</td>\n",
       "      <td>1976</td>\n",
       "      <td>1976-11-29</td>\n",
       "      <td>Mystery</td>\n",
       "      <td>120</td>\n",
       "      <td>Netherlands, Belgium</td>\n",
       "      <td>Dutch, German, English</td>\n",
       "      <td>Harry Kümel</td>\n",
       "      <td>Jean Ferry, Harry Kümel</td>\n",
       "      <td>Algemene Vereniging Radio Omroep (AVRO)</td>\n",
       "      <td>Hugo Metsers, Cox Habbema, Willeke van Ammelro...</td>\n",
       "      <td>Freek and Simone's lives are taken over by the...</td>\n",
       "      <td>7.6</td>\n",
       "      <td>306</td>\n",
       "      <td>NaN</td>\n",
       "      <td>NaN</td>\n",
       "      <td>NaN</td>\n",
       "      <td>NaN</td>\n",
       "      <td>5.0</td>\n",
       "      <td>4.0</td>\n",
       "    </tr>\n",
       "    <tr>\n",
       "      <th>20107</th>\n",
       "      <td>tt0082958</td>\n",
       "      <td>Caccia implacabile</td>\n",
       "      <td>The Pursuit of D.B. Cooper</td>\n",
       "      <td>1981</td>\n",
       "      <td>1981-11-13</td>\n",
       "      <td>Adventure, Crime, Thriller</td>\n",
       "      <td>100</td>\n",
       "      <td>USA</td>\n",
       "      <td>English</td>\n",
       "      <td>Roger Spottiswoode, Buzz Kulik</td>\n",
       "      <td>J.D. Reed, Jeffrey Alan Fiskin</td>\n",
       "      <td>PolyGram Pictures</td>\n",
       "      <td>Robert Duvall, Treat Williams, Kathryn Harrold...</td>\n",
       "      <td>A speculation on the fate of the famous hijack...</td>\n",
       "      <td>5.6</td>\n",
       "      <td>1027</td>\n",
       "      <td>$ 12000000</td>\n",
       "      <td>$ 3702028</td>\n",
       "      <td>$ 3702028</td>\n",
       "      <td>NaN</td>\n",
       "      <td>13.0</td>\n",
       "      <td>5.0</td>\n",
       "    </tr>\n",
       "  </tbody>\n",
       "</table>\n",
       "</div>"
      ],
      "text/plain": [
       "      imdb_title_id                         title  \\\n",
       "31500     tt0122571  De komst van Joachim Stiller   \n",
       "20107     tt0082958            Caccia implacabile   \n",
       "\n",
       "                     original_title  year date_published  \\\n",
       "31500  De komst van Joachim Stiller  1976     1976-11-29   \n",
       "20107    The Pursuit of D.B. Cooper  1981     1981-11-13   \n",
       "\n",
       "                            genre  duration               country  \\\n",
       "31500                     Mystery       120  Netherlands, Belgium   \n",
       "20107  Adventure, Crime, Thriller       100                   USA   \n",
       "\n",
       "                     language                        director  \\\n",
       "31500  Dutch, German, English                     Harry Kümel   \n",
       "20107                 English  Roger Spottiswoode, Buzz Kulik   \n",
       "\n",
       "                               writer  \\\n",
       "31500         Jean Ferry, Harry Kümel   \n",
       "20107  J.D. Reed, Jeffrey Alan Fiskin   \n",
       "\n",
       "                            production_company  \\\n",
       "31500  Algemene Vereniging Radio Omroep (AVRO)   \n",
       "20107                        PolyGram Pictures   \n",
       "\n",
       "                                                  actors  \\\n",
       "31500  Hugo Metsers, Cox Habbema, Willeke van Ammelro...   \n",
       "20107  Robert Duvall, Treat Williams, Kathryn Harrold...   \n",
       "\n",
       "                                             description  avg_vote  votes  \\\n",
       "31500  Freek and Simone's lives are taken over by the...       7.6    306   \n",
       "20107  A speculation on the fate of the famous hijack...       5.6   1027   \n",
       "\n",
       "           budget usa_gross_income worlwide_gross_income  metascore  \\\n",
       "31500         NaN              NaN                   NaN        NaN   \n",
       "20107  $ 12000000        $ 3702028             $ 3702028        NaN   \n",
       "\n",
       "       reviews_from_users  reviews_from_critics  \n",
       "31500                 5.0                   4.0  \n",
       "20107                13.0                   5.0  "
      ]
     },
     "execution_count": 156,
     "metadata": {},
     "output_type": "execute_result"
    }
   ],
   "source": [
    "df = pd.read_csv(r\"datasource/imdb_movies.csv\", encoding='unicode_escape', low_memory=False)\n",
    "df.sample(2)"
   ]
  },
  {
   "cell_type": "markdown",
   "metadata": {},
   "source": [
    "### Set the column width to maximum to display all the columns"
   ]
  },
  {
   "cell_type": "code",
   "execution_count": 157,
   "metadata": {},
   "outputs": [
    {
     "data": {
      "text/html": [
       "<div>\n",
       "<style scoped>\n",
       "    .dataframe tbody tr th:only-of-type {\n",
       "        vertical-align: middle;\n",
       "    }\n",
       "\n",
       "    .dataframe tbody tr th {\n",
       "        vertical-align: top;\n",
       "    }\n",
       "\n",
       "    .dataframe thead th {\n",
       "        text-align: right;\n",
       "    }\n",
       "</style>\n",
       "<table border=\"1\" class=\"dataframe\">\n",
       "  <thead>\n",
       "    <tr style=\"text-align: right;\">\n",
       "      <th></th>\n",
       "      <th>imdb_title_id</th>\n",
       "      <th>title</th>\n",
       "      <th>original_title</th>\n",
       "      <th>year</th>\n",
       "      <th>date_published</th>\n",
       "      <th>genre</th>\n",
       "      <th>duration</th>\n",
       "      <th>country</th>\n",
       "      <th>language</th>\n",
       "      <th>director</th>\n",
       "      <th>writer</th>\n",
       "      <th>production_company</th>\n",
       "      <th>actors</th>\n",
       "      <th>description</th>\n",
       "      <th>avg_vote</th>\n",
       "      <th>votes</th>\n",
       "      <th>budget</th>\n",
       "      <th>usa_gross_income</th>\n",
       "      <th>worlwide_gross_income</th>\n",
       "      <th>metascore</th>\n",
       "      <th>reviews_from_users</th>\n",
       "      <th>reviews_from_critics</th>\n",
       "    </tr>\n",
       "  </thead>\n",
       "  <tbody>\n",
       "    <tr>\n",
       "      <th>0</th>\n",
       "      <td>tt0000009</td>\n",
       "      <td>Miss Jerry</td>\n",
       "      <td>Miss Jerry</td>\n",
       "      <td>1894</td>\n",
       "      <td>1894-10-09</td>\n",
       "      <td>Romance</td>\n",
       "      <td>45</td>\n",
       "      <td>USA</td>\n",
       "      <td>NaN</td>\n",
       "      <td>Alexander Black</td>\n",
       "      <td>Alexander Black</td>\n",
       "      <td>Alexander Black Photoplays</td>\n",
       "      <td>Blanche Bayliss, William Courtenay, Chauncey D...</td>\n",
       "      <td>The adventures of a female reporter in the 1890s.</td>\n",
       "      <td>5.9</td>\n",
       "      <td>154</td>\n",
       "      <td>NaN</td>\n",
       "      <td>NaN</td>\n",
       "      <td>NaN</td>\n",
       "      <td>NaN</td>\n",
       "      <td>1.0</td>\n",
       "      <td>2.0</td>\n",
       "    </tr>\n",
       "    <tr>\n",
       "      <th>1</th>\n",
       "      <td>tt0000574</td>\n",
       "      <td>The Story of the Kelly Gang</td>\n",
       "      <td>The Story of the Kelly Gang</td>\n",
       "      <td>1906</td>\n",
       "      <td>1906-12-26</td>\n",
       "      <td>Biography, Crime, Drama</td>\n",
       "      <td>70</td>\n",
       "      <td>Australia</td>\n",
       "      <td>NaN</td>\n",
       "      <td>Charles Tait</td>\n",
       "      <td>Charles Tait</td>\n",
       "      <td>J. and N. Tait</td>\n",
       "      <td>Elizabeth Tait, John Tait, Norman Campbell, Be...</td>\n",
       "      <td>True story of notorious Australian outlaw Ned ...</td>\n",
       "      <td>6.1</td>\n",
       "      <td>589</td>\n",
       "      <td>$ 2250</td>\n",
       "      <td>NaN</td>\n",
       "      <td>NaN</td>\n",
       "      <td>NaN</td>\n",
       "      <td>7.0</td>\n",
       "      <td>7.0</td>\n",
       "    </tr>\n",
       "  </tbody>\n",
       "</table>\n",
       "</div>"
      ],
      "text/plain": [
       "  imdb_title_id                        title               original_title  \\\n",
       "0     tt0000009                   Miss Jerry                   Miss Jerry   \n",
       "1     tt0000574  The Story of the Kelly Gang  The Story of the Kelly Gang   \n",
       "\n",
       "   year date_published                    genre  duration    country language  \\\n",
       "0  1894     1894-10-09                  Romance        45        USA      NaN   \n",
       "1  1906     1906-12-26  Biography, Crime, Drama        70  Australia      NaN   \n",
       "\n",
       "          director           writer          production_company  \\\n",
       "0  Alexander Black  Alexander Black  Alexander Black Photoplays   \n",
       "1     Charles Tait     Charles Tait              J. and N. Tait   \n",
       "\n",
       "                                              actors  \\\n",
       "0  Blanche Bayliss, William Courtenay, Chauncey D...   \n",
       "1  Elizabeth Tait, John Tait, Norman Campbell, Be...   \n",
       "\n",
       "                                         description  avg_vote  votes  budget  \\\n",
       "0  The adventures of a female reporter in the 1890s.       5.9    154     NaN   \n",
       "1  True story of notorious Australian outlaw Ned ...       6.1    589  $ 2250   \n",
       "\n",
       "  usa_gross_income worlwide_gross_income  metascore  reviews_from_users  \\\n",
       "0              NaN                   NaN        NaN                 1.0   \n",
       "1              NaN                   NaN        NaN                 7.0   \n",
       "\n",
       "   reviews_from_critics  \n",
       "0                   2.0  \n",
       "1                   7.0  "
      ]
     },
     "execution_count": 157,
     "metadata": {},
     "output_type": "execute_result"
    }
   ],
   "source": [
    "# Display all the columns and rows\n",
    "pd.set_option('display.max_rows', None)\n",
    "pd.set_option('display.max_columns',None)\n",
    "df.head(2)"
   ]
  },
  {
   "cell_type": "markdown",
   "metadata": {},
   "source": [
    "### Analyze the dataset\n",
    "- Check the data types\n",
    "- Check the number of records and number of columns"
   ]
  },
  {
   "cell_type": "code",
   "execution_count": 158,
   "metadata": {},
   "outputs": [
    {
     "name": "stdout",
     "output_type": "stream",
     "text": [
      "Total Rows present are : 85855, and total Columns are : 22\n"
     ]
    }
   ],
   "source": [
    "rows, columns = df.shape\n",
    "print(f\"Total Rows present are : {rows}, and total Columns are : {columns}\")"
   ]
  },
  {
   "cell_type": "code",
   "execution_count": 159,
   "metadata": {},
   "outputs": [
    {
     "name": "stdout",
     "output_type": "stream",
     "text": [
      "<class 'pandas.core.frame.DataFrame'>\n",
      "RangeIndex: 85855 entries, 0 to 85854\n",
      "Data columns (total 22 columns):\n",
      " #   Column                 Non-Null Count  Dtype  \n",
      "---  ------                 --------------  -----  \n",
      " 0   imdb_title_id          85855 non-null  object \n",
      " 1   title                  85855 non-null  object \n",
      " 2   original_title         85855 non-null  object \n",
      " 3   year                   85855 non-null  object \n",
      " 4   date_published         85855 non-null  object \n",
      " 5   genre                  85855 non-null  object \n",
      " 6   duration               85855 non-null  int64  \n",
      " 7   country                85791 non-null  object \n",
      " 8   language               84954 non-null  object \n",
      " 9   director               85768 non-null  object \n",
      " 10  writer                 84283 non-null  object \n",
      " 11  production_company     81400 non-null  object \n",
      " 12  actors                 85786 non-null  object \n",
      " 13  description            83740 non-null  object \n",
      " 14  avg_vote               85855 non-null  float64\n",
      " 15  votes                  85855 non-null  int64  \n",
      " 16  budget                 23710 non-null  object \n",
      " 17  usa_gross_income       15326 non-null  object \n",
      " 18  worlwide_gross_income  31016 non-null  object \n",
      " 19  metascore              13305 non-null  float64\n",
      " 20  reviews_from_users     78258 non-null  float64\n",
      " 21  reviews_from_critics   74058 non-null  float64\n",
      "dtypes: float64(4), int64(2), object(16)\n",
      "memory usage: 14.4+ MB\n"
     ]
    }
   ],
   "source": [
    "df.info()"
   ]
  },
  {
   "cell_type": "markdown",
   "metadata": {},
   "source": [
    "# Data Cleaning Process"
   ]
  },
  {
   "cell_type": "markdown",
   "metadata": {},
   "source": [
    "### Creating copy of the data"
   ]
  },
  {
   "cell_type": "code",
   "execution_count": 160,
   "metadata": {},
   "outputs": [
    {
     "data": {
      "text/html": [
       "<div>\n",
       "<style scoped>\n",
       "    .dataframe tbody tr th:only-of-type {\n",
       "        vertical-align: middle;\n",
       "    }\n",
       "\n",
       "    .dataframe tbody tr th {\n",
       "        vertical-align: top;\n",
       "    }\n",
       "\n",
       "    .dataframe thead th {\n",
       "        text-align: right;\n",
       "    }\n",
       "</style>\n",
       "<table border=\"1\" class=\"dataframe\">\n",
       "  <thead>\n",
       "    <tr style=\"text-align: right;\">\n",
       "      <th></th>\n",
       "      <th>imdb_title_id</th>\n",
       "      <th>title</th>\n",
       "      <th>original_title</th>\n",
       "      <th>year</th>\n",
       "      <th>date_published</th>\n",
       "      <th>genre</th>\n",
       "      <th>duration</th>\n",
       "      <th>country</th>\n",
       "      <th>language</th>\n",
       "      <th>director</th>\n",
       "      <th>writer</th>\n",
       "      <th>production_company</th>\n",
       "      <th>actors</th>\n",
       "      <th>description</th>\n",
       "      <th>avg_vote</th>\n",
       "      <th>votes</th>\n",
       "      <th>budget</th>\n",
       "      <th>usa_gross_income</th>\n",
       "      <th>worlwide_gross_income</th>\n",
       "      <th>metascore</th>\n",
       "      <th>reviews_from_users</th>\n",
       "      <th>reviews_from_critics</th>\n",
       "    </tr>\n",
       "  </thead>\n",
       "  <tbody>\n",
       "    <tr>\n",
       "      <th>47069</th>\n",
       "      <td>tt0446309</td>\n",
       "      <td>Death by Engagement</td>\n",
       "      <td>Death by Engagement</td>\n",
       "      <td>2005</td>\n",
       "      <td>2007-10-02</td>\n",
       "      <td>Horror, Comedy</td>\n",
       "      <td>99</td>\n",
       "      <td>USA</td>\n",
       "      <td>English</td>\n",
       "      <td>Philip Creager</td>\n",
       "      <td>Philip Creager</td>\n",
       "      <td>Rounding 3rd Productions</td>\n",
       "      <td>Sascha Knopf, Aaron McPherson, P.J. Soles, Iya...</td>\n",
       "      <td>A cursed ring bounces through an ensemble of d...</td>\n",
       "      <td>4.0</td>\n",
       "      <td>188</td>\n",
       "      <td>$ 800000</td>\n",
       "      <td>NaN</td>\n",
       "      <td>NaN</td>\n",
       "      <td>NaN</td>\n",
       "      <td>6.0</td>\n",
       "      <td>9.0</td>\n",
       "    </tr>\n",
       "    <tr>\n",
       "      <th>54430</th>\n",
       "      <td>tt1134664</td>\n",
       "      <td>Tradire è un'arte - Boogie Woogie</td>\n",
       "      <td>Boogie Woogie</td>\n",
       "      <td>2009</td>\n",
       "      <td>2017-09-29</td>\n",
       "      <td>Comedy, Drama</td>\n",
       "      <td>94</td>\n",
       "      <td>UK</td>\n",
       "      <td>English</td>\n",
       "      <td>Duncan Ward</td>\n",
       "      <td>Danny Moynihan, Danny Moynihan</td>\n",
       "      <td>The Works International</td>\n",
       "      <td>Gillian Anderson, Alan Cumming, Heather Graham...</td>\n",
       "      <td>A comedy of manners set against the backdrop o...</td>\n",
       "      <td>5.2</td>\n",
       "      <td>3530</td>\n",
       "      <td>$ 6000000</td>\n",
       "      <td>$ 2618</td>\n",
       "      <td>$ 48411</td>\n",
       "      <td>NaN</td>\n",
       "      <td>28.0</td>\n",
       "      <td>30.0</td>\n",
       "    </tr>\n",
       "  </tbody>\n",
       "</table>\n",
       "</div>"
      ],
      "text/plain": [
       "      imdb_title_id                              title       original_title  \\\n",
       "47069     tt0446309                Death by Engagement  Death by Engagement   \n",
       "54430     tt1134664  Tradire è un'arte - Boogie Woogie        Boogie Woogie   \n",
       "\n",
       "       year date_published           genre  duration country language  \\\n",
       "47069  2005     2007-10-02  Horror, Comedy        99     USA  English   \n",
       "54430  2009     2017-09-29   Comedy, Drama        94      UK  English   \n",
       "\n",
       "             director                          writer  \\\n",
       "47069  Philip Creager                  Philip Creager   \n",
       "54430     Duncan Ward  Danny Moynihan, Danny Moynihan   \n",
       "\n",
       "             production_company  \\\n",
       "47069  Rounding 3rd Productions   \n",
       "54430   The Works International   \n",
       "\n",
       "                                                  actors  \\\n",
       "47069  Sascha Knopf, Aaron McPherson, P.J. Soles, Iya...   \n",
       "54430  Gillian Anderson, Alan Cumming, Heather Graham...   \n",
       "\n",
       "                                             description  avg_vote  votes  \\\n",
       "47069  A cursed ring bounces through an ensemble of d...       4.0    188   \n",
       "54430  A comedy of manners set against the backdrop o...       5.2   3530   \n",
       "\n",
       "          budget usa_gross_income worlwide_gross_income  metascore  \\\n",
       "47069   $ 800000              NaN                   NaN        NaN   \n",
       "54430  $ 6000000           $ 2618               $ 48411        NaN   \n",
       "\n",
       "       reviews_from_users  reviews_from_critics  \n",
       "47069                 6.0                   9.0  \n",
       "54430                28.0                  30.0  "
      ]
     },
     "execution_count": 160,
     "metadata": {},
     "output_type": "execute_result"
    }
   ],
   "source": [
    "mv = df.copy()\n",
    "mv.sample(2)"
   ]
  },
  {
   "cell_type": "markdown",
   "metadata": {},
   "source": [
    "### Column: [imdb_title_id]"
   ]
  },
  {
   "cell_type": "code",
   "execution_count": 161,
   "metadata": {},
   "outputs": [
    {
     "data": {
      "text/plain": [
       "array(['tt0000009', 'tt0000574', 'tt0001892', ..., 'tt9911774',\n",
       "       'tt9914286', 'tt9914942'], dtype=object)"
      ]
     },
     "execution_count": 161,
     "metadata": {},
     "output_type": "execute_result"
    }
   ],
   "source": [
    "mv['imdb_title_id'].unique()"
   ]
  },
  {
   "cell_type": "markdown",
   "metadata": {},
   "source": [
    "- We can see that all the values are prefixed with 'tt' which can be removed \n",
    "- Also the column name can be renamed to 'id'"
   ]
  },
  {
   "cell_type": "code",
   "execution_count": 162,
   "metadata": {},
   "outputs": [
    {
     "data": {
      "text/plain": [
       "33321    0154898\n",
       "37147    0224156\n",
       "13713    0063568\n",
       "38202    0248926\n",
       "40230    0285300\n",
       "68080    2620490\n",
       "48296    0473001\n",
       "83255    7806430\n",
       "80082    6237314\n",
       "54814    1160539\n",
       "Name: imdb_title_id, dtype: object"
      ]
     },
     "execution_count": 162,
     "metadata": {},
     "output_type": "execute_result"
    }
   ],
   "source": [
    "# Strip the 'tt' from the imdb_title_id\n",
    "mv['imdb_title_id'] = mv['imdb_title_id'].str.strip('tt')\n",
    "mv['imdb_title_id'].sample(10)"
   ]
  },
  {
   "cell_type": "markdown",
   "metadata": {},
   "source": [
    "#### Rename the column to 'imdb_title_id' to 'id'"
   ]
  },
  {
   "cell_type": "code",
   "execution_count": 163,
   "metadata": {},
   "outputs": [
    {
     "data": {
      "text/html": [
       "<div>\n",
       "<style scoped>\n",
       "    .dataframe tbody tr th:only-of-type {\n",
       "        vertical-align: middle;\n",
       "    }\n",
       "\n",
       "    .dataframe tbody tr th {\n",
       "        vertical-align: top;\n",
       "    }\n",
       "\n",
       "    .dataframe thead th {\n",
       "        text-align: right;\n",
       "    }\n",
       "</style>\n",
       "<table border=\"1\" class=\"dataframe\">\n",
       "  <thead>\n",
       "    <tr style=\"text-align: right;\">\n",
       "      <th></th>\n",
       "      <th>id</th>\n",
       "      <th>title</th>\n",
       "      <th>original_title</th>\n",
       "      <th>year</th>\n",
       "      <th>date_published</th>\n",
       "      <th>genre</th>\n",
       "      <th>duration</th>\n",
       "      <th>country</th>\n",
       "      <th>language</th>\n",
       "      <th>director</th>\n",
       "      <th>writer</th>\n",
       "      <th>production_company</th>\n",
       "      <th>actors</th>\n",
       "      <th>description</th>\n",
       "      <th>avg_vote</th>\n",
       "      <th>votes</th>\n",
       "      <th>budget</th>\n",
       "      <th>usa_gross_income</th>\n",
       "      <th>worlwide_gross_income</th>\n",
       "      <th>metascore</th>\n",
       "      <th>reviews_from_users</th>\n",
       "      <th>reviews_from_critics</th>\n",
       "    </tr>\n",
       "  </thead>\n",
       "  <tbody>\n",
       "    <tr>\n",
       "      <th>72069</th>\n",
       "      <td>3651326</td>\n",
       "      <td>All'ombra delle donne</td>\n",
       "      <td>L'ombre des femmes</td>\n",
       "      <td>2015</td>\n",
       "      <td>2015-05-27</td>\n",
       "      <td>Drama, Romance</td>\n",
       "      <td>73</td>\n",
       "      <td>France, Switzerland</td>\n",
       "      <td>French</td>\n",
       "      <td>Philippe Garrel</td>\n",
       "      <td>Jean-Claude Carrière, Caroline Deruas-Garrel</td>\n",
       "      <td>SBS Productions</td>\n",
       "      <td>Clotilde Courau, Stanislas Merhar, Lena Paugam...</td>\n",
       "      <td>Pierre and Manon are a pair of poor documentar...</td>\n",
       "      <td>6.5</td>\n",
       "      <td>1304</td>\n",
       "      <td>NaN</td>\n",
       "      <td>$ 50291</td>\n",
       "      <td>$ 152802</td>\n",
       "      <td>74.0</td>\n",
       "      <td>6.0</td>\n",
       "      <td>61.0</td>\n",
       "    </tr>\n",
       "    <tr>\n",
       "      <th>17016</th>\n",
       "      <td>0073029</td>\n",
       "      <td>Galileo</td>\n",
       "      <td>Galileo</td>\n",
       "      <td>1975</td>\n",
       "      <td>1976-05-27</td>\n",
       "      <td>Biography, Drama</td>\n",
       "      <td>145</td>\n",
       "      <td>UK, USA</td>\n",
       "      <td>English</td>\n",
       "      <td>Joseph Losey</td>\n",
       "      <td>Barbara Bray, Bertolt Brecht</td>\n",
       "      <td>Cinévision Ltée</td>\n",
       "      <td>Topol, Edward Fox, Colin Blakely, Georgia Brow...</td>\n",
       "      <td>This biopic is about Galileo Galilei, the seve...</td>\n",
       "      <td>6.6</td>\n",
       "      <td>481</td>\n",
       "      <td>NaN</td>\n",
       "      <td>NaN</td>\n",
       "      <td>NaN</td>\n",
       "      <td>NaN</td>\n",
       "      <td>8.0</td>\n",
       "      <td>9.0</td>\n",
       "    </tr>\n",
       "  </tbody>\n",
       "</table>\n",
       "</div>"
      ],
      "text/plain": [
       "            id                  title      original_title  year  \\\n",
       "72069  3651326  All'ombra delle donne  L'ombre des femmes  2015   \n",
       "17016  0073029                Galileo             Galileo  1975   \n",
       "\n",
       "      date_published             genre  duration              country  \\\n",
       "72069     2015-05-27    Drama, Romance        73  France, Switzerland   \n",
       "17016     1976-05-27  Biography, Drama       145              UK, USA   \n",
       "\n",
       "      language         director                                        writer  \\\n",
       "72069   French  Philippe Garrel  Jean-Claude Carrière, Caroline Deruas-Garrel   \n",
       "17016  English     Joseph Losey                  Barbara Bray, Bertolt Brecht   \n",
       "\n",
       "      production_company                                             actors  \\\n",
       "72069    SBS Productions  Clotilde Courau, Stanislas Merhar, Lena Paugam...   \n",
       "17016    Cinévision Ltée  Topol, Edward Fox, Colin Blakely, Georgia Brow...   \n",
       "\n",
       "                                             description  avg_vote  votes  \\\n",
       "72069  Pierre and Manon are a pair of poor documentar...       6.5   1304   \n",
       "17016  This biopic is about Galileo Galilei, the seve...       6.6    481   \n",
       "\n",
       "      budget usa_gross_income worlwide_gross_income  metascore  \\\n",
       "72069    NaN          $ 50291              $ 152802       74.0   \n",
       "17016    NaN              NaN                   NaN        NaN   \n",
       "\n",
       "       reviews_from_users  reviews_from_critics  \n",
       "72069                 6.0                  61.0  \n",
       "17016                 8.0                   9.0  "
      ]
     },
     "execution_count": 163,
     "metadata": {},
     "output_type": "execute_result"
    }
   ],
   "source": [
    "# Rename column 'imdb_title_id' to 'id'\n",
    "mv.rename(columns={'imdb_title_id':'id'}, inplace=True)\n",
    "mv.sample(2)"
   ]
  },
  {
   "cell_type": "markdown",
   "metadata": {},
   "source": [
    "#### Convert the column 'imdb_title_id' to integer type"
   ]
  },
  {
   "cell_type": "code",
   "execution_count": 164,
   "metadata": {},
   "outputs": [
    {
     "name": "stdout",
     "output_type": "stream",
     "text": [
      "<class 'pandas.core.series.Series'>\n",
      "RangeIndex: 85855 entries, 0 to 85854\n",
      "Series name: id\n",
      "Non-Null Count  Dtype\n",
      "--------------  -----\n",
      "85855 non-null  int64\n",
      "dtypes: int64(1)\n",
      "memory usage: 670.9 KB\n"
     ]
    }
   ],
   "source": [
    "# Convert the column 'imdb_title_id' to integer type\n",
    "mv['id'] = mv['id'].astype(int)\n",
    "mv['id'].info()"
   ]
  },
  {
   "cell_type": "markdown",
   "metadata": {},
   "source": [
    "### Column: [title] and [original_title]"
   ]
  },
  {
   "cell_type": "code",
   "execution_count": 165,
   "metadata": {},
   "outputs": [
    {
     "data": {
      "text/plain": [
       "array(['Miss Jerry', 'The Story of the Kelly Gang', 'Den sorte drøm', ...,\n",
       "       'Padmavyuhathile Abhimanyu', 'Sokagin Çocuklari',\n",
       "       'La vida sense la Sara Amat'], dtype=object)"
      ]
     },
     "execution_count": 165,
     "metadata": {},
     "output_type": "execute_result"
    }
   ],
   "source": [
    "# Check the unique values\n",
    "df['title'].unique()"
   ]
  },
  {
   "cell_type": "markdown",
   "metadata": {},
   "source": [
    "- The 'title' column does not has any data anomaly and does not require cleaning"
   ]
  },
  {
   "cell_type": "code",
   "execution_count": 166,
   "metadata": {},
   "outputs": [
    {
     "data": {
      "text/plain": [
       "array(['Miss Jerry', 'The Story of the Kelly Gang', 'Den sorte drøm', ...,\n",
       "       'Padmavyuhathile Abhimanyu', 'Sokagin Çocuklari',\n",
       "       'La vida sense la Sara Amat'], dtype=object)"
      ]
     },
     "execution_count": 166,
     "metadata": {},
     "output_type": "execute_result"
    }
   ],
   "source": [
    "# Check the unique values in 'original_title'\n",
    "df['original_title'].unique()"
   ]
  },
  {
   "cell_type": "markdown",
   "metadata": {},
   "source": [
    "- Both the columns are same and the column 'title' can be dropped"
   ]
  },
  {
   "cell_type": "markdown",
   "metadata": {},
   "source": [
    "#### Drop the column 'title'"
   ]
  },
  {
   "cell_type": "code",
   "execution_count": 167,
   "metadata": {},
   "outputs": [],
   "source": [
    "# Drop the column title\n",
    "mv.drop(columns=['title'],inplace=True)"
   ]
  },
  {
   "cell_type": "markdown",
   "metadata": {},
   "source": [
    "#### Rename the column 'original_title' to 'title'"
   ]
  },
  {
   "cell_type": "code",
   "execution_count": 168,
   "metadata": {},
   "outputs": [
    {
     "data": {
      "text/html": [
       "<div>\n",
       "<style scoped>\n",
       "    .dataframe tbody tr th:only-of-type {\n",
       "        vertical-align: middle;\n",
       "    }\n",
       "\n",
       "    .dataframe tbody tr th {\n",
       "        vertical-align: top;\n",
       "    }\n",
       "\n",
       "    .dataframe thead th {\n",
       "        text-align: right;\n",
       "    }\n",
       "</style>\n",
       "<table border=\"1\" class=\"dataframe\">\n",
       "  <thead>\n",
       "    <tr style=\"text-align: right;\">\n",
       "      <th></th>\n",
       "      <th>id</th>\n",
       "      <th>title</th>\n",
       "      <th>year</th>\n",
       "      <th>date_published</th>\n",
       "      <th>genre</th>\n",
       "      <th>duration</th>\n",
       "      <th>country</th>\n",
       "      <th>language</th>\n",
       "      <th>director</th>\n",
       "      <th>writer</th>\n",
       "      <th>production_company</th>\n",
       "      <th>actors</th>\n",
       "      <th>description</th>\n",
       "      <th>avg_vote</th>\n",
       "      <th>votes</th>\n",
       "      <th>budget</th>\n",
       "      <th>usa_gross_income</th>\n",
       "      <th>worlwide_gross_income</th>\n",
       "      <th>metascore</th>\n",
       "      <th>reviews_from_users</th>\n",
       "      <th>reviews_from_critics</th>\n",
       "    </tr>\n",
       "  </thead>\n",
       "  <tbody>\n",
       "    <tr>\n",
       "      <th>17501</th>\n",
       "      <td>74633</td>\n",
       "      <td>Hollywood Boulevard</td>\n",
       "      <td>1976</td>\n",
       "      <td>1976-04-25</td>\n",
       "      <td>Comedy, Thriller</td>\n",
       "      <td>83</td>\n",
       "      <td>USA</td>\n",
       "      <td>English</td>\n",
       "      <td>Allan Arkush, Joe Dante</td>\n",
       "      <td>Danny Opatoshu</td>\n",
       "      <td>New World Pictures</td>\n",
       "      <td>Mary Woronov, Paul Bartel, George Wagner, Jona...</td>\n",
       "      <td>In this satire on 70s B-movie industry, a youn...</td>\n",
       "      <td>6.0</td>\n",
       "      <td>1016</td>\n",
       "      <td>$ 60000</td>\n",
       "      <td>NaN</td>\n",
       "      <td>NaN</td>\n",
       "      <td>NaN</td>\n",
       "      <td>27.0</td>\n",
       "      <td>31.0</td>\n",
       "    </tr>\n",
       "    <tr>\n",
       "      <th>84244</th>\n",
       "      <td>8426594</td>\n",
       "      <td>The Wind</td>\n",
       "      <td>2018</td>\n",
       "      <td>2019-04-05</td>\n",
       "      <td>Horror, Western</td>\n",
       "      <td>86</td>\n",
       "      <td>USA</td>\n",
       "      <td>English</td>\n",
       "      <td>Emma Tammi</td>\n",
       "      <td>Teresa Sutherland</td>\n",
       "      <td>Soapbox Films</td>\n",
       "      <td>Caitlin Gerard, Julia Goldani Telles, Ashley Z...</td>\n",
       "      <td>A plains-woman faces the harshness and isolati...</td>\n",
       "      <td>5.5</td>\n",
       "      <td>5543</td>\n",
       "      <td>NaN</td>\n",
       "      <td>$ 28252</td>\n",
       "      <td>$ 130974</td>\n",
       "      <td>66.0</td>\n",
       "      <td>95.0</td>\n",
       "      <td>87.0</td>\n",
       "    </tr>\n",
       "  </tbody>\n",
       "</table>\n",
       "</div>"
      ],
      "text/plain": [
       "            id                title  year date_published             genre  \\\n",
       "17501    74633  Hollywood Boulevard  1976     1976-04-25  Comedy, Thriller   \n",
       "84244  8426594             The Wind  2018     2019-04-05   Horror, Western   \n",
       "\n",
       "       duration country language                 director             writer  \\\n",
       "17501        83     USA  English  Allan Arkush, Joe Dante     Danny Opatoshu   \n",
       "84244        86     USA  English               Emma Tammi  Teresa Sutherland   \n",
       "\n",
       "       production_company                                             actors  \\\n",
       "17501  New World Pictures  Mary Woronov, Paul Bartel, George Wagner, Jona...   \n",
       "84244       Soapbox Films  Caitlin Gerard, Julia Goldani Telles, Ashley Z...   \n",
       "\n",
       "                                             description  avg_vote  votes  \\\n",
       "17501  In this satire on 70s B-movie industry, a youn...       6.0   1016   \n",
       "84244  A plains-woman faces the harshness and isolati...       5.5   5543   \n",
       "\n",
       "        budget usa_gross_income worlwide_gross_income  metascore  \\\n",
       "17501  $ 60000              NaN                   NaN        NaN   \n",
       "84244      NaN          $ 28252              $ 130974       66.0   \n",
       "\n",
       "       reviews_from_users  reviews_from_critics  \n",
       "17501                27.0                  31.0  \n",
       "84244                95.0                  87.0  "
      ]
     },
     "execution_count": 168,
     "metadata": {},
     "output_type": "execute_result"
    }
   ],
   "source": [
    "# Rename the column 'original_title' to 'title' \n",
    "mv.rename(columns={'original_title':'title'}, inplace=True)\n",
    "mv.sample(2)"
   ]
  },
  {
   "cell_type": "markdown",
   "metadata": {},
   "source": [
    "### Column: [year] and [date_published]\n",
    "- We can drop the 'year' column\n",
    "- from the 'date_published' column we will extract the year and further rename the column to 'year'"
   ]
  },
  {
   "cell_type": "code",
   "execution_count": 169,
   "metadata": {},
   "outputs": [],
   "source": [
    "# Drop the column 'year'\n",
    "mv.drop(columns=['year'],inplace=True)"
   ]
  },
  {
   "cell_type": "markdown",
   "metadata": {},
   "source": [
    "#### Extract year from the column 'date_published'"
   ]
  },
  {
   "cell_type": "code",
   "execution_count": 170,
   "metadata": {},
   "outputs": [],
   "source": [
    "# Convert the column 'published_year' to date_time\n",
    "mv['date_published'] = mv['date_published'].str[:4]"
   ]
  },
  {
   "cell_type": "code",
   "execution_count": 171,
   "metadata": {},
   "outputs": [
    {
     "data": {
      "text/plain": [
       "46455    2004\n",
       "13632    1968\n",
       "73089    2016\n",
       "8784     1956\n",
       "8877     1956\n",
       "Name: date_published, dtype: object"
      ]
     },
     "execution_count": 171,
     "metadata": {},
     "output_type": "execute_result"
    }
   ],
   "source": [
    "mv['date_published'].sample(5)"
   ]
  },
  {
   "cell_type": "markdown",
   "metadata": {},
   "source": [
    "#### Rename the column 'date_published' to 'year'"
   ]
  },
  {
   "cell_type": "code",
   "execution_count": 172,
   "metadata": {},
   "outputs": [
    {
     "data": {
      "text/html": [
       "<div>\n",
       "<style scoped>\n",
       "    .dataframe tbody tr th:only-of-type {\n",
       "        vertical-align: middle;\n",
       "    }\n",
       "\n",
       "    .dataframe tbody tr th {\n",
       "        vertical-align: top;\n",
       "    }\n",
       "\n",
       "    .dataframe thead th {\n",
       "        text-align: right;\n",
       "    }\n",
       "</style>\n",
       "<table border=\"1\" class=\"dataframe\">\n",
       "  <thead>\n",
       "    <tr style=\"text-align: right;\">\n",
       "      <th></th>\n",
       "      <th>id</th>\n",
       "      <th>title</th>\n",
       "      <th>year</th>\n",
       "      <th>genre</th>\n",
       "      <th>duration</th>\n",
       "      <th>country</th>\n",
       "      <th>language</th>\n",
       "      <th>director</th>\n",
       "      <th>writer</th>\n",
       "      <th>production_company</th>\n",
       "      <th>actors</th>\n",
       "      <th>description</th>\n",
       "      <th>avg_vote</th>\n",
       "      <th>votes</th>\n",
       "      <th>budget</th>\n",
       "      <th>usa_gross_income</th>\n",
       "      <th>worlwide_gross_income</th>\n",
       "      <th>metascore</th>\n",
       "      <th>reviews_from_users</th>\n",
       "      <th>reviews_from_critics</th>\n",
       "    </tr>\n",
       "  </thead>\n",
       "  <tbody>\n",
       "    <tr>\n",
       "      <th>26966</th>\n",
       "      <td>105626</td>\n",
       "      <td>Toutes peines confondues</td>\n",
       "      <td>1992</td>\n",
       "      <td>Crime, Drama, Thriller</td>\n",
       "      <td>107</td>\n",
       "      <td>France</td>\n",
       "      <td>French</td>\n",
       "      <td>Michel Deville</td>\n",
       "      <td>Andrew Coburn, Rosalinde Deville</td>\n",
       "      <td>Eléfilm</td>\n",
       "      <td>Patrick Bruel, Jacques Dutronc, Mathilda May, ...</td>\n",
       "      <td>A young police inspector is sent to Zurich to ...</td>\n",
       "      <td>6.3</td>\n",
       "      <td>281</td>\n",
       "      <td>NaN</td>\n",
       "      <td>NaN</td>\n",
       "      <td>NaN</td>\n",
       "      <td>NaN</td>\n",
       "      <td>2.0</td>\n",
       "      <td>NaN</td>\n",
       "    </tr>\n",
       "    <tr>\n",
       "      <th>37353</th>\n",
       "      <td>230597</td>\n",
       "      <td>Oru Vadakkan Veeragatha</td>\n",
       "      <td>1989</td>\n",
       "      <td>Drama, History</td>\n",
       "      <td>168</td>\n",
       "      <td>India</td>\n",
       "      <td>Malayalam</td>\n",
       "      <td>T. Hariharan</td>\n",
       "      <td>M.T. Vasudevan Nair</td>\n",
       "      <td>Grahalakshmi Productions</td>\n",
       "      <td>Mammootty, Madhavi, Devan, Suresh Gopi, Balan ...</td>\n",
       "      <td>The film offers an alternative version of the ...</td>\n",
       "      <td>8.7</td>\n",
       "      <td>4112</td>\n",
       "      <td>INR 9800000</td>\n",
       "      <td>NaN</td>\n",
       "      <td>NaN</td>\n",
       "      <td>NaN</td>\n",
       "      <td>13.0</td>\n",
       "      <td>2.0</td>\n",
       "    </tr>\n",
       "  </tbody>\n",
       "</table>\n",
       "</div>"
      ],
      "text/plain": [
       "           id                     title  year                   genre  \\\n",
       "26966  105626  Toutes peines confondues  1992  Crime, Drama, Thriller   \n",
       "37353  230597   Oru Vadakkan Veeragatha  1989          Drama, History   \n",
       "\n",
       "       duration country   language        director  \\\n",
       "26966       107  France     French  Michel Deville   \n",
       "37353       168   India  Malayalam    T. Hariharan   \n",
       "\n",
       "                                 writer        production_company  \\\n",
       "26966  Andrew Coburn, Rosalinde Deville                   Eléfilm   \n",
       "37353               M.T. Vasudevan Nair  Grahalakshmi Productions   \n",
       "\n",
       "                                                  actors  \\\n",
       "26966  Patrick Bruel, Jacques Dutronc, Mathilda May, ...   \n",
       "37353  Mammootty, Madhavi, Devan, Suresh Gopi, Balan ...   \n",
       "\n",
       "                                             description  avg_vote  votes  \\\n",
       "26966  A young police inspector is sent to Zurich to ...       6.3    281   \n",
       "37353  The film offers an alternative version of the ...       8.7   4112   \n",
       "\n",
       "            budget usa_gross_income worlwide_gross_income  metascore  \\\n",
       "26966          NaN              NaN                   NaN        NaN   \n",
       "37353  INR 9800000              NaN                   NaN        NaN   \n",
       "\n",
       "       reviews_from_users  reviews_from_critics  \n",
       "26966                 2.0                   NaN  \n",
       "37353                13.0                   2.0  "
      ]
     },
     "execution_count": 172,
     "metadata": {},
     "output_type": "execute_result"
    }
   ],
   "source": [
    "mv.rename(columns={'date_published': 'year'}, inplace=True)\n",
    "mv.sample(2)"
   ]
  },
  {
   "cell_type": "markdown",
   "metadata": {},
   "source": [
    "### Column: [genre]"
   ]
  },
  {
   "cell_type": "code",
   "execution_count": 173,
   "metadata": {},
   "outputs": [
    {
     "data": {
      "text/plain": [
       "42109                        Drama\n",
       "36330                        Drama\n",
       "31854                       Comedy\n",
       "49590     Adventure, Comedy, Drama\n",
       "57541       Action, Comedy, Sci-Fi\n",
       "12277               Drama, Romance\n",
       "49120                Comedy, Drama\n",
       "55971     Crime, Mystery, Thriller\n",
       "60542                Action, Drama\n",
       "34629    Adventure, Comedy, Family\n",
       "Name: genre, dtype: object"
      ]
     },
     "execution_count": 173,
     "metadata": {},
     "output_type": "execute_result"
    }
   ],
   "source": [
    "mv['genre'].sample(10)"
   ]
  },
  {
   "cell_type": "markdown",
   "metadata": {},
   "source": [
    "#### Genre column contains multiple genres for a single movie, but it must be noted that:\n",
    "- for each movie we have a maximum of 3 genres\n",
    "- we can split these multiple genres into three columns 'Genre 1' , 'Genre 2', and 'Genre 3'\n",
    "- The splitted values can be assigned to the three columns 'Genre 1' , 'Genre 2', and 'Genre 3' respectively"
   ]
  },
  {
   "cell_type": "code",
   "execution_count": 174,
   "metadata": {},
   "outputs": [],
   "source": [
    "# create a temp df 'genre_split' to store the splitted genres\n",
    "genre_split  = mv['genre'].str.split(',', expand = True)"
   ]
  },
  {
   "cell_type": "code",
   "execution_count": 175,
   "metadata": {},
   "outputs": [],
   "source": [
    "# Rename the columns to Genre1, Genre2, Genre3\n",
    "genre_cols = ['genre1', 'genre2', 'genre3']\n",
    "genre_split.columns = genre_cols"
   ]
  },
  {
   "cell_type": "code",
   "execution_count": 176,
   "metadata": {},
   "outputs": [
    {
     "data": {
      "text/html": [
       "<div>\n",
       "<style scoped>\n",
       "    .dataframe tbody tr th:only-of-type {\n",
       "        vertical-align: middle;\n",
       "    }\n",
       "\n",
       "    .dataframe tbody tr th {\n",
       "        vertical-align: top;\n",
       "    }\n",
       "\n",
       "    .dataframe thead th {\n",
       "        text-align: right;\n",
       "    }\n",
       "</style>\n",
       "<table border=\"1\" class=\"dataframe\">\n",
       "  <thead>\n",
       "    <tr style=\"text-align: right;\">\n",
       "      <th></th>\n",
       "      <th>genre1</th>\n",
       "      <th>genre2</th>\n",
       "      <th>genre3</th>\n",
       "    </tr>\n",
       "  </thead>\n",
       "  <tbody>\n",
       "    <tr>\n",
       "      <th>56942</th>\n",
       "      <td>Comedy</td>\n",
       "      <td>Romance</td>\n",
       "      <td>None</td>\n",
       "    </tr>\n",
       "    <tr>\n",
       "      <th>55860</th>\n",
       "      <td>Action</td>\n",
       "      <td>Horror</td>\n",
       "      <td>Thriller</td>\n",
       "    </tr>\n",
       "    <tr>\n",
       "      <th>55736</th>\n",
       "      <td>Romance</td>\n",
       "      <td>None</td>\n",
       "      <td>None</td>\n",
       "    </tr>\n",
       "    <tr>\n",
       "      <th>78568</th>\n",
       "      <td>Comedy</td>\n",
       "      <td>Romance</td>\n",
       "      <td>None</td>\n",
       "    </tr>\n",
       "    <tr>\n",
       "      <th>35523</th>\n",
       "      <td>Action</td>\n",
       "      <td>Adventure</td>\n",
       "      <td>Drama</td>\n",
       "    </tr>\n",
       "    <tr>\n",
       "      <th>11650</th>\n",
       "      <td>Comedy</td>\n",
       "      <td>Music</td>\n",
       "      <td>None</td>\n",
       "    </tr>\n",
       "    <tr>\n",
       "      <th>72721</th>\n",
       "      <td>Drama</td>\n",
       "      <td>None</td>\n",
       "      <td>None</td>\n",
       "    </tr>\n",
       "    <tr>\n",
       "      <th>23742</th>\n",
       "      <td>Adventure</td>\n",
       "      <td>Comedy</td>\n",
       "      <td>Romance</td>\n",
       "    </tr>\n",
       "    <tr>\n",
       "      <th>23317</th>\n",
       "      <td>Drama</td>\n",
       "      <td>Romance</td>\n",
       "      <td>None</td>\n",
       "    </tr>\n",
       "    <tr>\n",
       "      <th>44662</th>\n",
       "      <td>Drama</td>\n",
       "      <td>None</td>\n",
       "      <td>None</td>\n",
       "    </tr>\n",
       "  </tbody>\n",
       "</table>\n",
       "</div>"
      ],
      "text/plain": [
       "          genre1      genre2     genre3\n",
       "56942     Comedy     Romance       None\n",
       "55860     Action      Horror   Thriller\n",
       "55736    Romance        None       None\n",
       "78568     Comedy     Romance       None\n",
       "35523     Action   Adventure      Drama\n",
       "11650     Comedy       Music       None\n",
       "72721      Drama        None       None\n",
       "23742  Adventure      Comedy    Romance\n",
       "23317      Drama     Romance       None\n",
       "44662      Drama        None       None"
      ]
     },
     "execution_count": 176,
     "metadata": {},
     "output_type": "execute_result"
    }
   ],
   "source": [
    "# Concatenate the split genre df to original df\n",
    "for i in range(len(genre_cols)):\n",
    "    mv.insert(loc=mv.columns.get_loc('genre') + 1 + i, column=genre_cols[i], value=genre_split.iloc[:, i])\n",
    "mv[['genre1','genre2','genre3']].sample(10)"
   ]
  },
  {
   "cell_type": "code",
   "execution_count": 177,
   "metadata": {},
   "outputs": [
    {
     "data": {
      "text/html": [
       "<div>\n",
       "<style scoped>\n",
       "    .dataframe tbody tr th:only-of-type {\n",
       "        vertical-align: middle;\n",
       "    }\n",
       "\n",
       "    .dataframe tbody tr th {\n",
       "        vertical-align: top;\n",
       "    }\n",
       "\n",
       "    .dataframe thead th {\n",
       "        text-align: right;\n",
       "    }\n",
       "</style>\n",
       "<table border=\"1\" class=\"dataframe\">\n",
       "  <thead>\n",
       "    <tr style=\"text-align: right;\">\n",
       "      <th></th>\n",
       "      <th>id</th>\n",
       "      <th>title</th>\n",
       "      <th>year</th>\n",
       "      <th>genre1</th>\n",
       "      <th>genre2</th>\n",
       "      <th>genre3</th>\n",
       "      <th>duration</th>\n",
       "      <th>country</th>\n",
       "      <th>language</th>\n",
       "      <th>director</th>\n",
       "      <th>writer</th>\n",
       "      <th>production_company</th>\n",
       "      <th>actors</th>\n",
       "      <th>description</th>\n",
       "      <th>avg_vote</th>\n",
       "      <th>votes</th>\n",
       "      <th>budget</th>\n",
       "      <th>usa_gross_income</th>\n",
       "      <th>worlwide_gross_income</th>\n",
       "      <th>metascore</th>\n",
       "      <th>reviews_from_users</th>\n",
       "      <th>reviews_from_critics</th>\n",
       "    </tr>\n",
       "  </thead>\n",
       "  <tbody>\n",
       "    <tr>\n",
       "      <th>24220</th>\n",
       "      <td>96071</td>\n",
       "      <td>The Serpent and the Rainbow</td>\n",
       "      <td>1988</td>\n",
       "      <td>Fantasy</td>\n",
       "      <td>Horror</td>\n",
       "      <td>None</td>\n",
       "      <td>98</td>\n",
       "      <td>USA</td>\n",
       "      <td>English, French, Spanish</td>\n",
       "      <td>Wes Craven</td>\n",
       "      <td>Wade Davis, Richard Maxwell</td>\n",
       "      <td>Universal Pictures</td>\n",
       "      <td>Bill Pullman, Cathy Tyson, Zakes Mokae, Paul W...</td>\n",
       "      <td>An anthropologist goes to Haiti after hearing ...</td>\n",
       "      <td>6.5</td>\n",
       "      <td>21560</td>\n",
       "      <td>$ 7000000</td>\n",
       "      <td>$ 19595031</td>\n",
       "      <td>$ 19595031</td>\n",
       "      <td>64.0</td>\n",
       "      <td>99.0</td>\n",
       "      <td>121.0</td>\n",
       "    </tr>\n",
       "    <tr>\n",
       "      <th>45724</th>\n",
       "      <td>415489</td>\n",
       "      <td>American Crude</td>\n",
       "      <td>2008</td>\n",
       "      <td>Comedy</td>\n",
       "      <td>Drama</td>\n",
       "      <td>None</td>\n",
       "      <td>96</td>\n",
       "      <td>USA</td>\n",
       "      <td>English</td>\n",
       "      <td>Craig Sheffer</td>\n",
       "      <td>Jeff Winiski, Mike Diiorio</td>\n",
       "      <td>Kramer Management</td>\n",
       "      <td>Raymond J. Barry, Aaron Brumfield, Gino Cabana...</td>\n",
       "      <td>The paths of several eccentric and troubled st...</td>\n",
       "      <td>3.7</td>\n",
       "      <td>1608</td>\n",
       "      <td>$ 10000000</td>\n",
       "      <td>NaN</td>\n",
       "      <td>NaN</td>\n",
       "      <td>NaN</td>\n",
       "      <td>17.0</td>\n",
       "      <td>8.0</td>\n",
       "    </tr>\n",
       "  </tbody>\n",
       "</table>\n",
       "</div>"
      ],
      "text/plain": [
       "           id                        title  year   genre1   genre2 genre3  \\\n",
       "24220   96071  The Serpent and the Rainbow  1988  Fantasy   Horror   None   \n",
       "45724  415489               American Crude  2008   Comedy    Drama   None   \n",
       "\n",
       "       duration country                  language       director  \\\n",
       "24220        98     USA  English, French, Spanish     Wes Craven   \n",
       "45724        96     USA                   English  Craig Sheffer   \n",
       "\n",
       "                            writer  production_company  \\\n",
       "24220  Wade Davis, Richard Maxwell  Universal Pictures   \n",
       "45724   Jeff Winiski, Mike Diiorio   Kramer Management   \n",
       "\n",
       "                                                  actors  \\\n",
       "24220  Bill Pullman, Cathy Tyson, Zakes Mokae, Paul W...   \n",
       "45724  Raymond J. Barry, Aaron Brumfield, Gino Cabana...   \n",
       "\n",
       "                                             description  avg_vote  votes  \\\n",
       "24220  An anthropologist goes to Haiti after hearing ...       6.5  21560   \n",
       "45724  The paths of several eccentric and troubled st...       3.7   1608   \n",
       "\n",
       "           budget usa_gross_income worlwide_gross_income  metascore  \\\n",
       "24220   $ 7000000       $ 19595031            $ 19595031       64.0   \n",
       "45724  $ 10000000              NaN                   NaN        NaN   \n",
       "\n",
       "       reviews_from_users  reviews_from_critics  \n",
       "24220                99.0                 121.0  \n",
       "45724                17.0                   8.0  "
      ]
     },
     "execution_count": 177,
     "metadata": {},
     "output_type": "execute_result"
    }
   ],
   "source": [
    "# Drop the column genre \n",
    "mv.drop(columns=['genre'],inplace=True)\n",
    "mv.sample(2)"
   ]
  },
  {
   "cell_type": "markdown",
   "metadata": {},
   "source": []
  },
  {
   "cell_type": "markdown",
   "metadata": {},
   "source": [
    "### Column: [duration]\n",
    "- the duration column has the run time for the movie in minutes which we will convert to hours"
   ]
  },
  {
   "cell_type": "code",
   "execution_count": 178,
   "metadata": {},
   "outputs": [
    {
     "data": {
      "text/plain": [
       "dtype('int64')"
      ]
     },
     "execution_count": 178,
     "metadata": {},
     "output_type": "execute_result"
    }
   ],
   "source": [
    "# Check the data type\n",
    "mv['duration'].dtype"
   ]
  },
  {
   "cell_type": "code",
   "execution_count": 179,
   "metadata": {},
   "outputs": [
    {
     "data": {
      "text/plain": [
       "array([ 45,  70,  53, 100,  68,  60,  85, 120,  55, 121,  54,  96,  61,\n",
       "        90,  50,  88,  72,  78, 148,  52, 124,  59,  63,  84,  65,  81,\n",
       "       199,  74,  80,  82,  67,  56, 195,  77,  71,  46, 421, 105,  57,\n",
       "        58,  73,  64,  62, 163, 300, 116,  69, 125,  97, 138, 112,  91,\n",
       "        87,  48,  83, 136,  75,  94, 117,  93,  76, 418,  86, 223,  99,\n",
       "       122, 207, 166,  95,  92,  66, 106, 145, 167,  79, 107, 109, 104,\n",
       "        89, 102, 150, 131,  47, 119,  98, 110, 143, 137, 128, 101, 183,\n",
       "       133, 135, 111, 141, 115, 153, 129, 123, 108, 155, 151, 170, 140,\n",
       "       113, 114, 250, 132, 118, 160, 240, 142, 103, 144,  49, 127, 156,\n",
       "       130, 165, 147, 152, 226, 227, 231, 218, 200, 210, 225, 243,  51,\n",
       "       281, 208, 306, 257, 245, 255, 328, 168, 269, 303, 290, 212, 224,\n",
       "       126, 260, 299, 264, 149, 211, 302, 238, 258, 263, 215, 265, 205,\n",
       "       237, 220, 285, 293, 267, 216, 241,  43, 134, 184, 261, 197, 244,\n",
       "       146, 177, 196, 154, 189, 219, 201, 180, 159, 192, 139, 171, 252,\n",
       "       193, 161, 242, 157, 182, 158, 172, 162, 173, 330, 164, 181, 169,\n",
       "       174, 179, 209, 178, 190, 228, 175, 186, 188, 191, 176, 185, 234,\n",
       "       232, 202, 221, 203, 253, 206, 239, 217, 187, 287, 204, 230, 317,\n",
       "       311, 442, 235, 275, 288, 194, 229, 410, 357, 335, 222, 214, 213,\n",
       "       271, 298, 439, 198,  41, 729, 345, 233, 580, 323, 315, 247, 366,\n",
       "       301, 262, 278, 540, 279,  44, 570, 369, 272, 450,  42, 321, 398,\n",
       "       360, 338, 319, 485, 808, 354])"
      ]
     },
     "execution_count": 179,
     "metadata": {},
     "output_type": "execute_result"
    }
   ],
   "source": [
    "mv['duration'].unique()"
   ]
  },
  {
   "cell_type": "code",
   "execution_count": 181,
   "metadata": {},
   "outputs": [
    {
     "data": {
      "text/plain": [
       "array([ 0.75,  1.17,  0.88,  1.67,  1.13,  1.  ,  1.42,  2.  ,  0.92,\n",
       "        2.02,  0.9 ,  1.6 ,  1.02,  1.5 ,  0.83,  1.47,  1.2 ,  1.3 ,\n",
       "        2.47,  0.87,  2.07,  0.98,  1.05,  1.4 ,  1.08,  1.35,  3.32,\n",
       "        1.23,  1.33,  1.37,  1.12,  0.93,  3.25,  1.28,  1.18,  0.77,\n",
       "        7.02,  1.75,  0.95,  0.97,  1.22,  1.07,  1.03,  2.72,  5.  ,\n",
       "        1.93,  1.15,  2.08,  1.62,  2.3 ,  1.87,  1.52,  1.45,  0.8 ,\n",
       "        1.38,  2.27,  1.25,  1.57,  1.95,  1.55,  1.27,  6.97,  1.43,\n",
       "        3.72,  1.65,  2.03,  3.45,  2.77,  1.58,  1.53,  1.1 ,  1.77,\n",
       "        2.42,  2.78,  1.32,  1.78,  1.82,  1.73,  1.48,  1.7 ,  2.5 ,\n",
       "        2.18,  0.78,  1.98,  1.63,  1.83,  2.38,  2.28,  2.13,  1.68,\n",
       "        3.05,  2.22,  2.25,  1.85,  2.35,  1.92,  2.55,  2.15,  2.05,\n",
       "        1.8 ,  2.58,  2.52,  2.83,  2.33,  1.88,  1.9 ,  4.17,  2.2 ,\n",
       "        1.97,  2.67,  4.  ,  2.37,  1.72,  2.4 ,  0.82,  2.12,  2.6 ,\n",
       "        2.17,  2.75,  2.45,  2.53,  3.77,  3.78,  3.85,  3.63,  3.33,\n",
       "        3.5 ,  3.75,  4.05,  0.85,  4.68,  3.47,  5.1 ,  4.28,  4.08,\n",
       "        4.25,  5.47,  2.8 ,  4.48,  5.05,  4.83,  3.53,  3.73,  2.1 ,\n",
       "        4.33,  4.98,  4.4 ,  2.48,  3.52,  5.03,  3.97,  4.3 ,  4.38,\n",
       "        3.58,  4.42,  3.42,  3.95,  3.67,  4.75,  4.88,  4.45,  3.6 ,\n",
       "        4.02,  0.72,  2.23,  3.07,  4.35,  3.28,  4.07,  2.43,  2.95,\n",
       "        3.27,  2.57,  3.15,  3.65,  3.35,  3.  ,  2.65,  3.2 ,  2.32,\n",
       "        2.85,  4.2 ,  3.22,  2.68,  4.03,  2.62,  3.03,  2.63,  2.87,\n",
       "        2.7 ,  2.88,  5.5 ,  2.73,  3.02,  2.82,  2.9 ,  2.98,  3.48,\n",
       "        2.97,  3.17,  3.8 ,  2.92,  3.1 ,  3.13,  3.18,  2.93,  3.08,\n",
       "        3.9 ,  3.87,  3.37,  3.68,  3.38,  4.22,  3.43,  3.98,  3.62,\n",
       "        3.12,  4.78,  3.4 ,  3.83,  5.28,  5.18,  7.37,  3.92,  4.58,\n",
       "        4.8 ,  3.23,  3.82,  6.83,  5.95,  5.58,  3.7 ,  3.57,  3.55,\n",
       "        4.52,  4.97,  7.32,  3.3 ,  0.68, 12.15,  5.75,  3.88,  9.67,\n",
       "        5.38,  5.25,  4.12,  6.1 ,  5.02,  4.37,  4.63,  9.  ,  4.65,\n",
       "        0.73,  9.5 ,  6.15,  4.53,  7.5 ,  0.7 ,  5.35,  6.63,  6.  ,\n",
       "        5.63,  5.32,  8.08, 13.47,  5.9 ])"
      ]
     },
     "execution_count": 181,
     "metadata": {},
     "output_type": "execute_result"
    }
   ],
   "source": [
    "# Convert the minutes in the duration column to hours\n",
    "mv['duration'] = (mv['duration']/60).round(2)\n",
    "mv['duration'].unique()"
   ]
  },
  {
   "cell_type": "markdown",
   "metadata": {},
   "source": [
    "#### Rename the column to duration(hours)"
   ]
  },
  {
   "cell_type": "code",
   "execution_count": 185,
   "metadata": {},
   "outputs": [
    {
     "data": {
      "text/html": [
       "<div>\n",
       "<style scoped>\n",
       "    .dataframe tbody tr th:only-of-type {\n",
       "        vertical-align: middle;\n",
       "    }\n",
       "\n",
       "    .dataframe tbody tr th {\n",
       "        vertical-align: top;\n",
       "    }\n",
       "\n",
       "    .dataframe thead th {\n",
       "        text-align: right;\n",
       "    }\n",
       "</style>\n",
       "<table border=\"1\" class=\"dataframe\">\n",
       "  <thead>\n",
       "    <tr style=\"text-align: right;\">\n",
       "      <th></th>\n",
       "      <th>duration(hours)</th>\n",
       "    </tr>\n",
       "  </thead>\n",
       "  <tbody>\n",
       "    <tr>\n",
       "      <th>81085</th>\n",
       "      <td>2.37</td>\n",
       "    </tr>\n",
       "    <tr>\n",
       "      <th>64744</th>\n",
       "      <td>1.67</td>\n",
       "    </tr>\n",
       "    <tr>\n",
       "      <th>67134</th>\n",
       "      <td>1.50</td>\n",
       "    </tr>\n",
       "    <tr>\n",
       "      <th>63350</th>\n",
       "      <td>1.40</td>\n",
       "    </tr>\n",
       "    <tr>\n",
       "      <th>32027</th>\n",
       "      <td>1.80</td>\n",
       "    </tr>\n",
       "    <tr>\n",
       "      <th>7746</th>\n",
       "      <td>1.45</td>\n",
       "    </tr>\n",
       "    <tr>\n",
       "      <th>82400</th>\n",
       "      <td>1.82</td>\n",
       "    </tr>\n",
       "    <tr>\n",
       "      <th>57538</th>\n",
       "      <td>1.65</td>\n",
       "    </tr>\n",
       "    <tr>\n",
       "      <th>53356</th>\n",
       "      <td>1.48</td>\n",
       "    </tr>\n",
       "    <tr>\n",
       "      <th>60713</th>\n",
       "      <td>1.43</td>\n",
       "    </tr>\n",
       "  </tbody>\n",
       "</table>\n",
       "</div>"
      ],
      "text/plain": [
       "       duration(hours)\n",
       "81085             2.37\n",
       "64744             1.67\n",
       "67134             1.50\n",
       "63350             1.40\n",
       "32027             1.80\n",
       "7746              1.45\n",
       "82400             1.82\n",
       "57538             1.65\n",
       "53356             1.48\n",
       "60713             1.43"
      ]
     },
     "execution_count": 185,
     "metadata": {},
     "output_type": "execute_result"
    }
   ],
   "source": [
    "# Rename the column to duration(hours)\n",
    "mv.rename(columns={'duration': 'duration(hours)'},inplace=True)\n",
    "mv[['duration(hours)']].sample(10)"
   ]
  }
 ],
 "metadata": {
  "kernelspec": {
   "display_name": "Python 3",
   "language": "python",
   "name": "python3"
  },
  "language_info": {
   "codemirror_mode": {
    "name": "ipython",
    "version": 3
   },
   "file_extension": ".py",
   "mimetype": "text/x-python",
   "name": "python",
   "nbconvert_exporter": "python",
   "pygments_lexer": "ipython3",
   "version": "3.12.1"
  }
 },
 "nbformat": 4,
 "nbformat_minor": 2
}
